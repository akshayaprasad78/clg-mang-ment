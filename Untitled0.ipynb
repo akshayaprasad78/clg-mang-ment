{
  "nbformat": 4,
  "nbformat_minor": 0,
  "metadata": {
    "colab": {
      "provenance": [],
      "authorship_tag": "ABX9TyN/UEnS3Xd+FRDgyLvvQftx",
      "include_colab_link": true
    },
    "kernelspec": {
      "name": "python3",
      "display_name": "Python 3"
    },
    "language_info": {
      "name": "python"
    }
  },
  "cells": [
    {
      "cell_type": "markdown",
      "metadata": {
        "id": "view-in-github",
        "colab_type": "text"
      },
      "source": [
        "<a href=\"https://colab.research.google.com/github/akshayaprasad78/clg-mang-ment/blob/gh-pages/Untitled0.ipynb\" target=\"_parent\"><img src=\"https://colab.research.google.com/assets/colab-badge.svg\" alt=\"Open In Colab\"/></a>"
      ]
    },
    {
      "cell_type": "markdown",
      "source": [
        "**Movie Recommendation System**\n",
        "\n",
        "\n",
        "\n",
        "\n",
        "---\n",
        "\n"
      ],
      "metadata": {
        "id": "HTzYVRbasbkV"
      }
    },
    {
      "cell_type": "markdown",
      "source": [
        "\n",
        "**Recommender System** is a system that seeks to predict or filter preference according to the user's choices.Recommendater systems are utilized in a variety of areas including movies,music,news,books,books,research,articles,search queries,social tags,and products in general recommender system produce a list of recommendation \\s in any of the two ways-\n",
        "\n",
        "**Collaborative filtering:**It approaches bulid a model from the users a model from the users past behaviour(i.e.items purchased or searched by the user)as well as similar decision made by othger users.This model is then used to predict items\n",
        "(or ratings fot items)that users may have an interest in.\n",
        "\n",
        "**Content-based filtering**:It approaches uses a series of discrete characterstics of an item in order to recommend additional items with similar properties.Content-based filtering methods are totally based on a description  of the item and a profile of the users oerferences.It recommends items based on the users past perference.Let's develpo a basic rcommendation system using Python and Pandas.\n",
        "\n",
        "Let's develoop a basic recommendation system by suggesting items that are most similae to particular item,in this c ase,movies.It just tells what movie/items are most similar to user's movie choice"
      ],
      "metadata": {
        "id": "7RU4sNRZttzj"
      }
    },
    {
      "cell_type": "markdown",
      "source": [
        "**Import Library**"
      ],
      "metadata": {
        "id": "AIXNyZK-4i4r"
      }
    },
    {
      "cell_type": "code",
      "source": [
        "import pandas as pd\n"
      ],
      "metadata": {
        "id": "a8AmHQGK4H-X"
      },
      "execution_count": 1,
      "outputs": []
    },
    {
      "cell_type": "code",
      "source": [
        "import numpy as np\n"
      ],
      "metadata": {
        "id": "exBTP8XB4Oq5"
      },
      "execution_count": 2,
      "outputs": []
    },
    {
      "cell_type": "markdown",
      "source": [
        "**Import Dataset**"
      ],
      "metadata": {
        "id": "vda_KmRq4qCe"
      }
    },
    {
      "cell_type": "code",
      "source": [
        "df=pd.read_csv(r\"https://github.com/YBI-Foundation/Dataset/raw/main/Movies%20Recommendation.csv\")"
      ],
      "metadata": {
        "id": "DRyYQe4A4wyB"
      },
      "execution_count": 4,
      "outputs": []
    },
    {
      "cell_type": "code",
      "source": [
        "df.head()"
      ],
      "metadata": {
        "colab": {
          "base_uri": "https://localhost:8080/",
          "height": 716
        },
        "id": "eg4gVM_U7tqM",
        "outputId": "a4d2dabb-ac6d-41ff-b01c-b0499c7ada02"
      },
      "execution_count": 5,
      "outputs": [
        {
          "output_type": "execute_result",
          "data": {
            "text/plain": [
              "   Movie_ID      Movie_Title                       Movie_Genre Movie_Language  \\\n",
              "0         1       Four Rooms                      Crime Comedy             en   \n",
              "1         2        Star Wars  Adventure Action Science Fiction             en   \n",
              "2         3     Finding Nemo                  Animation Family             en   \n",
              "3         4     Forrest Gump              Comedy Drama Romance             en   \n",
              "4         5  American Beauty                             Drama             en   \n",
              "\n",
              "   Movie_Budget  Movie_Popularity Movie_Release_Date  Movie_Revenue  \\\n",
              "0       4000000         22.876230         09-12-1995        4300000   \n",
              "1      11000000        126.393695         25-05-1977      775398007   \n",
              "2      94000000         85.688789         30-05-2003      940335536   \n",
              "3      55000000        138.133331         06-07-1994      677945399   \n",
              "4      15000000         80.878605         15-09-1999      356296601   \n",
              "\n",
              "   Movie_Runtime  Movie_Vote  ...  \\\n",
              "0           98.0         6.5  ...   \n",
              "1          121.0         8.1  ...   \n",
              "2          100.0         7.6  ...   \n",
              "3          142.0         8.2  ...   \n",
              "4          122.0         7.9  ...   \n",
              "\n",
              "                                      Movie_Homepage  \\\n",
              "0                                                NaN   \n",
              "1  http://www.starwars.com/films/star-wars-episod...   \n",
              "2              http://movies.disney.com/finding-nemo   \n",
              "3                                                NaN   \n",
              "4                      http://www.dreamworks.com/ab/   \n",
              "\n",
              "                                      Movie_Keywords  \\\n",
              "0          hotel new year's eve witch bet hotel room   \n",
              "1        android galaxy hermit death star lightsaber   \n",
              "2  father son relationship harbor underwater fish...   \n",
              "3  vietnam veteran hippie mentally disabled runni...   \n",
              "4  male nudity female nudity adultery midlife cri...   \n",
              "\n",
              "                                      Movie_Overview  \\\n",
              "0  It's Ted the Bellhop's first night on the job....   \n",
              "1  Princess Leia is captured and held hostage by ...   \n",
              "2  Nemo, an adventurous young clownfish, is unexp...   \n",
              "3  A man with a low IQ has accomplished great thi...   \n",
              "4  Lester Burnham, a depressed suburban father in...   \n",
              "\n",
              "                              Movie_Production_House  \\\n",
              "0  [{\"name\": \"Miramax Films\", \"id\": 14}, {\"name\":...   \n",
              "1  [{\"name\": \"Lucasfilm\", \"id\": 1}, {\"name\": \"Twe...   \n",
              "2     [{\"name\": \"Pixar Animation Studios\", \"id\": 3}]   \n",
              "3          [{\"name\": \"Paramount Pictures\", \"id\": 4}]   \n",
              "4  [{\"name\": \"DreamWorks SKG\", \"id\": 27}, {\"name\"...   \n",
              "\n",
              "                            Movie_Production_Country  \\\n",
              "0  [{\"iso_3166_1\": \"US\", \"name\": \"United States o...   \n",
              "1  [{\"iso_3166_1\": \"US\", \"name\": \"United States o...   \n",
              "2  [{\"iso_3166_1\": \"US\", \"name\": \"United States o...   \n",
              "3  [{\"iso_3166_1\": \"US\", \"name\": \"United States o...   \n",
              "4  [{\"iso_3166_1\": \"US\", \"name\": \"United States o...   \n",
              "\n",
              "                      Movie_Spoken_Language  \\\n",
              "0  [{\"iso_639_1\": \"en\", \"name\": \"English\"}]   \n",
              "1  [{\"iso_639_1\": \"en\", \"name\": \"English\"}]   \n",
              "2  [{\"iso_639_1\": \"en\", \"name\": \"English\"}]   \n",
              "3  [{\"iso_639_1\": \"en\", \"name\": \"English\"}]   \n",
              "4  [{\"iso_639_1\": \"en\", \"name\": \"English\"}]   \n",
              "\n",
              "                                       Movie_Tagline  \\\n",
              "0  Twelve outrageous guests. Four scandalous requ...   \n",
              "1       A long time ago in a galaxy far, far away...   \n",
              "2  There are 3.7 trillion fish in the ocean, they...   \n",
              "3  The world will never be the same, once you've ...   \n",
              "4                                       Look closer.   \n",
              "\n",
              "                                          Movie_Cast  \\\n",
              "0  Tim Roth Antonio Banderas Jennifer Beals Madon...   \n",
              "1  Mark Hamill Harrison Ford Carrie Fisher Peter ...   \n",
              "2  Albert Brooks Ellen DeGeneres Alexander Gould ...   \n",
              "3  Tom Hanks Robin Wright Gary Sinise Mykelti Wil...   \n",
              "4  Kevin Spacey Annette Bening Thora Birch Wes Be...   \n",
              "\n",
              "                                          Movie_Crew   Movie_Director  \n",
              "0  [{'name': 'Allison Anders', 'gender': 1, 'depa...   Allison Anders  \n",
              "1  [{'name': 'George Lucas', 'gender': 2, 'depart...     George Lucas  \n",
              "2  [{'name': 'Andrew Stanton', 'gender': 2, 'depa...   Andrew Stanton  \n",
              "3  [{'name': 'Alan Silvestri', 'gender': 2, 'depa...  Robert Zemeckis  \n",
              "4  [{'name': 'Thomas Newman', 'gender': 2, 'depar...       Sam Mendes  \n",
              "\n",
              "[5 rows x 21 columns]"
            ],
            "text/html": [
              "\n",
              "  <div id=\"df-693f57dc-ace5-42cd-bcaf-29b4fa71a26a\">\n",
              "    <div class=\"colab-df-container\">\n",
              "      <div>\n",
              "<style scoped>\n",
              "    .dataframe tbody tr th:only-of-type {\n",
              "        vertical-align: middle;\n",
              "    }\n",
              "\n",
              "    .dataframe tbody tr th {\n",
              "        vertical-align: top;\n",
              "    }\n",
              "\n",
              "    .dataframe thead th {\n",
              "        text-align: right;\n",
              "    }\n",
              "</style>\n",
              "<table border=\"1\" class=\"dataframe\">\n",
              "  <thead>\n",
              "    <tr style=\"text-align: right;\">\n",
              "      <th></th>\n",
              "      <th>Movie_ID</th>\n",
              "      <th>Movie_Title</th>\n",
              "      <th>Movie_Genre</th>\n",
              "      <th>Movie_Language</th>\n",
              "      <th>Movie_Budget</th>\n",
              "      <th>Movie_Popularity</th>\n",
              "      <th>Movie_Release_Date</th>\n",
              "      <th>Movie_Revenue</th>\n",
              "      <th>Movie_Runtime</th>\n",
              "      <th>Movie_Vote</th>\n",
              "      <th>...</th>\n",
              "      <th>Movie_Homepage</th>\n",
              "      <th>Movie_Keywords</th>\n",
              "      <th>Movie_Overview</th>\n",
              "      <th>Movie_Production_House</th>\n",
              "      <th>Movie_Production_Country</th>\n",
              "      <th>Movie_Spoken_Language</th>\n",
              "      <th>Movie_Tagline</th>\n",
              "      <th>Movie_Cast</th>\n",
              "      <th>Movie_Crew</th>\n",
              "      <th>Movie_Director</th>\n",
              "    </tr>\n",
              "  </thead>\n",
              "  <tbody>\n",
              "    <tr>\n",
              "      <th>0</th>\n",
              "      <td>1</td>\n",
              "      <td>Four Rooms</td>\n",
              "      <td>Crime Comedy</td>\n",
              "      <td>en</td>\n",
              "      <td>4000000</td>\n",
              "      <td>22.876230</td>\n",
              "      <td>09-12-1995</td>\n",
              "      <td>4300000</td>\n",
              "      <td>98.0</td>\n",
              "      <td>6.5</td>\n",
              "      <td>...</td>\n",
              "      <td>NaN</td>\n",
              "      <td>hotel new year's eve witch bet hotel room</td>\n",
              "      <td>It's Ted the Bellhop's first night on the job....</td>\n",
              "      <td>[{\"name\": \"Miramax Films\", \"id\": 14}, {\"name\":...</td>\n",
              "      <td>[{\"iso_3166_1\": \"US\", \"name\": \"United States o...</td>\n",
              "      <td>[{\"iso_639_1\": \"en\", \"name\": \"English\"}]</td>\n",
              "      <td>Twelve outrageous guests. Four scandalous requ...</td>\n",
              "      <td>Tim Roth Antonio Banderas Jennifer Beals Madon...</td>\n",
              "      <td>[{'name': 'Allison Anders', 'gender': 1, 'depa...</td>\n",
              "      <td>Allison Anders</td>\n",
              "    </tr>\n",
              "    <tr>\n",
              "      <th>1</th>\n",
              "      <td>2</td>\n",
              "      <td>Star Wars</td>\n",
              "      <td>Adventure Action Science Fiction</td>\n",
              "      <td>en</td>\n",
              "      <td>11000000</td>\n",
              "      <td>126.393695</td>\n",
              "      <td>25-05-1977</td>\n",
              "      <td>775398007</td>\n",
              "      <td>121.0</td>\n",
              "      <td>8.1</td>\n",
              "      <td>...</td>\n",
              "      <td>http://www.starwars.com/films/star-wars-episod...</td>\n",
              "      <td>android galaxy hermit death star lightsaber</td>\n",
              "      <td>Princess Leia is captured and held hostage by ...</td>\n",
              "      <td>[{\"name\": \"Lucasfilm\", \"id\": 1}, {\"name\": \"Twe...</td>\n",
              "      <td>[{\"iso_3166_1\": \"US\", \"name\": \"United States o...</td>\n",
              "      <td>[{\"iso_639_1\": \"en\", \"name\": \"English\"}]</td>\n",
              "      <td>A long time ago in a galaxy far, far away...</td>\n",
              "      <td>Mark Hamill Harrison Ford Carrie Fisher Peter ...</td>\n",
              "      <td>[{'name': 'George Lucas', 'gender': 2, 'depart...</td>\n",
              "      <td>George Lucas</td>\n",
              "    </tr>\n",
              "    <tr>\n",
              "      <th>2</th>\n",
              "      <td>3</td>\n",
              "      <td>Finding Nemo</td>\n",
              "      <td>Animation Family</td>\n",
              "      <td>en</td>\n",
              "      <td>94000000</td>\n",
              "      <td>85.688789</td>\n",
              "      <td>30-05-2003</td>\n",
              "      <td>940335536</td>\n",
              "      <td>100.0</td>\n",
              "      <td>7.6</td>\n",
              "      <td>...</td>\n",
              "      <td>http://movies.disney.com/finding-nemo</td>\n",
              "      <td>father son relationship harbor underwater fish...</td>\n",
              "      <td>Nemo, an adventurous young clownfish, is unexp...</td>\n",
              "      <td>[{\"name\": \"Pixar Animation Studios\", \"id\": 3}]</td>\n",
              "      <td>[{\"iso_3166_1\": \"US\", \"name\": \"United States o...</td>\n",
              "      <td>[{\"iso_639_1\": \"en\", \"name\": \"English\"}]</td>\n",
              "      <td>There are 3.7 trillion fish in the ocean, they...</td>\n",
              "      <td>Albert Brooks Ellen DeGeneres Alexander Gould ...</td>\n",
              "      <td>[{'name': 'Andrew Stanton', 'gender': 2, 'depa...</td>\n",
              "      <td>Andrew Stanton</td>\n",
              "    </tr>\n",
              "    <tr>\n",
              "      <th>3</th>\n",
              "      <td>4</td>\n",
              "      <td>Forrest Gump</td>\n",
              "      <td>Comedy Drama Romance</td>\n",
              "      <td>en</td>\n",
              "      <td>55000000</td>\n",
              "      <td>138.133331</td>\n",
              "      <td>06-07-1994</td>\n",
              "      <td>677945399</td>\n",
              "      <td>142.0</td>\n",
              "      <td>8.2</td>\n",
              "      <td>...</td>\n",
              "      <td>NaN</td>\n",
              "      <td>vietnam veteran hippie mentally disabled runni...</td>\n",
              "      <td>A man with a low IQ has accomplished great thi...</td>\n",
              "      <td>[{\"name\": \"Paramount Pictures\", \"id\": 4}]</td>\n",
              "      <td>[{\"iso_3166_1\": \"US\", \"name\": \"United States o...</td>\n",
              "      <td>[{\"iso_639_1\": \"en\", \"name\": \"English\"}]</td>\n",
              "      <td>The world will never be the same, once you've ...</td>\n",
              "      <td>Tom Hanks Robin Wright Gary Sinise Mykelti Wil...</td>\n",
              "      <td>[{'name': 'Alan Silvestri', 'gender': 2, 'depa...</td>\n",
              "      <td>Robert Zemeckis</td>\n",
              "    </tr>\n",
              "    <tr>\n",
              "      <th>4</th>\n",
              "      <td>5</td>\n",
              "      <td>American Beauty</td>\n",
              "      <td>Drama</td>\n",
              "      <td>en</td>\n",
              "      <td>15000000</td>\n",
              "      <td>80.878605</td>\n",
              "      <td>15-09-1999</td>\n",
              "      <td>356296601</td>\n",
              "      <td>122.0</td>\n",
              "      <td>7.9</td>\n",
              "      <td>...</td>\n",
              "      <td>http://www.dreamworks.com/ab/</td>\n",
              "      <td>male nudity female nudity adultery midlife cri...</td>\n",
              "      <td>Lester Burnham, a depressed suburban father in...</td>\n",
              "      <td>[{\"name\": \"DreamWorks SKG\", \"id\": 27}, {\"name\"...</td>\n",
              "      <td>[{\"iso_3166_1\": \"US\", \"name\": \"United States o...</td>\n",
              "      <td>[{\"iso_639_1\": \"en\", \"name\": \"English\"}]</td>\n",
              "      <td>Look closer.</td>\n",
              "      <td>Kevin Spacey Annette Bening Thora Birch Wes Be...</td>\n",
              "      <td>[{'name': 'Thomas Newman', 'gender': 2, 'depar...</td>\n",
              "      <td>Sam Mendes</td>\n",
              "    </tr>\n",
              "  </tbody>\n",
              "</table>\n",
              "<p>5 rows × 21 columns</p>\n",
              "</div>\n",
              "      <button class=\"colab-df-convert\" onclick=\"convertToInteractive('df-693f57dc-ace5-42cd-bcaf-29b4fa71a26a')\"\n",
              "              title=\"Convert this dataframe to an interactive table.\"\n",
              "              style=\"display:none;\">\n",
              "        \n",
              "  <svg xmlns=\"http://www.w3.org/2000/svg\" height=\"24px\"viewBox=\"0 0 24 24\"\n",
              "       width=\"24px\">\n",
              "    <path d=\"M0 0h24v24H0V0z\" fill=\"none\"/>\n",
              "    <path d=\"M18.56 5.44l.94 2.06.94-2.06 2.06-.94-2.06-.94-.94-2.06-.94 2.06-2.06.94zm-11 1L8.5 8.5l.94-2.06 2.06-.94-2.06-.94L8.5 2.5l-.94 2.06-2.06.94zm10 10l.94 2.06.94-2.06 2.06-.94-2.06-.94-.94-2.06-.94 2.06-2.06.94z\"/><path d=\"M17.41 7.96l-1.37-1.37c-.4-.4-.92-.59-1.43-.59-.52 0-1.04.2-1.43.59L10.3 9.45l-7.72 7.72c-.78.78-.78 2.05 0 2.83L4 21.41c.39.39.9.59 1.41.59.51 0 1.02-.2 1.41-.59l7.78-7.78 2.81-2.81c.8-.78.8-2.07 0-2.86zM5.41 20L4 18.59l7.72-7.72 1.47 1.35L5.41 20z\"/>\n",
              "  </svg>\n",
              "      </button>\n",
              "      \n",
              "  <style>\n",
              "    .colab-df-container {\n",
              "      display:flex;\n",
              "      flex-wrap:wrap;\n",
              "      gap: 12px;\n",
              "    }\n",
              "\n",
              "    .colab-df-convert {\n",
              "      background-color: #E8F0FE;\n",
              "      border: none;\n",
              "      border-radius: 50%;\n",
              "      cursor: pointer;\n",
              "      display: none;\n",
              "      fill: #1967D2;\n",
              "      height: 32px;\n",
              "      padding: 0 0 0 0;\n",
              "      width: 32px;\n",
              "    }\n",
              "\n",
              "    .colab-df-convert:hover {\n",
              "      background-color: #E2EBFA;\n",
              "      box-shadow: 0px 1px 2px rgba(60, 64, 67, 0.3), 0px 1px 3px 1px rgba(60, 64, 67, 0.15);\n",
              "      fill: #174EA6;\n",
              "    }\n",
              "\n",
              "    [theme=dark] .colab-df-convert {\n",
              "      background-color: #3B4455;\n",
              "      fill: #D2E3FC;\n",
              "    }\n",
              "\n",
              "    [theme=dark] .colab-df-convert:hover {\n",
              "      background-color: #434B5C;\n",
              "      box-shadow: 0px 1px 3px 1px rgba(0, 0, 0, 0.15);\n",
              "      filter: drop-shadow(0px 1px 2px rgba(0, 0, 0, 0.3));\n",
              "      fill: #FFFFFF;\n",
              "    }\n",
              "  </style>\n",
              "\n",
              "      <script>\n",
              "        const buttonEl =\n",
              "          document.querySelector('#df-693f57dc-ace5-42cd-bcaf-29b4fa71a26a button.colab-df-convert');\n",
              "        buttonEl.style.display =\n",
              "          google.colab.kernel.accessAllowed ? 'block' : 'none';\n",
              "\n",
              "        async function convertToInteractive(key) {\n",
              "          const element = document.querySelector('#df-693f57dc-ace5-42cd-bcaf-29b4fa71a26a');\n",
              "          const dataTable =\n",
              "            await google.colab.kernel.invokeFunction('convertToInteractive',\n",
              "                                                     [key], {});\n",
              "          if (!dataTable) return;\n",
              "\n",
              "          const docLinkHtml = 'Like what you see? Visit the ' +\n",
              "            '<a target=\"_blank\" href=https://colab.research.google.com/notebooks/data_table.ipynb>data table notebook</a>'\n",
              "            + ' to learn more about interactive tables.';\n",
              "          element.innerHTML = '';\n",
              "          dataTable['output_type'] = 'display_data';\n",
              "          await google.colab.output.renderOutput(dataTable, element);\n",
              "          const docLink = document.createElement('div');\n",
              "          docLink.innerHTML = docLinkHtml;\n",
              "          element.appendChild(docLink);\n",
              "        }\n",
              "      </script>\n",
              "    </div>\n",
              "  </div>\n",
              "  "
            ]
          },
          "metadata": {},
          "execution_count": 5
        }
      ]
    },
    {
      "cell_type": "code",
      "source": [
        "df.info()"
      ],
      "metadata": {
        "colab": {
          "base_uri": "https://localhost:8080/"
        },
        "id": "m7wpct7U-W_7",
        "outputId": "7c76fe39-9d41-4bc0-cd79-97bd44310e26"
      },
      "execution_count": 6,
      "outputs": [
        {
          "output_type": "stream",
          "name": "stdout",
          "text": [
            "<class 'pandas.core.frame.DataFrame'>\n",
            "RangeIndex: 4760 entries, 0 to 4759\n",
            "Data columns (total 21 columns):\n",
            " #   Column                    Non-Null Count  Dtype  \n",
            "---  ------                    --------------  -----  \n",
            " 0   Movie_ID                  4760 non-null   int64  \n",
            " 1   Movie_Title               4760 non-null   object \n",
            " 2   Movie_Genre               4760 non-null   object \n",
            " 3   Movie_Language            4760 non-null   object \n",
            " 4   Movie_Budget              4760 non-null   int64  \n",
            " 5   Movie_Popularity          4760 non-null   float64\n",
            " 6   Movie_Release_Date        4760 non-null   object \n",
            " 7   Movie_Revenue             4760 non-null   int64  \n",
            " 8   Movie_Runtime             4758 non-null   float64\n",
            " 9   Movie_Vote                4760 non-null   float64\n",
            " 10  Movie_Vote_Count          4760 non-null   int64  \n",
            " 11  Movie_Homepage            1699 non-null   object \n",
            " 12  Movie_Keywords            4373 non-null   object \n",
            " 13  Movie_Overview            4757 non-null   object \n",
            " 14  Movie_Production_House    4760 non-null   object \n",
            " 15  Movie_Production_Country  4760 non-null   object \n",
            " 16  Movie_Spoken_Language     4760 non-null   object \n",
            " 17  Movie_Tagline             3942 non-null   object \n",
            " 18  Movie_Cast                4733 non-null   object \n",
            " 19  Movie_Crew                4760 non-null   object \n",
            " 20  Movie_Director            4738 non-null   object \n",
            "dtypes: float64(3), int64(4), object(14)\n",
            "memory usage: 781.1+ KB\n"
          ]
        }
      ]
    },
    {
      "cell_type": "code",
      "source": [
        "df.shape"
      ],
      "metadata": {
        "colab": {
          "base_uri": "https://localhost:8080/"
        },
        "id": "sBY2Ec_o-lGl",
        "outputId": "33d2116b-e582-42be-ce80-93f4e5704090"
      },
      "execution_count": 7,
      "outputs": [
        {
          "output_type": "execute_result",
          "data": {
            "text/plain": [
              "(4760, 21)"
            ]
          },
          "metadata": {},
          "execution_count": 7
        }
      ]
    },
    {
      "cell_type": "code",
      "source": [
        "df.columns"
      ],
      "metadata": {
        "colab": {
          "base_uri": "https://localhost:8080/"
        },
        "id": "I2fnvGty-xP7",
        "outputId": "7507e0bc-6bed-4afb-ec91-7ff48aa43e25"
      },
      "execution_count": 8,
      "outputs": [
        {
          "output_type": "execute_result",
          "data": {
            "text/plain": [
              "Index(['Movie_ID', 'Movie_Title', 'Movie_Genre', 'Movie_Language',\n",
              "       'Movie_Budget', 'Movie_Popularity', 'Movie_Release_Date',\n",
              "       'Movie_Revenue', 'Movie_Runtime', 'Movie_Vote', 'Movie_Vote_Count',\n",
              "       'Movie_Homepage', 'Movie_Keywords', 'Movie_Overview',\n",
              "       'Movie_Production_House', 'Movie_Production_Country',\n",
              "       'Movie_Spoken_Language', 'Movie_Tagline', 'Movie_Cast', 'Movie_Crew',\n",
              "       'Movie_Director'],\n",
              "      dtype='object')"
            ]
          },
          "metadata": {},
          "execution_count": 8
        }
      ]
    },
    {
      "cell_type": "markdown",
      "source": [
        "**Get Feature Selection**"
      ],
      "metadata": {
        "id": "hx9wCEgm_DwM"
      }
    },
    {
      "cell_type": "code",
      "source": [
        "df_features = df[['Movie_Genre','Movie_Keywords','Movie_Tagline','Movie_Cast','Movie_Director']].fillna('')"
      ],
      "metadata": {
        "id": "Tyurvqa0_JvZ"
      },
      "execution_count": 9,
      "outputs": []
    },
    {
      "cell_type": "code",
      "source": [
        "df_features.shape"
      ],
      "metadata": {
        "colab": {
          "base_uri": "https://localhost:8080/"
        },
        "id": "mNetTw9LCF_O",
        "outputId": "e671f422-690a-469d-8bb6-ddacda76f210"
      },
      "execution_count": 10,
      "outputs": [
        {
          "output_type": "execute_result",
          "data": {
            "text/plain": [
              "(4760, 5)"
            ]
          },
          "metadata": {},
          "execution_count": 10
        }
      ]
    },
    {
      "cell_type": "code",
      "source": [
        "df_features"
      ],
      "metadata": {
        "colab": {
          "base_uri": "https://localhost:8080/",
          "height": 467
        },
        "id": "FHYiQk0RCRHU",
        "outputId": "d0b7aada-4742-4d65-bc0c-365d350cf1d6"
      },
      "execution_count": 11,
      "outputs": [
        {
          "output_type": "execute_result",
          "data": {
            "text/plain": [
              "                           Movie_Genre  \\\n",
              "0                         Crime Comedy   \n",
              "1     Adventure Action Science Fiction   \n",
              "2                     Animation Family   \n",
              "3                 Comedy Drama Romance   \n",
              "4                                Drama   \n",
              "...                                ...   \n",
              "4755                            Horror   \n",
              "4756               Comedy Family Drama   \n",
              "4757                    Thriller Drama   \n",
              "4758                            Family   \n",
              "4759                       Documentary   \n",
              "\n",
              "                                         Movie_Keywords  \\\n",
              "0             hotel new year's eve witch bet hotel room   \n",
              "1           android galaxy hermit death star lightsaber   \n",
              "2     father son relationship harbor underwater fish...   \n",
              "3     vietnam veteran hippie mentally disabled runni...   \n",
              "4     male nudity female nudity adultery midlife cri...   \n",
              "...                                                 ...   \n",
              "4755                                                      \n",
              "4756                                                      \n",
              "4757                     christian film sex trafficking   \n",
              "4758                                                      \n",
              "4759  music actors legendary perfomer classic hollyw...   \n",
              "\n",
              "                                          Movie_Tagline  \\\n",
              "0     Twelve outrageous guests. Four scandalous requ...   \n",
              "1          A long time ago in a galaxy far, far away...   \n",
              "2     There are 3.7 trillion fish in the ocean, they...   \n",
              "3     The world will never be the same, once you've ...   \n",
              "4                                          Look closer.   \n",
              "...                                                 ...   \n",
              "4755                The hot spot where Satan's waitin'.   \n",
              "4756           It’s better to stand out than to fit in.   \n",
              "4757           She never knew it could happen to her...   \n",
              "4758                                                      \n",
              "4759                                                      \n",
              "\n",
              "                                             Movie_Cast     Movie_Director  \n",
              "0     Tim Roth Antonio Banderas Jennifer Beals Madon...     Allison Anders  \n",
              "1     Mark Hamill Harrison Ford Carrie Fisher Peter ...       George Lucas  \n",
              "2     Albert Brooks Ellen DeGeneres Alexander Gould ...     Andrew Stanton  \n",
              "3     Tom Hanks Robin Wright Gary Sinise Mykelti Wil...    Robert Zemeckis  \n",
              "4     Kevin Spacey Annette Bening Thora Birch Wes Be...         Sam Mendes  \n",
              "...                                                 ...                ...  \n",
              "4755  Lisa Hart Carroll Michael Des Barres Paul Drak...         Pece Dingo  \n",
              "4756  Roni Akurati Brighton Sharbino Jason Lee Anjul...       Frank Lotito  \n",
              "4757  Nicole Smolen Kim Baldwin Ariana Stephens Brys...       Jaco Booyens  \n",
              "4758                                                                        \n",
              "4759                                    Tony Oppedisano  Simon Napier-Bell  \n",
              "\n",
              "[4760 rows x 5 columns]"
            ],
            "text/html": [
              "\n",
              "  <div id=\"df-f2d769f5-3f10-49a9-88cc-42bc2779c71f\">\n",
              "    <div class=\"colab-df-container\">\n",
              "      <div>\n",
              "<style scoped>\n",
              "    .dataframe tbody tr th:only-of-type {\n",
              "        vertical-align: middle;\n",
              "    }\n",
              "\n",
              "    .dataframe tbody tr th {\n",
              "        vertical-align: top;\n",
              "    }\n",
              "\n",
              "    .dataframe thead th {\n",
              "        text-align: right;\n",
              "    }\n",
              "</style>\n",
              "<table border=\"1\" class=\"dataframe\">\n",
              "  <thead>\n",
              "    <tr style=\"text-align: right;\">\n",
              "      <th></th>\n",
              "      <th>Movie_Genre</th>\n",
              "      <th>Movie_Keywords</th>\n",
              "      <th>Movie_Tagline</th>\n",
              "      <th>Movie_Cast</th>\n",
              "      <th>Movie_Director</th>\n",
              "    </tr>\n",
              "  </thead>\n",
              "  <tbody>\n",
              "    <tr>\n",
              "      <th>0</th>\n",
              "      <td>Crime Comedy</td>\n",
              "      <td>hotel new year's eve witch bet hotel room</td>\n",
              "      <td>Twelve outrageous guests. Four scandalous requ...</td>\n",
              "      <td>Tim Roth Antonio Banderas Jennifer Beals Madon...</td>\n",
              "      <td>Allison Anders</td>\n",
              "    </tr>\n",
              "    <tr>\n",
              "      <th>1</th>\n",
              "      <td>Adventure Action Science Fiction</td>\n",
              "      <td>android galaxy hermit death star lightsaber</td>\n",
              "      <td>A long time ago in a galaxy far, far away...</td>\n",
              "      <td>Mark Hamill Harrison Ford Carrie Fisher Peter ...</td>\n",
              "      <td>George Lucas</td>\n",
              "    </tr>\n",
              "    <tr>\n",
              "      <th>2</th>\n",
              "      <td>Animation Family</td>\n",
              "      <td>father son relationship harbor underwater fish...</td>\n",
              "      <td>There are 3.7 trillion fish in the ocean, they...</td>\n",
              "      <td>Albert Brooks Ellen DeGeneres Alexander Gould ...</td>\n",
              "      <td>Andrew Stanton</td>\n",
              "    </tr>\n",
              "    <tr>\n",
              "      <th>3</th>\n",
              "      <td>Comedy Drama Romance</td>\n",
              "      <td>vietnam veteran hippie mentally disabled runni...</td>\n",
              "      <td>The world will never be the same, once you've ...</td>\n",
              "      <td>Tom Hanks Robin Wright Gary Sinise Mykelti Wil...</td>\n",
              "      <td>Robert Zemeckis</td>\n",
              "    </tr>\n",
              "    <tr>\n",
              "      <th>4</th>\n",
              "      <td>Drama</td>\n",
              "      <td>male nudity female nudity adultery midlife cri...</td>\n",
              "      <td>Look closer.</td>\n",
              "      <td>Kevin Spacey Annette Bening Thora Birch Wes Be...</td>\n",
              "      <td>Sam Mendes</td>\n",
              "    </tr>\n",
              "    <tr>\n",
              "      <th>...</th>\n",
              "      <td>...</td>\n",
              "      <td>...</td>\n",
              "      <td>...</td>\n",
              "      <td>...</td>\n",
              "      <td>...</td>\n",
              "    </tr>\n",
              "    <tr>\n",
              "      <th>4755</th>\n",
              "      <td>Horror</td>\n",
              "      <td></td>\n",
              "      <td>The hot spot where Satan's waitin'.</td>\n",
              "      <td>Lisa Hart Carroll Michael Des Barres Paul Drak...</td>\n",
              "      <td>Pece Dingo</td>\n",
              "    </tr>\n",
              "    <tr>\n",
              "      <th>4756</th>\n",
              "      <td>Comedy Family Drama</td>\n",
              "      <td></td>\n",
              "      <td>It’s better to stand out than to fit in.</td>\n",
              "      <td>Roni Akurati Brighton Sharbino Jason Lee Anjul...</td>\n",
              "      <td>Frank Lotito</td>\n",
              "    </tr>\n",
              "    <tr>\n",
              "      <th>4757</th>\n",
              "      <td>Thriller Drama</td>\n",
              "      <td>christian film sex trafficking</td>\n",
              "      <td>She never knew it could happen to her...</td>\n",
              "      <td>Nicole Smolen Kim Baldwin Ariana Stephens Brys...</td>\n",
              "      <td>Jaco Booyens</td>\n",
              "    </tr>\n",
              "    <tr>\n",
              "      <th>4758</th>\n",
              "      <td>Family</td>\n",
              "      <td></td>\n",
              "      <td></td>\n",
              "      <td></td>\n",
              "      <td></td>\n",
              "    </tr>\n",
              "    <tr>\n",
              "      <th>4759</th>\n",
              "      <td>Documentary</td>\n",
              "      <td>music actors legendary perfomer classic hollyw...</td>\n",
              "      <td></td>\n",
              "      <td>Tony Oppedisano</td>\n",
              "      <td>Simon Napier-Bell</td>\n",
              "    </tr>\n",
              "  </tbody>\n",
              "</table>\n",
              "<p>4760 rows × 5 columns</p>\n",
              "</div>\n",
              "      <button class=\"colab-df-convert\" onclick=\"convertToInteractive('df-f2d769f5-3f10-49a9-88cc-42bc2779c71f')\"\n",
              "              title=\"Convert this dataframe to an interactive table.\"\n",
              "              style=\"display:none;\">\n",
              "        \n",
              "  <svg xmlns=\"http://www.w3.org/2000/svg\" height=\"24px\"viewBox=\"0 0 24 24\"\n",
              "       width=\"24px\">\n",
              "    <path d=\"M0 0h24v24H0V0z\" fill=\"none\"/>\n",
              "    <path d=\"M18.56 5.44l.94 2.06.94-2.06 2.06-.94-2.06-.94-.94-2.06-.94 2.06-2.06.94zm-11 1L8.5 8.5l.94-2.06 2.06-.94-2.06-.94L8.5 2.5l-.94 2.06-2.06.94zm10 10l.94 2.06.94-2.06 2.06-.94-2.06-.94-.94-2.06-.94 2.06-2.06.94z\"/><path d=\"M17.41 7.96l-1.37-1.37c-.4-.4-.92-.59-1.43-.59-.52 0-1.04.2-1.43.59L10.3 9.45l-7.72 7.72c-.78.78-.78 2.05 0 2.83L4 21.41c.39.39.9.59 1.41.59.51 0 1.02-.2 1.41-.59l7.78-7.78 2.81-2.81c.8-.78.8-2.07 0-2.86zM5.41 20L4 18.59l7.72-7.72 1.47 1.35L5.41 20z\"/>\n",
              "  </svg>\n",
              "      </button>\n",
              "      \n",
              "  <style>\n",
              "    .colab-df-container {\n",
              "      display:flex;\n",
              "      flex-wrap:wrap;\n",
              "      gap: 12px;\n",
              "    }\n",
              "\n",
              "    .colab-df-convert {\n",
              "      background-color: #E8F0FE;\n",
              "      border: none;\n",
              "      border-radius: 50%;\n",
              "      cursor: pointer;\n",
              "      display: none;\n",
              "      fill: #1967D2;\n",
              "      height: 32px;\n",
              "      padding: 0 0 0 0;\n",
              "      width: 32px;\n",
              "    }\n",
              "\n",
              "    .colab-df-convert:hover {\n",
              "      background-color: #E2EBFA;\n",
              "      box-shadow: 0px 1px 2px rgba(60, 64, 67, 0.3), 0px 1px 3px 1px rgba(60, 64, 67, 0.15);\n",
              "      fill: #174EA6;\n",
              "    }\n",
              "\n",
              "    [theme=dark] .colab-df-convert {\n",
              "      background-color: #3B4455;\n",
              "      fill: #D2E3FC;\n",
              "    }\n",
              "\n",
              "    [theme=dark] .colab-df-convert:hover {\n",
              "      background-color: #434B5C;\n",
              "      box-shadow: 0px 1px 3px 1px rgba(0, 0, 0, 0.15);\n",
              "      filter: drop-shadow(0px 1px 2px rgba(0, 0, 0, 0.3));\n",
              "      fill: #FFFFFF;\n",
              "    }\n",
              "  </style>\n",
              "\n",
              "      <script>\n",
              "        const buttonEl =\n",
              "          document.querySelector('#df-f2d769f5-3f10-49a9-88cc-42bc2779c71f button.colab-df-convert');\n",
              "        buttonEl.style.display =\n",
              "          google.colab.kernel.accessAllowed ? 'block' : 'none';\n",
              "\n",
              "        async function convertToInteractive(key) {\n",
              "          const element = document.querySelector('#df-f2d769f5-3f10-49a9-88cc-42bc2779c71f');\n",
              "          const dataTable =\n",
              "            await google.colab.kernel.invokeFunction('convertToInteractive',\n",
              "                                                     [key], {});\n",
              "          if (!dataTable) return;\n",
              "\n",
              "          const docLinkHtml = 'Like what you see? Visit the ' +\n",
              "            '<a target=\"_blank\" href=https://colab.research.google.com/notebooks/data_table.ipynb>data table notebook</a>'\n",
              "            + ' to learn more about interactive tables.';\n",
              "          element.innerHTML = '';\n",
              "          dataTable['output_type'] = 'display_data';\n",
              "          await google.colab.output.renderOutput(dataTable, element);\n",
              "          const docLink = document.createElement('div');\n",
              "          docLink.innerHTML = docLinkHtml;\n",
              "          element.appendChild(docLink);\n",
              "        }\n",
              "      </script>\n",
              "    </div>\n",
              "  </div>\n",
              "  "
            ]
          },
          "metadata": {},
          "execution_count": 11
        }
      ]
    },
    {
      "cell_type": "code",
      "source": [
        "x=df_features['Movie_Genre']+''+df_features['Movie_Keywords']+''+df_features['Movie_Tagline']+''+df_features['Movie_Cast']+''+df_features['Movie_Director']"
      ],
      "metadata": {
        "id": "s3aoC6HICziT"
      },
      "execution_count": 12,
      "outputs": []
    },
    {
      "cell_type": "code",
      "source": [
        "x"
      ],
      "metadata": {
        "colab": {
          "base_uri": "https://localhost:8080/"
        },
        "id": "nhtFOkmdEaY3",
        "outputId": "ab535e7a-4952-40b2-bc5d-a4772435fe29"
      },
      "execution_count": 13,
      "outputs": [
        {
          "output_type": "execute_result",
          "data": {
            "text/plain": [
              "0       Crime Comedyhotel new year's eve witch bet hot...\n",
              "1       Adventure Action Science Fictionandroid galaxy...\n",
              "2       Animation Familyfather son relationship harbor...\n",
              "3       Comedy Drama Romancevietnam veteran hippie men...\n",
              "4       Dramamale nudity female nudity adultery midlif...\n",
              "                              ...                        \n",
              "4755    HorrorThe hot spot where Satan's waitin'.Lisa ...\n",
              "4756    Comedy Family DramaIt’s better to stand out th...\n",
              "4757    Thriller Dramachristian film sex traffickingSh...\n",
              "4758                                               Family\n",
              "4759    Documentarymusic actors legendary perfomer cla...\n",
              "Length: 4760, dtype: object"
            ]
          },
          "metadata": {},
          "execution_count": 13
        }
      ]
    },
    {
      "cell_type": "code",
      "source": [
        "x.shape"
      ],
      "metadata": {
        "colab": {
          "base_uri": "https://localhost:8080/"
        },
        "id": "iPl-xsqFEei-",
        "outputId": "5b0a15b5-046e-437d-f324-76318ee68410"
      },
      "execution_count": 14,
      "outputs": [
        {
          "output_type": "execute_result",
          "data": {
            "text/plain": [
              "(4760,)"
            ]
          },
          "metadata": {},
          "execution_count": 14
        }
      ]
    },
    {
      "cell_type": "markdown",
      "source": [
        "**Get Feature Text Conversion to Tokens**"
      ],
      "metadata": {
        "id": "fwZ0QrklEvpL"
      }
    },
    {
      "cell_type": "code",
      "source": [
        "from sklearn.feature_extraction.text import TfidfVectorizer"
      ],
      "metadata": {
        "id": "je66GB_FFAWX"
      },
      "execution_count": 15,
      "outputs": []
    },
    {
      "cell_type": "code",
      "source": [
        "tfidf=TfidfVectorizer()"
      ],
      "metadata": {
        "id": "RIA4rOZGFYiV"
      },
      "execution_count": 16,
      "outputs": []
    },
    {
      "cell_type": "code",
      "source": [
        "x=tfidf.fit_transform(x)"
      ],
      "metadata": {
        "id": "FtAi49wKFnac"
      },
      "execution_count": 17,
      "outputs": []
    },
    {
      "cell_type": "code",
      "source": [
        "x.shape"
      ],
      "metadata": {
        "colab": {
          "base_uri": "https://localhost:8080/"
        },
        "id": "AFEym7L9F9tT",
        "outputId": "7d1e86aa-6034-42e4-80b2-204d67e5ff5b"
      },
      "execution_count": 18,
      "outputs": [
        {
          "output_type": "execute_result",
          "data": {
            "text/plain": [
              "(4760, 27466)"
            ]
          },
          "metadata": {},
          "execution_count": 18
        }
      ]
    },
    {
      "cell_type": "code",
      "source": [
        "print(x)"
      ],
      "metadata": {
        "colab": {
          "base_uri": "https://localhost:8080/"
        },
        "id": "xU-cmDnLGB5P",
        "outputId": "0d000cf1-6b34-4108-81a1-080446910c87"
      },
      "execution_count": 19,
      "outputs": [
        {
          "output_type": "stream",
          "name": "stdout",
          "text": [
            "  (0, 1028)\t0.16196019146631543\n",
            "  (0, 24785)\t0.1954632929283795\n",
            "  (0, 15844)\t0.14205053053187272\n",
            "  (0, 15553)\t0.17099186675469502\n",
            "  (0, 2132)\t0.18002354204307464\n",
            "  (0, 13312)\t0.09914387783149516\n",
            "  (0, 1887)\t0.14106037409792174\n",
            "  (0, 1216)\t0.13920306109638164\n",
            "  (0, 21158)\t0.14205053053187272\n",
            "  (0, 24701)\t0.11357423942624927\n",
            "  (0, 14943)\t0.091376722056839\n",
            "  (0, 18098)\t0.06200430666985742\n",
            "  (0, 26738)\t0.175053052455033\n",
            "  (0, 9790)\t0.08712552095655665\n",
            "  (0, 26675)\t0.1116831168780693\n",
            "  (0, 13401)\t0.13748876529263096\n",
            "  (0, 24105)\t0.10726395493180996\n",
            "  (0, 18192)\t0.07278761942152372\n",
            "  (0, 6172)\t0.11970212451073885\n",
            "  (0, 9626)\t0.11757910435818826\n",
            "  (0, 11960)\t0.20134029899961134\n",
            "  (0, 12801)\t0.1530338818199682\n",
            "  (0, 2292)\t0.1954632929283795\n",
            "  (0, 15172)\t0.1537691763994982\n",
            "  (0, 18196)\t0.08579029869987485\n",
            "  :\t:\n",
            "  (4757, 1839)\t0.19327629083107672\n",
            "  (4757, 5410)\t0.19734759150400596\n",
            "  (4757, 11350)\t0.21582294886514122\n",
            "  (4757, 22017)\t0.1646400247918531\n",
            "  (4757, 17789)\t0.18881341937258544\n",
            "  (4757, 9484)\t0.1411164779725638\n",
            "  (4757, 14176)\t0.2330831990045816\n",
            "  (4757, 11762)\t0.17321388936472645\n",
            "  (4757, 14052)\t0.1776312353410007\n",
            "  (4757, 24232)\t0.10947784435203887\n",
            "  (4757, 24746)\t0.09744940789814222\n",
            "  (4757, 13079)\t0.12400374714145113\n",
            "  (4757, 17721)\t0.1489085353667712\n",
            "  (4758, 8651)\t1.0\n",
            "  (4759, 18229)\t0.33527342183765224\n",
            "  (4759, 22434)\t0.33527342183765224\n",
            "  (4759, 18841)\t0.33527342183765224\n",
            "  (4759, 6950)\t0.33527342183765224\n",
            "  (4759, 345)\t0.31978160936741457\n",
            "  (4759, 14742)\t0.31978160936741457\n",
            "  (4759, 12139)\t0.2778063685558062\n",
            "  (4759, 4446)\t0.282306565154911\n",
            "  (4759, 17552)\t0.3087899934962816\n",
            "  (4759, 9955)\t0.21805075638656476\n",
            "  (4759, 2285)\t0.21465229435984196\n"
          ]
        }
      ]
    },
    {
      "cell_type": "markdown",
      "source": [
        "**Get Similarity Score using Cosine Similarity**\n",
        "\n",
        "cosine_similarity computes the L2-normalized dot product of vector Euclidean(L2)normalization projects the vectors onto the unit  sphere,and their dot product is then the cosine of the angle between the points denoted by the vectors"
      ],
      "metadata": {
        "id": "PWnQgl2lGiGB"
      }
    },
    {
      "cell_type": "code",
      "source": [
        "from sklearn.metrics.pairwise import cosine_similarity"
      ],
      "metadata": {
        "id": "ZTCWtfupHyz6"
      },
      "execution_count": 20,
      "outputs": []
    },
    {
      "cell_type": "code",
      "source": [
        "similarity_Score=cosine_similarity(x)"
      ],
      "metadata": {
        "id": "0UM3br_kIZYm"
      },
      "execution_count": 21,
      "outputs": []
    },
    {
      "cell_type": "code",
      "source": [
        "similarity_Score"
      ],
      "metadata": {
        "colab": {
          "base_uri": "https://localhost:8080/"
        },
        "id": "z6Apc29NIjqB",
        "outputId": "d9cf0c58-d8e6-48b6-cf21-7ea87199d8c1"
      },
      "execution_count": 22,
      "outputs": [
        {
          "output_type": "execute_result",
          "data": {
            "text/plain": [
              "array([[1.        , 0.01438634, 0.03807033, ..., 0.        , 0.        ,\n",
              "        0.        ],\n",
              "       [0.01438634, 1.        , 0.00844858, ..., 0.        , 0.        ,\n",
              "        0.        ],\n",
              "       [0.03807033, 0.00844858, 1.        , ..., 0.        , 0.        ,\n",
              "        0.        ],\n",
              "       ...,\n",
              "       [0.        , 0.        , 0.        , ..., 1.        , 0.        ,\n",
              "        0.        ],\n",
              "       [0.        , 0.        , 0.        , ..., 0.        , 1.        ,\n",
              "        0.        ],\n",
              "       [0.        , 0.        , 0.        , ..., 0.        , 0.        ,\n",
              "        1.        ]])"
            ]
          },
          "metadata": {},
          "execution_count": 22
        }
      ]
    },
    {
      "cell_type": "code",
      "source": [
        "similarity_Score.shape"
      ],
      "metadata": {
        "colab": {
          "base_uri": "https://localhost:8080/"
        },
        "id": "e4NmQ-alJPnt",
        "outputId": "726caed9-a141-40e3-8b20-edd43a41287e"
      },
      "execution_count": 23,
      "outputs": [
        {
          "output_type": "execute_result",
          "data": {
            "text/plain": [
              "(4760, 4760)"
            ]
          },
          "metadata": {},
          "execution_count": 23
        }
      ]
    },
    {
      "cell_type": "markdown",
      "source": [
        "**Get Movie Name as Input from User and Validate for Closet Spelling**"
      ],
      "metadata": {
        "id": "_y2mNG00JcN0"
      }
    },
    {
      "cell_type": "code",
      "source": [
        "Favourite_Movie_Name=input('Enter your favourite movie name:')"
      ],
      "metadata": {
        "colab": {
          "base_uri": "https://localhost:8080/"
        },
        "id": "QS6DBmZbJ6Nl",
        "outputId": "e84f8343-8db0-43f3-e9c7-b4ec733a9332"
      },
      "execution_count": 24,
      "outputs": [
        {
          "name": "stdout",
          "output_type": "stream",
          "text": [
            "Enter your favourite movie name:three\n"
          ]
        }
      ]
    },
    {
      "cell_type": "code",
      "source": [
        "All_Movie_Title_List=df['Movie_Title'].tolist()"
      ],
      "metadata": {
        "id": "a-YwryjjKi62"
      },
      "execution_count": 25,
      "outputs": []
    },
    {
      "cell_type": "code",
      "source": [
        "import difflib"
      ],
      "metadata": {
        "id": "bkM-0B9LKjRh"
      },
      "execution_count": 26,
      "outputs": []
    },
    {
      "cell_type": "code",
      "source": [
        "Movie_Recommendation=difflib.get_close_matches(Favourite_Movie_Name,All_Movie_Title_List)\n",
        "print(Movie_Recommendation)"
      ],
      "metadata": {
        "colab": {
          "base_uri": "https://localhost:8080/"
        },
        "id": "ayiKqeaMK4yA",
        "outputId": "97b31ce9-a541-47f7-fc11-e8561748f5e6"
      },
      "execution_count": 27,
      "outputs": [
        {
          "output_type": "stream",
          "name": "stdout",
          "text": [
            "['Three', 'Thirteen', 'Thr3e']\n"
          ]
        }
      ]
    },
    {
      "cell_type": "code",
      "source": [
        "Close_Match=Movie_Recommendation[0]\n",
        "print(Close_Match)"
      ],
      "metadata": {
        "colab": {
          "base_uri": "https://localhost:8080/"
        },
        "id": "CQOYnvQRK4_q",
        "outputId": "8d9db79e-8081-4194-e73d-ff28ee8f3236"
      },
      "execution_count": 28,
      "outputs": [
        {
          "output_type": "stream",
          "name": "stdout",
          "text": [
            "Three\n"
          ]
        }
      ]
    },
    {
      "cell_type": "code",
      "source": [
        "Index_of_Close_Match_Movie=df[df.Movie_Title==Close_Match][\"Movie_ID\"].values[0]\n",
        "print(Index_of_Close_Match_Movie)"
      ],
      "metadata": {
        "colab": {
          "base_uri": "https://localhost:8080/"
        },
        "id": "JpJsUBNFLp1U",
        "outputId": "4a1c5c09-e3e0-4f73-8e82-2ab0888bf381"
      },
      "execution_count": 29,
      "outputs": [
        {
          "output_type": "stream",
          "name": "stdout",
          "text": [
            "3529\n"
          ]
        }
      ]
    },
    {
      "cell_type": "code",
      "source": [
        "# getting a list of similar movies\n",
        "Recommendation_Score = list(enumerate(similarity_Score[Index_of_Close_Match_Movie]))\n",
        "print(Recommendation_Score)"
      ],
      "metadata": {
        "colab": {
          "base_uri": "https://localhost:8080/"
        },
        "id": "R9m9LsmvMhMK",
        "outputId": "6a6222f3-d10c-46a8-db5b-50440477bd33"
      },
      "execution_count": 30,
      "outputs": [
        {
          "output_type": "stream",
          "name": "stdout",
          "text": [
            "[(0, 0.04649379176443639), (1, 0.010458157418684689), (2, 0.00999800986386911), (3, 0.004644261369219222), (4, 0.0), (5, 0.0), (6, 0.0), (7, 0.0), (8, 0.0), (9, 0.0), (10, 0.0), (11, 0.0), (12, 0.0), (13, 0.0), (14, 0.004993731317857023), (15, 0.03375595321394931), (16, 0.0), (17, 0.0), (18, 0.0), (19, 0.0), (20, 0.0), (21, 0.0), (22, 0.04179417494050215), (23, 0.0), (24, 0.013898099623717115), (25, 0.0045458606064423595), (26, 0.0), (27, 0.0), (28, 0.005514273291039626), (29, 0.0), (30, 0.032533735696525734), (31, 0.037933101716734946), (32, 0.0), (33, 0.0), (34, 0.0), (35, 0.0), (36, 0.0), (37, 0.0182310849134686), (38, 0.006021869997328312), (39, 0.0), (40, 0.006085994695243254), (41, 0.0), (42, 0.005398362352455877), (43, 0.010334594636948113), (44, 0.0), (45, 0.005095199494393432), (46, 0.0), (47, 0.0), (48, 0.0), (49, 0.0), (50, 0.005294555309187891), (51, 0.0), (52, 0.0), (53, 0.005073855503267594), (54, 0.0), (55, 0.0), (56, 0.0), (57, 0.0), (58, 0.0), (59, 0.0), (60, 0.017456209707292208), (61, 0.048383902095159824), (62, 0.0), (63, 0.0), (64, 0.0), (65, 0.0), (66, 0.0), (67, 0.0), (68, 0.0), (69, 0.0), (70, 0.012188215333677447), (71, 0.0), (72, 0.0), (73, 0.005058852688572049), (74, 0.0), (75, 0.010274774314391838), (76, 0.009921509949653105), (77, 0.01516881116068965), (78, 0.0), (79, 0.0), (80, 0.0), (81, 0.0), (82, 0.00428361749454456), (83, 0.0), (84, 0.0), (85, 0.0), (86, 0.014647915026185914), (87, 0.011797547517091465), (88, 0.00964479408631654), (89, 0.0), (90, 0.0), (91, 0.004732944652514732), (92, 0.04175305305434572), (93, 0.0), (94, 0.0), (95, 0.0), (96, 0.02187734438666709), (97, 0.017566298952671325), (98, 0.0), (99, 0.0), (100, 0.0), (101, 0.0), (102, 0.034348441107273545), (103, 0.0049313457113632575), (104, 0.0), (105, 0.0), (106, 0.0), (107, 0.0), (108, 0.0), (109, 0.0), (110, 0.005493943701044244), (111, 0.0), (112, 0.0), (113, 0.018494690417380773), (114, 0.0053230369603917025), (115, 0.005517474345076731), (116, 0.0), (117, 0.0), (118, 0.0), (119, 0.0), (120, 0.0), (121, 0.010852065075955078), (122, 0.010585712680959852), (123, 0.0), (124, 0.06787728177283156), (125, 0.0), (126, 0.0), (127, 0.0), (128, 0.0), (129, 0.0038249131939389223), (130, 0.0), (131, 0.0), (132, 0.011015203685757442), (133, 0.0), (134, 0.005671004401391729), (135, 0.0), (136, 0.0), (137, 0.0), (138, 0.0), (139, 0.005980862338374331), (140, 0.0), (141, 0.0), (142, 0.0), (143, 0.012940352561181114), (144, 0.0), (145, 0.0), (146, 0.005835970071073761), (147, 0.0), (148, 0.0), (149, 0.0), (150, 0.011496709308549822), (151, 0.0), (152, 0.011364233836226726), (153, 0.006415022298869197), (154, 0.0), (155, 0.008703635876855364), (156, 0.01387359046612055), (157, 0.0052312416271390804), (158, 0.0), (159, 0.0), (160, 0.0), (161, 0.00487673359772558), (162, 0.0), (163, 0.0), (164, 0.0), (165, 0.0), (166, 0.0), (167, 0.010940925390199219), (168, 0.04428148986475952), (169, 0.005529142195319809), (170, 0.0), (171, 0.0), (172, 0.0), (173, 0.0), (174, 0.005559358886803633), (175, 0.004646246129397535), (176, 0.034189424624505), (177, 0.0), (178, 0.0), (179, 0.0), (180, 0.0), (181, 0.0), (182, 0.005440183616326436), (183, 0.03670402118070142), (184, 0.0), (185, 0.005072810055990342), (186, 0.0), (187, 0.0), (188, 0.005308813463563791), (189, 0.0), (190, 0.0), (191, 0.010460214411785896), (192, 0.0), (193, 0.0), (194, 0.010199522403680272), (195, 0.0046466750474103025), (196, 0.0), (197, 0.005226413876533636), (198, 0.0), (199, 0.0), (200, 0.0), (201, 0.0), (202, 0.011211395781843537), (203, 0.022062320250618366), (204, 0.0), (205, 0.0), (206, 0.0), (207, 0.022575837584532705), (208, 0.0), (209, 0.0), (210, 0.0), (211, 0.010853462438811336), (212, 0.01575448940480515), (213, 0.0), (214, 0.005036557003235861), (215, 0.005172957194713002), (216, 0.0), (217, 0.005187838371303622), (218, 0.010713305630335582), (219, 0.005606867908651992), (220, 0.0), (221, 0.0), (222, 0.017750225981897023), (223, 0.011293724980860224), (224, 0.0), (225, 0.019769186881118943), (226, 0.0376482240981749), (227, 0.0), (228, 0.0), (229, 0.0), (230, 0.0), (231, 0.01193810760051821), (232, 0.0), (233, 0.0), (234, 0.0), (235, 0.0), (236, 0.0), (237, 0.009396188628718388), (238, 0.005486891604417987), (239, 0.012095736319529697), (240, 0.01089235807915041), (241, 0.0), (242, 0.0), (243, 0.0), (244, 0.0), (245, 0.005682820657150657), (246, 0.01110928469114225), (247, 0.0), (248, 0.0), (249, 0.0), (250, 0.0), (251, 0.010261724616934708), (252, 0.0), (253, 0.005938483303581582), (254, 0.0), (255, 0.0), (256, 0.0), (257, 0.0), (258, 0.0), (259, 0.0), (260, 0.03658127937805255), (261, 0.0), (262, 0.0), (263, 0.005182519590804576), (264, 0.005490785913061585), (265, 0.0), (266, 0.008945034306294833), (267, 0.0), (268, 0.07722437726543718), (269, 0.009958485502037255), (270, 0.0311573583863107), (271, 0.009200210844053229), (272, 0.0), (273, 0.03457843818532637), (274, 0.0), (275, 0.0), (276, 0.0), (277, 0.0), (278, 0.004865485093100066), (279, 0.01573334505825147), (280, 0.0), (281, 0.0), (282, 0.0), (283, 0.014331395456126593), (284, 0.010826434949423494), (285, 0.010508568128987), (286, 0.0), (287, 0.0), (288, 0.0), (289, 0.0), (290, 0.0), (291, 0.0), (292, 0.0), (293, 0.0), (294, 0.0), (295, 0.0), (296, 0.0), (297, 0.0), (298, 0.0121742411465093), (299, 0.0), (300, 0.023890739336496613), (301, 0.0), (302, 0.0), (303, 0.0), (304, 0.0), (305, 0.0), (306, 0.0), (307, 0.0), (308, 0.0), (309, 0.009444897188982372), (310, 0.0), (311, 0.015865622972132416), (312, 0.005591537580417608), (313, 0.0), (314, 0.0), (315, 0.0), (316, 0.0), (317, 0.01031237131036577), (318, 0.0058622626485599835), (319, 0.013997903127555325), (320, 0.020604617112227133), (321, 0.0), (322, 0.0), (323, 0.02823948807895651), (324, 0.01843732549046521), (325, 0.0051633147662281074), (326, 0.0), (327, 0.01056261463528485), (328, 0.0), (329, 0.0), (330, 0.0), (331, 0.0055169249839823265), (332, 0.0), (333, 0.0), (334, 0.0), (335, 0.0), (336, 0.004038059093481883), (337, 0.037963991177786094), (338, 0.04420433733699299), (339, 0.041554865187110324), (340, 0.027187680106709407), (341, 0.03572667144775964), (342, 0.012399200251802292), (343, 0.0), (344, 0.011334087185278254), (345, 0.03492306382836789), (346, 0.005347884883326262), (347, 0.0), (348, 0.0), (349, 0.0), (350, 0.005929781730505018), (351, 0.013540440846725815), (352, 0.010619300943075186), (353, 0.0), (354, 0.0), (355, 0.0217560113190782), (356, 0.011012992358146075), (357, 0.004834675934241943), (358, 0.0), (359, 0.0), (360, 0.0), (361, 0.005651356562494667), (362, 0.0182551958242706), (363, 0.005747201776852176), (364, 0.0), (365, 0.006037283610295145), (366, 0.0), (367, 0.0050440392385840745), (368, 0.006224634554148002), (369, 0.004210084296512916), (370, 0.0), (371, 0.0), (372, 0.0), (373, 0.011233804414994246), (374, 0.0), (375, 0.0), (376, 0.03250794975558598), (377, 0.017138154344735663), (378, 0.0), (379, 0.0), (380, 0.0), (381, 0.0), (382, 0.0), (383, 0.005010733138362221), (384, 0.0), (385, 0.0059737952109792545), (386, 0.0), (387, 0.0), (388, 0.0), (389, 0.0), (390, 0.054259410820189424), (391, 0.0064828491236097715), (392, 0.005710131784196159), (393, 0.0), (394, 0.0), (395, 0.0), (396, 0.0), (397, 0.0), (398, 0.03770105395060572), (399, 0.0), (400, 0.0), (401, 0.005677125506300625), (402, 0.0), (403, 0.010074529218455057), (404, 0.016883594281029434), (405, 0.005662243911003271), (406, 0.0), (407, 0.016109130793464713), (408, 0.0), (409, 0.03627887986140228), (410, 0.0), (411, 0.0), (412, 0.0), (413, 0.011190222715055905), (414, 0.0), (415, 0.005669628174600791), (416, 0.004926405220075066), (417, 0.004969308503291024), (418, 0.005725715570103644), (419, 0.0), (420, 0.0), (421, 0.004348459550253029), (422, 0.0), (423, 0.0), (424, 0.0), (425, 0.0), (426, 0.0), (427, 0.005381098642632458), (428, 0.018405689880604828), (429, 0.0), (430, 0.012023267984132358), (431, 0.0), (432, 0.0), (433, 0.0), (434, 0.0), (435, 0.0), (436, 0.0), (437, 0.0), (438, 0.0), (439, 0.03167962946213733), (440, 0.03539887338437249), (441, 0.0), (442, 0.0), (443, 0.0), (444, 0.0), (445, 0.0), (446, 0.0), (447, 0.0), (448, 0.013676570584596797), (449, 0.0), (450, 0.0), (451, 0.0), (452, 0.0), (453, 0.0), (454, 0.0), (455, 0.00817750095188178), (456, 0.011479794403768848), (457, 0.03350963567316674), (458, 0.0), (459, 0.0), (460, 0.0), (461, 0.0061774027320753155), (462, 0.0), (463, 0.0), (464, 0.0), (465, 0.010697706432661902), (466, 0.0), (467, 0.019757902318594228), (468, 0.0), (469, 0.033272928251726654), (470, 0.0), (471, 0.0352848464529318), (472, 0.0), (473, 0.005310286515293565), (474, 0.005674216836475319), (475, 0.0), (476, 0.0), (477, 0.0), (478, 0.0), (479, 0.005548768271470856), (480, 0.0), (481, 0.0), (482, 0.0), (483, 0.0), (484, 0.0), (485, 0.0), (486, 0.0), (487, 0.0), (488, 0.0), (489, 0.0), (490, 0.0), (491, 0.0), (492, 0.0), (493, 0.0), (494, 0.016875628199761974), (495, 0.0), (496, 0.010145839036351483), (497, 0.004775311199154408), (498, 0.017122474488296707), (499, 0.0), (500, 0.0), (501, 0.0), (502, 0.0), (503, 0.005368772993566847), (504, 0.005512483742550177), (505, 0.005233720117603866), (506, 0.0), (507, 0.02970937835925487), (508, 0.018718628617604333), (509, 0.0), (510, 0.004315453456196709), (511, 0.0), (512, 0.0284704829832716), (513, 0.0), (514, 0.0), (515, 0.004975946060673016), (516, 0.0), (517, 0.0), (518, 0.0), (519, 0.0), (520, 0.004654754637736829), (521, 0.05063980232865628), (522, 0.0), (523, 0.0), (524, 0.010685238538655816), (525, 0.025844668695806317), (526, 0.0), (527, 0.0), (528, 0.005458499520271139), (529, 0.005451962883961686), (530, 0.022590702794585596), (531, 0.006173697881088201), (532, 0.016560865820234708), (533, 0.0), (534, 0.0), (535, 0.0), (536, 0.0), (537, 0.0), (538, 0.014875567983384703), (539, 0.0), (540, 0.0), (541, 0.0), (542, 0.008475515645815718), (543, 0.0), (544, 0.0), (545, 0.014850198563062328), (546, 0.0051085875356924665), (547, 0.0), (548, 0.028342014666045814), (549, 0.0), (550, 0.0), (551, 0.0), (552, 0.0), (553, 0.0), (554, 0.0), (555, 0.00966488359076978), (556, 0.0), (557, 0.0), (558, 0.0), (559, 0.0), (560, 0.0), (561, 0.008704371177667576), (562, 0.00903529570499056), (563, 0.0), (564, 0.0), (565, 0.0), (566, 0.010019512044252022), (567, 0.0), (568, 0.0), (569, 0.0), (570, 0.0), (571, 0.047384982774229936), (572, 0.0), (573, 0.0), (574, 0.0), (575, 0.0), (576, 0.0), (577, 0.0), (578, 0.0), (579, 0.0055745299207585145), (580, 0.0), (581, 0.0), (582, 0.006403476153204344), (583, 0.004909793841190481), (584, 0.0), (585, 0.0), (586, 0.005451491794916355), (587, 0.0), (588, 0.0), (589, 0.005095562782155897), (590, 0.0), (591, 0.0), (592, 0.0), (593, 0.0), (594, 0.0), (595, 0.0), (596, 0.0), (597, 0.0), (598, 0.0), (599, 0.0), (600, 0.0), (601, 0.029290420952519828), (602, 0.0), (603, 0.0), (604, 0.0), (605, 0.015877309113288194), (606, 0.0), (607, 0.0), (608, 0.0), (609, 0.009388414614190706), (610, 0.0), (611, 0.0), (612, 0.021780157524955407), (613, 0.0), (614, 0.0), (615, 0.030637465313505027), (616, 0.016686143089154726), (617, 0.0), (618, 0.0), (619, 0.0), (620, 0.033401801818988636), (621, 0.0), (622, 0.0), (623, 0.0), (624, 0.0), (625, 0.0), (626, 0.0), (627, 0.0), (628, 0.030458495788720764), (629, 0.015024679588189822), (630, 0.09200198720257347), (631, 0.03411730687816799), (632, 0.0050160548235656435), (633, 0.0), (634, 0.0), (635, 0.0), (636, 0.032781219623887164), (637, 0.0), (638, 0.0), (639, 0.0), (640, 0.0), (641, 0.025083010126408466), (642, 0.0), (643, 0.0), (644, 0.0), (645, 0.0), (646, 0.0), (647, 0.010514718601910533), (648, 0.0), (649, 0.005180210683775429), (650, 0.0), (651, 0.0), (652, 0.0), (653, 0.0), (654, 0.0), (655, 0.0), (656, 0.0), (657, 0.04905746661484289), (658, 0.0), (659, 0.0), (660, 0.0), (661, 0.0), (662, 0.005248757605061655), (663, 0.0), (664, 0.015306441070368437), (665, 0.010656311675393928), (666, 0.0), (667, 0.005831418815323189), (668, 0.0), (669, 0.0), (670, 0.0), (671, 0.031073364850434812), (672, 0.0), (673, 0.03506638310224326), (674, 0.0), (675, 0.0), (676, 0.03162649793378921), (677, 0.0), (678, 0.005965340842317601), (679, 0.0), (680, 0.0), (681, 0.035624628212178766), (682, 0.0), (683, 0.0), (684, 0.0), (685, 0.0), (686, 0.0), (687, 0.00598141160947895), (688, 0.0), (689, 0.0), (690, 0.0052176823796047465), (691, 0.014017916349605157), (692, 0.017036100996484387), (693, 0.0), (694, 0.0), (695, 0.0), (696, 0.0), (697, 0.00546258005442524), (698, 0.01156796932583193), (699, 0.031097548578209372), (700, 0.0), (701, 0.0), (702, 0.005209406177266831), (703, 0.004920116054931295), (704, 0.0), (705, 0.010296735521308994), (706, 0.0), (707, 0.004620886262867874), (708, 0.0), (709, 0.0), (710, 0.0), (711, 0.0), (712, 0.004692430911242575), (713, 0.0), (714, 0.0), (715, 0.0), (716, 0.0), (717, 0.01213998763736038), (718, 0.0), (719, 0.0), (720, 0.005432277799381484), (721, 0.0), (722, 0.0), (723, 0.029791598695612067), (724, 0.0), (725, 0.0), (726, 0.004571841444139437), (727, 0.0), (728, 0.0), (729, 0.0), (730, 0.0), (731, 0.0), (732, 0.04757063320627351), (733, 0.0), (734, 0.0), (735, 0.007866343783302976), (736, 0.005426716694517865), (737, 0.011762545053431803), (738, 0.016407268304395286), (739, 0.0), (740, 0.01761165234988322), (741, 0.010379005327094907), (742, 0.0), (743, 0.0), (744, 0.01828030620265037), (745, 0.015562520403987408), (746, 0.03154343955270084), (747, 0.0), (748, 0.034298856412476306), (749, 0.03304322524390593), (750, 0.0), (751, 0.006326563288351647), (752, 0.011203924868700414), (753, 0.0), (754, 0.005987139711091404), (755, 0.0), (756, 0.0), (757, 0.004351614007832953), (758, 0.005334925584551051), (759, 0.005225492231011745), (760, 0.006361924996604345), (761, 0.0), (762, 0.01008783304109379), (763, 0.010836799248101252), (764, 0.007569676382857587), (765, 0.0), (766, 0.0), (767, 0.05189766999691291), (768, 0.010714495387310643), (769, 0.0), (770, 0.005327481822917925), (771, 0.0), (772, 0.0), (773, 0.03885018682463112), (774, 0.03730920824168037), (775, 0.009117046342881772), (776, 0.010068176740255593), (777, 0.0), (778, 0.011271865233862312), (779, 0.0), (780, 0.005231187695440827), (781, 0.0056612298158677365), (782, 0.0), (783, 0.0), (784, 0.04143916654520698), (785, 0.005367767102472885), (786, 0.0044831208279294986), (787, 0.012622688919784755), (788, 0.03529407292100008), (789, 0.0), (790, 0.011146075427617374), (791, 0.0), (792, 0.012260756366854815), (793, 0.005559352673959254), (794, 0.07019269126035255), (795, 0.0062703747637975205), (796, 0.01721020356250678), (797, 0.0), (798, 0.0), (799, 0.0), (800, 0.0), (801, 0.049870842199529794), (802, 0.0), (803, 0.0), (804, 0.010556346198675832), (805, 0.0), (806, 0.0), (807, 0.008680418103840234), (808, 0.032621449835790566), (809, 0.0), (810, 0.0), (811, 0.0), (812, 0.0), (813, 0.03813051657078496), (814, 0.0), (815, 0.0), (816, 0.0), (817, 0.0), (818, 0.0), (819, 0.0), (820, 0.004927479246628403), (821, 0.011536693266648558), (822, 0.011427679653826425), (823, 0.0), (824, 0.011983574755574891), (825, 0.020231976919649043), (826, 0.0), (827, 0.0), (828, 0.0), (829, 0.010780520301369834), (830, 0.0), (831, 0.0), (832, 0.0), (833, 0.02946142188622391), (834, 0.030365264301211628), (835, 0.02922653339222681), (836, 0.00477078509550976), (837, 0.0), (838, 0.0), (839, 0.012706413252256493), (840, 0.0), (841, 0.0), (842, 0.006418685391422431), (843, 0.0), (844, 0.033545902802442025), (845, 0.0), (846, 0.022469790417329112), (847, 0.0), (848, 0.0), (849, 0.005629900545804017), (850, 0.0), (851, 0.0048892274341112195), (852, 0.032067316242221165), (853, 0.0), (854, 0.0), (855, 0.0), (856, 0.0), (857, 0.0), (858, 0.0), (859, 0.005314284973473909), (860, 0.0), (861, 0.0), (862, 0.004590251832478506), (863, 0.0), (864, 0.0), (865, 0.0), (866, 0.0), (867, 0.005412925415766447), (868, 0.0), (869, 0.0), (870, 0.0), (871, 0.0), (872, 0.005723662758734782), (873, 0.005880740625093754), (874, 0.0), (875, 0.0), (876, 0.0), (877, 0.0), (878, 0.0), (879, 0.0056792010086284496), (880, 0.02232679871068521), (881, 0.009082530512459826), (882, 0.0), (883, 0.0052535472668263465), (884, 0.005690159162292847), (885, 0.027594201063460413), (886, 0.0), (887, 0.0), (888, 0.0), (889, 0.0), (890, 0.00569263804091559), (891, 0.0), (892, 0.020625514685339654), (893, 0.0), (894, 0.0), (895, 0.010728964270305922), (896, 0.0), (897, 0.0), (898, 0.004851749477345619), (899, 0.0), (900, 0.0), (901, 0.0), (902, 0.0), (903, 0.005744737081537198), (904, 0.0066096070661776215), (905, 0.006177522889300202), (906, 0.0), (907, 0.005123015891760993), (908, 0.005585625512496814), (909, 0.0), (910, 0.0), (911, 0.0), (912, 0.0151066205522535), (913, 0.0), (914, 0.0), (915, 0.0), (916, 0.0049969404776368555), (917, 0.0), (918, 0.0), (919, 0.03503899680714188), (920, 0.0), (921, 0.0), (922, 0.0), (923, 0.00548580834909088), (924, 0.0), (925, 0.0063757580230954), (926, 0.004280735757219563), (927, 0.0), (928, 0.011914697024636737), (929, 0.0), (930, 0.0), (931, 0.017399932149655746), (932, 0.0), (933, 0.006030098753003877), (934, 0.0), (935, 0.0), (936, 0.03939223655625064), (937, 0.0), (938, 0.005363203933070615), (939, 0.005140404026870994), (940, 0.003809018119956284), (941, 0.005619621360572331), (942, 0.0), (943, 0.0), (944, 0.0), (945, 0.016704350010937587), (946, 0.017281228188443777), (947, 0.0), (948, 0.0066756033127805935), (949, 0.0), (950, 0.0), (951, 0.004911107163408145), (952, 0.0), (953, 0.0), (954, 0.0), (955, 0.0), (956, 0.0), (957, 0.010509426359591147), (958, 0.0), (959, 0.0), (960, 0.0), (961, 0.00580503255949041), (962, 0.0), (963, 0.0), (964, 0.004635465868198479), (965, 0.0), (966, 0.0), (967, 0.0), (968, 0.0), (969, 0.005396484907759812), (970, 0.022620863674304964), (971, 0.005509366229606868), (972, 0.004251904568911172), (973, 0.005319630872412551), (974, 0.0), (975, 0.0), (976, 0.0), (977, 0.0), (978, 0.004867585336459239), (979, 0.0), (980, 0.0), (981, 0.010476422924225104), (982, 0.00580151916715627), (983, 0.005439176298279594), (984, 0.023986518620830285), (985, 0.006224395731902964), (986, 0.0), (987, 0.0), (988, 0.0), (989, 0.0), (990, 0.005726120214769468), (991, 0.0), (992, 0.0), (993, 0.02507792202230596), (994, 0.0), (995, 0.0), (996, 0.007477533401518586), (997, 0.0), (998, 0.006152842387979394), (999, 0.006118324356432107), (1000, 0.01063533985200175), (1001, 0.0), (1002, 0.010371668626603197), (1003, 0.0), (1004, 0.0), (1005, 0.0), (1006, 0.0), (1007, 0.005887367758774483), (1008, 0.015423316945731572), (1009, 0.03259166616700456), (1010, 0.0), (1011, 0.0), (1012, 0.0), (1013, 0.005665396288832085), (1014, 0.0), (1015, 0.0), (1016, 0.0), (1017, 0.0), (1018, 0.0), (1019, 0.06521737990457406), (1020, 0.0), (1021, 0.0), (1022, 0.0053591458401313725), (1023, 0.0), (1024, 0.00564350223898063), (1025, 0.0049638717449767035), (1026, 0.011325163116951784), (1027, 0.0), (1028, 0.0), (1029, 0.010847002563796478), (1030, 0.0), (1031, 0.0), (1032, 0.0), (1033, 0.0), (1034, 0.0), (1035, 0.0), (1036, 0.018634977529433536), (1037, 0.0), (1038, 0.004959704828257171), (1039, 0.0469673988439841), (1040, 0.00472972223012885), (1041, 0.031010268247131895), (1042, 0.009909291879482389), (1043, 0.0), (1044, 0.019550442814626593), (1045, 0.0), (1046, 0.0), (1047, 0.005483982480955179), (1048, 0.0), (1049, 0.006368526018017107), (1050, 0.0), (1051, 0.0), (1052, 0.0), (1053, 0.0), (1054, 0.0), (1055, 0.0), (1056, 0.0), (1057, 0.0), (1058, 0.0), (1059, 0.0), (1060, 0.0), (1061, 0.00506700360114978), (1062, 0.021606347925315943), (1063, 0.0), (1064, 0.0), (1065, 0.0), (1066, 0.0), (1067, 0.0), (1068, 0.0), (1069, 0.0), (1070, 0.0), (1071, 0.0), (1072, 0.0), (1073, 0.005126160973391043), (1074, 0.0053061394494389215), (1075, 0.06907201067806024), (1076, 0.0), (1077, 0.0), (1078, 0.004637437692316015), (1079, 0.0), (1080, 0.0), (1081, 0.0), (1082, 0.0), (1083, 0.0), (1084, 0.005177015317350641), (1085, 0.005636254375542229), (1086, 0.0), (1087, 0.019754478032866434), (1088, 0.022033575347437988), (1089, 0.027085074107711476), (1090, 0.0), (1091, 0.0), (1092, 0.0), (1093, 0.0), (1094, 0.00555025544381567), (1095, 0.0), (1096, 0.0), (1097, 0.0), (1098, 0.0), (1099, 0.005886327915147672), (1100, 0.017012413057784975), (1101, 0.0), (1102, 0.0), (1103, 0.0), (1104, 0.0), (1105, 0.0), (1106, 0.0), (1107, 0.0), (1108, 0.00559840794099314), (1109, 0.012062601069853558), (1110, 0.0), (1111, 0.020080743428859245), (1112, 0.0398561141379023), (1113, 0.005233554153060951), (1114, 0.01066145778519581), (1115, 0.021884541076693558), (1116, 0.0), (1117, 0.0052323279323354), (1118, 0.011290818920036319), (1119, 0.0340151046854196), (1120, 0.0), (1121, 0.0), (1122, 0.0), (1123, 0.0), (1124, 0.04419744666194334), (1125, 0.0), (1126, 0.036786167434598005), (1127, 0.020247407588354145), (1128, 0.0), (1129, 0.0), (1130, 0.01114092678274381), (1131, 0.05623762067194367), (1132, 0.0), (1133, 0.011378676933720699), (1134, 0.0), (1135, 0.0), (1136, 0.0), (1137, 0.01629252665593708), (1138, 0.0), (1139, 0.02318353200534535), (1140, 0.0), (1141, 0.0), (1142, 0.006010137367369717), (1143, 0.0), (1144, 0.0), (1145, 0.0), (1146, 0.037564691307962625), (1147, 0.0), (1148, 0.03515261870485949), (1149, 0.0), (1150, 0.0), (1151, 0.0), (1152, 0.0), (1153, 0.004024768077720365), (1154, 0.0), (1155, 0.017420638994341337), (1156, 0.0), (1157, 0.004960848196865807), (1158, 0.0), (1159, 0.0), (1160, 0.0), (1161, 0.0), (1162, 0.0), (1163, 0.0), (1164, 0.0), (1165, 0.026149814206534144), (1166, 0.005491367677530669), (1167, 0.0), (1168, 0.0), (1169, 0.00640479846208884), (1170, 0.005340145043346491), (1171, 0.0), (1172, 0.0), (1173, 0.0050043483263349535), (1174, 0.0), (1175, 0.0), (1176, 0.0), (1177, 0.0), (1178, 0.019969633527076865), (1179, 0.0), (1180, 0.0), (1181, 0.0), (1182, 0.0), (1183, 0.0), (1184, 0.036295000060649195), (1185, 0.0), (1186, 0.0), (1187, 0.006328126120861918), (1188, 0.0), (1189, 0.0), (1190, 0.005277956999983098), (1191, 0.0), (1192, 0.0), (1193, 0.0), (1194, 0.0047249293419237975), (1195, 0.011965062262155367), (1196, 0.005191408585169921), (1197, 0.0), (1198, 0.039107429805354914), (1199, 0.004845706663048342), (1200, 0.005018788634535811), (1201, 0.005935337471722808), (1202, 0.0), (1203, 0.005085267748978154), (1204, 0.005335238383532955), (1205, 0.005683854678412126), (1206, 0.0), (1207, 0.0), (1208, 0.006613954502618686), (1209, 0.0), (1210, 0.0), (1211, 0.005269870517405531), (1212, 0.004644962365173161), (1213, 0.015148147600902558), (1214, 0.04240077910576677), (1215, 0.0), (1216, 0.015342169693257454), (1217, 0.005056261906158109), (1218, 0.0), (1219, 0.01820881295100973), (1220, 0.0), (1221, 0.016952394837851884), (1222, 0.004514676105447765), (1223, 0.03148263761628688), (1224, 0.005767462641856443), (1225, 0.0), (1226, 0.0), (1227, 0.0), (1228, 0.0), (1229, 0.0), (1230, 0.0), (1231, 0.005250066591683777), (1232, 0.0055301625614360824), (1233, 0.02541253500023794), (1234, 0.00563410259672489), (1235, 0.0), (1236, 0.0), (1237, 0.010325906314156799), (1238, 0.005358371095071901), (1239, 0.0), (1240, 0.0), (1241, 0.0), (1242, 0.010589642282345029), (1243, 0.0059603412342310366), (1244, 0.020597713175696995), (1245, 0.011281288998936174), (1246, 0.005912908030592031), (1247, 0.0), (1248, 0.0), (1249, 0.015198743992249485), (1250, 0.0), (1251, 0.004817498068023653), (1252, 0.0), (1253, 0.011237982390254718), (1254, 0.0), (1255, 0.0), (1256, 0.0054080786921016965), (1257, 0.0), (1258, 0.04027317854039342), (1259, 0.021502801026955436), (1260, 0.00595345767495116), (1261, 0.00520900533898137), (1262, 0.0), (1263, 0.04947103785578912), (1264, 0.0), (1265, 0.0), (1266, 0.0), (1267, 0.010866180142755234), (1268, 0.0045475503930063905), (1269, 0.0), (1270, 0.0), (1271, 0.0), (1272, 0.0), (1273, 0.0), (1274, 0.0), (1275, 0.0), (1276, 0.0), (1277, 0.01348595617936224), (1278, 0.0), (1279, 0.0), (1280, 0.0), (1281, 0.0), (1282, 0.005820915315624686), (1283, 0.0), (1284, 0.005259459678044165), (1285, 0.0), (1286, 0.005634796092373573), (1287, 0.0), (1288, 0.0), (1289, 0.0), (1290, 0.0), (1291, 0.005072640775926191), (1292, 0.0050896708599715654), (1293, 0.0), (1294, 0.0), (1295, 0.0), (1296, 0.0), (1297, 0.0053198639661280476), (1298, 0.005364315288478648), (1299, 0.0), (1300, 0.004538410638827166), (1301, 0.0), (1302, 0.05572946597142857), (1303, 0.0), (1304, 0.005338641902783162), (1305, 0.020813662645732322), (1306, 0.022671635728823747), (1307, 0.0), (1308, 0.005039292144220124), (1309, 0.009318472321904156), (1310, 0.0050249198398946504), (1311, 0.03569487221876225), (1312, 0.004831059945567648), (1313, 0.0), (1314, 0.0), (1315, 0.0), (1316, 0.0), (1317, 0.004558253357293949), (1318, 0.0), (1319, 0.0), (1320, 0.0044695265104110985), (1321, 0.0), (1322, 0.0), (1323, 0.005015024711686494), (1324, 0.0), (1325, 0.0), (1326, 0.0), (1327, 0.005113118817246584), (1328, 0.0), (1329, 0.010577168844574403), (1330, 0.00542087832777649), (1331, 0.0), (1332, 0.0), (1333, 0.0), (1334, 0.011587437619302287), (1335, 0.02049184779926058), (1336, 0.017674847867719855), (1337, 0.005312659791184631), (1338, 0.0), (1339, 0.0), (1340, 0.0050425689476605706), (1341, 0.004496282038987865), (1342, 0.0), (1343, 0.0), (1344, 0.04714746127676253), (1345, 0.005523075948898992), (1346, 0.0), (1347, 0.0), (1348, 0.0048552181652402274), (1349, 0.0), (1350, 0.0), (1351, 0.008503512089332263), (1352, 0.02231786447829449), (1353, 0.0), (1354, 0.0), (1355, 0.0), (1356, 0.0), (1357, 0.0), (1358, 0.0), (1359, 0.03740883386728557), (1360, 0.0), (1361, 0.005572623854839528), (1362, 0.004043784444157785), (1363, 0.005232536318221921), (1364, 0.0057394084897768784), (1365, 0.009964906189115068), (1366, 0.09795904249914583), (1367, 0.004523359692628786), (1368, 0.016110322961275975), (1369, 0.009670702679515222), (1370, 0.004690045753634339), (1371, 0.0), (1372, 0.058573235212145774), (1373, 0.005365058999617498), (1374, 0.04390990230460125), (1375, 0.03473275036825485), (1376, 0.0), (1377, 0.0), (1378, 0.0), (1379, 0.0), (1380, 0.0), (1381, 0.0), (1382, 0.0056901923469684325), (1383, 0.0), (1384, 0.0), (1385, 0.0), (1386, 0.0327810461294957), (1387, 0.0), (1388, 0.0), (1389, 0.0), (1390, 0.0), (1391, 0.0), (1392, 0.020405272935688216), (1393, 0.012338718910152664), (1394, 0.026465734428562683), (1395, 0.0), (1396, 0.0), (1397, 0.004917339372526218), (1398, 0.0), (1399, 0.0), (1400, 0.0), (1401, 0.012055070266017345), (1402, 0.0), (1403, 0.022149952868028275), (1404, 0.011039741296874843), (1405, 0.004792912627739184), (1406, 0.0), (1407, 0.0), (1408, 0.005275553505366064), (1409, 0.018424033952362428), (1410, 0.0054675601871145155), (1411, 0.017272280608429683), (1412, 0.010894916132760389), (1413, 0.0), (1414, 0.0), (1415, 0.0), (1416, 0.0), (1417, 0.0), (1418, 0.02599287117855622), (1419, 0.011727859158090471), (1420, 0.03570860793476064), (1421, 0.0), (1422, 0.00534363808977715), (1423, 0.0), (1424, 0.006481601226281905), (1425, 0.0), (1426, 0.0), (1427, 0.00496591270967854), (1428, 0.0), (1429, 0.0), (1430, 0.0), (1431, 0.01132736482146385), (1432, 0.005773703846113267), (1433, 0.0), (1434, 0.0), (1435, 0.0), (1436, 0.0), (1437, 0.03575834658897393), (1438, 0.0), (1439, 0.0), (1440, 0.0), (1441, 0.0), (1442, 0.0), (1443, 0.0), (1444, 0.0), (1445, 0.0056544139944771955), (1446, 0.0), (1447, 0.0055467561967710586), (1448, 0.0), (1449, 0.0), (1450, 0.0), (1451, 0.010949691304420554), (1452, 0.0), (1453, 0.004576783388123265), (1454, 0.0), (1455, 0.0), (1456, 0.01831730149609392), (1457, 0.005155423897664136), (1458, 0.010292526252385255), (1459, 0.0), (1460, 0.0), (1461, 0.005485938501707358), (1462, 0.02307023474215683), (1463, 0.0), (1464, 0.0), (1465, 0.004744370882534959), (1466, 0.0), (1467, 0.018148351744090952), (1468, 0.0050189742256681975), (1469, 0.005510621841521772), (1470, 0.0), (1471, 0.0), (1472, 0.0), (1473, 0.0), (1474, 0.0), (1475, 0.03189293443787692), (1476, 0.005383069595571475), (1477, 0.004941844384793518), (1478, 0.01905570504657575), (1479, 0.005823261716635874), (1480, 0.03021637646848182), (1481, 0.0), (1482, 0.02824789537131229), (1483, 0.0), (1484, 0.0), (1485, 0.038029004938720405), (1486, 0.0059338033864782345), (1487, 0.028473832771369487), (1488, 0.010699292164475994), (1489, 0.006177203697508235), (1490, 0.0), (1491, 0.006063289614313267), (1492, 0.0), (1493, 0.0), (1494, 0.017253402565411115), (1495, 0.005752759514998128), (1496, 0.028824789740376215), (1497, 0.0), (1498, 0.0), (1499, 0.0), (1500, 0.0), (1501, 0.005430131546006999), (1502, 0.0), (1503, 0.010649430289798463), (1504, 0.0), (1505, 0.0055768821650620005), (1506, 0.01746096099935092), (1507, 0.019505843724796215), (1508, 0.005462846256175981), (1509, 0.0), (1510, 0.0), (1511, 0.0), (1512, 0.0), (1513, 0.005810234025797119), (1514, 0.0), (1515, 0.0), (1516, 0.0056755789186864105), (1517, 0.0), (1518, 0.005828367663199636), (1519, 0.0), (1520, 0.005817353170456348), (1521, 0.0049812409691925765), (1522, 0.025284989318891376), (1523, 0.004576253695678179), (1524, 0.0), (1525, 0.005491029980554806), (1526, 0.0), (1527, 0.0), (1528, 0.004968936312045239), (1529, 0.042985164583205886), (1530, 0.0), (1531, 0.0), (1532, 0.0), (1533, 0.030717912851833454), (1534, 0.0), (1535, 0.0), (1536, 0.0), (1537, 0.005795924952750251), (1538, 0.010658833878134157), (1539, 0.02020893649825667), (1540, 0.0), (1541, 0.0), (1542, 0.00549624830928908), (1543, 0.04164381569864736), (1544, 0.0), (1545, 0.0), (1546, 0.0), (1547, 0.0), (1548, 0.0), (1549, 0.04298151313580688), (1550, 0.0), (1551, 0.0), (1552, 0.005252162827902594), (1553, 0.0), (1554, 0.0), (1555, 0.0), (1556, 0.0), (1557, 0.005483314676023146), (1558, 0.0), (1559, 0.01001509201370984), (1560, 0.0061390406401381666), (1561, 0.01142480097456674), (1562, 0.0), (1563, 0.04535582683630525), (1564, 0.012257154965392904), (1565, 0.0), (1566, 0.0), (1567, 0.004907381618563996), (1568, 0.0), (1569, 0.015044033188339153), (1570, 0.0), (1571, 0.004800259024027179), (1572, 0.005673541010774632), (1573, 0.02549989643368253), (1574, 0.011649003706675796), (1575, 0.0), (1576, 0.0), (1577, 0.0), (1578, 0.0), (1579, 0.0), (1580, 0.012803779822840656), (1581, 0.0), (1582, 0.0051103717907074455), (1583, 0.0), (1584, 0.044542580818168497), (1585, 0.011299799073122896), (1586, 0.009513093265852701), (1587, 0.005670980527895119), (1588, 0.0), (1589, 0.005417503652797581), (1590, 0.0), (1591, 0.0), (1592, 0.0), (1593, 0.0), (1594, 0.005840482809906265), (1595, 0.0), (1596, 0.005938795548169765), (1597, 0.03175685219039156), (1598, 0.005278463179204187), (1599, 0.011934926941521366), (1600, 0.0), (1601, 0.0060786742640942665), (1602, 0.0), (1603, 0.0), (1604, 0.0), (1605, 0.0), (1606, 0.0), (1607, 0.0), (1608, 0.0), (1609, 0.0), (1610, 0.03695727759589927), (1611, 0.0), (1612, 0.0), (1613, 0.005570943859026832), (1614, 0.005913040208200043), (1615, 0.006234636404433131), (1616, 0.014967444603029817), (1617, 0.0), (1618, 0.005530893408857302), (1619, 0.0), (1620, 0.0), (1621, 0.0), (1622, 0.0), (1623, 0.0), (1624, 0.0), (1625, 0.0), (1626, 0.0), (1627, 0.0), (1628, 0.0), (1629, 0.0), (1630, 0.0), (1631, 0.0), (1632, 0.011013874866106612), (1633, 0.0), (1634, 0.010649755230665284), (1635, 0.0), (1636, 0.0), (1637, 0.006373994680613315), (1638, 0.00550457243902979), (1639, 0.004632513588050097), (1640, 0.006096446663748309), (1641, 0.0), (1642, 0.005125359064072056), (1643, 0.0), (1644, 0.0), (1645, 0.0), (1646, 0.009462885379477332), (1647, 0.0), (1648, 0.0), (1649, 0.01083399876580843), (1650, 0.0), (1651, 0.0), (1652, 0.015244553118353748), (1653, 0.0), (1654, 0.0), (1655, 0.0), (1656, 0.006002927585839577), (1657, 0.0), (1658, 0.006300588196196626), (1659, 0.0), (1660, 0.0056193052267953245), (1661, 0.0), (1662, 0.0), (1663, 0.005342133279503359), (1664, 0.0), (1665, 0.0), (1666, 0.03231167805852482), (1667, 0.0), (1668, 0.0), (1669, 0.0), (1670, 0.0), (1671, 0.0), (1672, 0.02279888612977214), (1673, 0.0), (1674, 0.0), (1675, 0.0), (1676, 0.0044150083697681855), (1677, 0.036995455963889826), (1678, 0.06689851055667372), (1679, 0.01240518815852813), (1680, 0.0), (1681, 0.0), (1682, 0.01085662015644911), (1683, 0.005684492454298298), (1684, 0.004885829233480576), (1685, 0.0), (1686, 0.0), (1687, 0.0), (1688, 0.0055741931772505535), (1689, 0.0), (1690, 0.009777945960508742), (1691, 0.0), (1692, 0.0), (1693, 0.0053160316459895125), (1694, 0.004757894550070826), (1695, 0.004296449930145152), (1696, 0.0), (1697, 0.005563925716893215), (1698, 0.0), (1699, 0.0), (1700, 0.0053959060690785985), (1701, 0.009109589201262534), (1702, 0.0), (1703, 0.0), (1704, 0.0), (1705, 0.0), (1706, 0.03272903965073177), (1707, 0.0), (1708, 0.0), (1709, 0.0), (1710, 0.0), (1711, 0.0), (1712, 0.0), (1713, 0.0), (1714, 0.005002734238584207), (1715, 0.004919445905852789), (1716, 0.0), (1717, 0.0), (1718, 0.05098693210904614), (1719, 0.004885753650987059), (1720, 0.0), (1721, 0.005292620243602378), (1722, 0.005574699824602505), (1723, 0.010887062997745686), (1724, 0.0), (1725, 0.0), (1726, 0.005467570992399845), (1727, 0.00573006150948831), (1728, 0.0), (1729, 0.0645948342675624), (1730, 0.0), (1731, 0.00574680197436312), (1732, 0.0), (1733, 0.005956078309684763), (1734, 0.0), (1735, 0.0), (1736, 0.0), (1737, 0.026465911627963176), (1738, 0.005309465390874102), (1739, 0.0), (1740, 0.0), (1741, 0.0), (1742, 0.0), (1743, 0.01960998173692563), (1744, 0.005139802146789754), (1745, 0.0), (1746, 0.005066033480680223), (1747, 0.0), (1748, 0.0), (1749, 0.0), (1750, 0.005272057625332986), (1751, 0.005522286854471043), (1752, 0.016418879434165198), (1753, 0.0), (1754, 0.0), (1755, 0.0), (1756, 0.0), (1757, 0.01150436664598844), (1758, 0.0), (1759, 0.010843128166493849), (1760, 0.0), (1761, 0.0), (1762, 0.010432084782513082), (1763, 0.0), (1764, 0.0), (1765, 0.005758284741505658), (1766, 0.006148127051451792), (1767, 0.038960250361250455), (1768, 0.0), (1769, 0.005508471362379811), (1770, 0.0), (1771, 0.005285047427320504), (1772, 0.017964156425368867), (1773, 0.0), (1774, 0.0), (1775, 0.0), (1776, 0.0), (1777, 0.011892905858354445), (1778, 0.005149741740332725), (1779, 0.0), (1780, 0.0), (1781, 0.004544959105910326), (1782, 0.0), (1783, 0.005397057801637435), (1784, 0.004902228161351911), (1785, 0.0), (1786, 0.0), (1787, 0.06161661817903146), (1788, 0.005070503334899864), (1789, 0.0), (1790, 0.0), (1791, 0.005715333761504499), (1792, 0.006318783920240846), (1793, 0.0), (1794, 0.0356693939948571), (1795, 0.0), (1796, 0.0), (1797, 0.005082122119337814), (1798, 0.0), (1799, 0.0), (1800, 0.0), (1801, 0.0), (1802, 0.009896229987188284), (1803, 0.011763506175249086), (1804, 0.01676415290353309), (1805, 0.0), (1806, 0.006227510356548673), (1807, 0.0), (1808, 0.021230575347398736), (1809, 0.010485402870108976), (1810, 0.0), (1811, 0.0), (1812, 0.0), (1813, 0.0), (1814, 0.0), (1815, 0.0), (1816, 0.020182869660861885), (1817, 0.0), (1818, 0.0), (1819, 0.0), (1820, 0.0), (1821, 0.00571147779006528), (1822, 0.005910834227231643), (1823, 0.0), (1824, 0.0050841256524089265), (1825, 0.0), (1826, 0.0), (1827, 0.004958416504049776), (1828, 0.0), (1829, 0.0), (1830, 0.07251215554543805), (1831, 0.0), (1832, 0.0), (1833, 0.005051297383346489), (1834, 0.0), (1835, 0.0), (1836, 0.0060725541666880175), (1837, 0.005500531229932096), (1838, 0.0), (1839, 0.005076063947936445), (1840, 0.029495761157836205), (1841, 0.0), (1842, 0.0052898483241418095), (1843, 0.0), (1844, 0.0), (1845, 0.016819708969354957), (1846, 0.0), (1847, 0.005524954841222834), (1848, 0.005936547235218686), (1849, 0.0), (1850, 0.004752195594436709), (1851, 0.005766767002542727), (1852, 0.01142962214834044), (1853, 0.0), (1854, 0.0), (1855, 0.0), (1856, 0.0), (1857, 0.0), (1858, 0.0), (1859, 0.011974478743409643), (1860, 0.0), (1861, 0.008275141616920376), (1862, 0.0), (1863, 0.0), (1864, 0.0), (1865, 0.010532920161093607), (1866, 0.02697757408612871), (1867, 0.005327923467987168), (1868, 0.0), (1869, 0.0), (1870, 0.0295689017319106), (1871, 0.004324805026559556), (1872, 0.0), (1873, 0.0), (1874, 0.0), (1875, 0.0), (1876, 0.012199047240870058), (1877, 0.005114823186976849), (1878, 0.016235829641677513), (1879, 0.02502497382516526), (1880, 0.0053648730262990515), (1881, 0.01735411797523278), (1882, 0.0), (1883, 0.02057882211525458), (1884, 0.0), (1885, 0.0), (1886, 0.0), (1887, 0.0), (1888, 0.010632507454912546), (1889, 0.005556928155634721), (1890, 0.0), (1891, 0.0), (1892, 0.0), (1893, 0.011575139903074266), (1894, 0.0), (1895, 0.0), (1896, 0.0), (1897, 0.0), (1898, 0.0051396784480660295), (1899, 0.005034710646623625), (1900, 0.005195829074951801), (1901, 0.0), (1902, 0.005626042287716816), (1903, 0.01550368105957822), (1904, 0.0), (1905, 0.0), (1906, 0.0), (1907, 0.0), (1908, 0.0), (1909, 0.0), (1910, 0.010052674881703475), (1911, 0.0055862929651715), (1912, 0.005313293947156801), (1913, 0.005244258822674356), (1914, 0.0), (1915, 0.0), (1916, 0.0), (1917, 0.0), (1918, 0.0), (1919, 0.00374918608600461), (1920, 0.010455187530224393), (1921, 0.0), (1922, 0.0), (1923, 0.005920027384877681), (1924, 0.0), (1925, 0.07639249677416673), (1926, 0.005860197854274684), (1927, 0.0), (1928, 0.0), (1929, 0.005124284990640337), (1930, 0.033365088712380926), (1931, 0.0), (1932, 0.0), (1933, 0.03216196021052033), (1934, 0.029455940228182743), (1935, 0.010042595914840911), (1936, 0.0), (1937, 0.011428839272063883), (1938, 0.0), (1939, 0.007026014742319996), (1940, 0.0), (1941, 0.006242413779038886), (1942, 0.03608651266047519), (1943, 0.0046534342969469355), (1944, 0.04184033687344905), (1945, 0.03229302363482983), (1946, 0.0), (1947, 0.0), (1948, 0.01650742071807849), (1949, 0.0), (1950, 0.0), (1951, 0.011463395945605697), (1952, 0.0), (1953, 0.0), (1954, 0.004730119004354163), (1955, 0.005797760513259691), (1956, 0.005563578556867138), (1957, 0.0), (1958, 0.020111361673056903), (1959, 0.0), (1960, 0.0), (1961, 0.00548067990892509), (1962, 0.0), (1963, 0.004559584149200951), (1964, 0.0), (1965, 0.005550297783358046), (1966, 0.030360815490005463), (1967, 0.011759246043791631), (1968, 0.0), (1969, 0.0), (1970, 0.03272369487969966), (1971, 0.0), (1972, 0.0), (1973, 0.0051268143319899455), (1974, 0.00501504637786194), (1975, 0.0), (1976, 0.0), (1977, 0.010354830213887098), (1978, 0.010206030713738925), (1979, 0.0), (1980, 0.02729013389263084), (1981, 0.004547776812274461), (1982, 0.004979098499747945), (1983, 0.0), (1984, 0.005306952874734446), (1985, 0.0), (1986, 0.005388936705982663), (1987, 0.004907844799209468), (1988, 0.0), (1989, 0.026016233819658972), (1990, 0.0), (1991, 0.0), (1992, 0.005101452701340863), (1993, 0.0), (1994, 0.0), (1995, 0.0), (1996, 0.03402146144663181), (1997, 0.0), (1998, 0.0), (1999, 0.006019854172044807), (2000, 0.0), (2001, 0.004725088985811041), (2002, 0.0), (2003, 0.005479059460219194), (2004, 0.0), (2005, 0.0), (2006, 0.021963749911577), (2007, 0.043813079309181505), (2008, 0.03472294024195039), (2009, 0.006450848267136608), (2010, 0.0), (2011, 0.0), (2012, 0.006029701660516586), (2013, 0.0), (2014, 0.0), (2015, 0.03256314572536918), (2016, 0.0), (2017, 0.0), (2018, 0.004556831092994272), (2019, 0.005346997739512919), (2020, 0.028707613518161954), (2021, 0.005915864175952854), (2022, 0.03673659188181945), (2023, 0.0), (2024, 0.0), (2025, 0.0), (2026, 0.00530644847318751), (2027, 0.0), (2028, 0.027099873227400754), (2029, 0.0), (2030, 0.0), (2031, 0.0), (2032, 0.006145326701968598), (2033, 0.004818832363010789), (2034, 0.0), (2035, 0.021298832566910834), (2036, 0.016428543374786844), (2037, 0.012159527074533978), (2038, 0.0), (2039, 0.0), (2040, 0.0), (2041, 0.00554731416554423), (2042, 0.0), (2043, 0.004950107710815818), (2044, 0.0), (2045, 0.0), (2046, 0.03849510802289405), (2047, 0.0), (2048, 0.0), (2049, 0.03428021928391062), (2050, 0.005202840590621885), (2051, 0.0), (2052, 0.0), (2053, 0.012295202636697132), (2054, 0.0), (2055, 0.022691047412669824), (2056, 0.13176974286525972), (2057, 0.0), (2058, 0.027602196199817994), (2059, 0.0), (2060, 0.037750569018905056), (2061, 0.0), (2062, 0.0), (2063, 0.0), (2064, 0.0), (2065, 0.0), (2066, 0.0), (2067, 0.0), (2068, 0.0052500938539872385), (2069, 0.0), (2070, 0.01707245440106213), (2071, 0.0), (2072, 0.0), (2073, 0.0), (2074, 0.0103391846919083), (2075, 0.0), (2076, 0.004611230963218504), (2077, 0.006480187046042911), (2078, 0.0), (2079, 0.0), (2080, 0.0), (2081, 0.005613398720407466), (2082, 0.028606254390815617), (2083, 0.0), (2084, 0.03542493509034626), (2085, 0.0), (2086, 0.005753307038918028), (2087, 0.00536777968691642), (2088, 0.0), (2089, 0.03687679668915084), (2090, 0.005645993755062476), (2091, 0.0), (2092, 0.0), (2093, 0.0050934137668150435), (2094, 0.0), (2095, 0.0), (2096, 0.0), (2097, 0.0), (2098, 0.046761759963052194), (2099, 0.0050364493878127066), (2100, 0.011003709002482607), (2101, 0.005956224508712699), (2102, 0.0), (2103, 0.01130935040391166), (2104, 0.047202385559357574), (2105, 0.0), (2106, 0.011210991568768496), (2107, 0.005189785964780742), (2108, 0.0060742101294247435), (2109, 0.0), (2110, 0.0), (2111, 0.04136662431362992), (2112, 0.03308139935374439), (2113, 0.0), (2114, 0.00989038149450304), (2115, 0.02720713733571661), (2116, 0.005959953853579055), (2117, 0.0), (2118, 0.022110587687179863), (2119, 0.0), (2120, 0.0), (2121, 0.0), (2122, 0.01687794943070891), (2123, 0.033274788926709424), (2124, 0.0), (2125, 0.005508846366850159), (2126, 0.0), (2127, 0.0), (2128, 0.0), (2129, 0.0), (2130, 0.03573830849481965), (2131, 0.005269766524358605), (2132, 0.0), (2133, 0.0), (2134, 0.0), (2135, 0.0), (2136, 0.0), (2137, 0.007323845509155746), (2138, 0.0), (2139, 0.0), (2140, 0.030047447170662867), (2141, 0.0), (2142, 0.0), (2143, 0.0), (2144, 0.0), (2145, 0.00990910598413352), (2146, 0.004871235383940127), (2147, 0.0), (2148, 0.011199231458372583), (2149, 0.0), (2150, 0.005156946658457997), (2151, 0.011566922932309057), (2152, 0.03140189581255823), (2153, 0.005329265999054892), (2154, 0.0), (2155, 0.0), (2156, 0.0), (2157, 0.04753496697611646), (2158, 0.019059661053545552), (2159, 0.012713597109237567), (2160, 0.0), (2161, 0.0048355196231976835), (2162, 0.0), (2163, 0.0), (2164, 0.0), (2165, 0.0), (2166, 0.005186617959914757), (2167, 0.046925899100276114), (2168, 0.004830461857614295), (2169, 0.0), (2170, 0.03365167047880999), (2171, 0.0), (2172, 0.0), (2173, 0.0), (2174, 0.011380088931242118), (2175, 0.02904376017250211), (2176, 0.0), (2177, 0.0), (2178, 0.0), (2179, 0.005291361560847258), (2180, 0.0), (2181, 0.0), (2182, 0.0), (2183, 0.0), (2184, 0.0), (2185, 0.0), (2186, 0.006354727737515897), (2187, 0.006161089237988219), (2188, 0.0), (2189, 0.0), (2190, 0.0), (2191, 0.010651851437271962), (2192, 0.005448204241093507), (2193, 0.02569006042553061), (2194, 0.005723904500300128), (2195, 0.0), (2196, 0.012340154356424646), (2197, 0.028032695880994763), (2198, 0.0), (2199, 0.006840959248603584), (2200, 0.0), (2201, 0.005039440792129404), (2202, 0.005260646412568921), (2203, 0.018408394346772376), (2204, 0.009953860728590854), (2205, 0.0), (2206, 0.0), (2207, 0.005223928578596773), (2208, 0.005660113740963525), (2209, 0.006060253365718632), (2210, 0.0), (2211, 0.004626904807856477), (2212, 0.0), (2213, 0.0), (2214, 0.0), (2215, 0.0), (2216, 0.0), (2217, 0.005525431065502722), (2218, 0.005827234165597916), (2219, 0.0), (2220, 0.024685503702684086), (2221, 0.0), (2222, 0.005644903438334662), (2223, 0.005943568889395231), (2224, 0.0), (2225, 0.005000728630817212), (2226, 0.0), (2227, 0.010281200347652902), (2228, 0.006783080751766935), (2229, 0.0), (2230, 0.0), (2231, 0.0), (2232, 0.0), (2233, 0.0), (2234, 0.010813595217530874), (2235, 0.012305985405672081), (2236, 0.004961649008946352), (2237, 0.020274550195679097), (2238, 0.0), (2239, 0.0), (2240, 0.004846700316826464), (2241, 0.005727902574267909), (2242, 0.005612058728970045), (2243, 0.0), (2244, 0.0), (2245, 0.0), (2246, 0.0), (2247, 0.0), (2248, 0.0), (2249, 0.00558968792101208), (2250, 0.0), (2251, 0.0), (2252, 0.0), (2253, 0.030674456194422446), (2254, 0.0), (2255, 0.0), (2256, 0.0), (2257, 0.0), (2258, 0.0), (2259, 0.0), (2260, 0.006085435387773215), (2261, 0.0062167730871390955), (2262, 0.03364689124175242), (2263, 0.012493554755544017), (2264, 0.004910682209002157), (2265, 0.004983754169084148), (2266, 0.0), (2267, 0.0), (2268, 0.0), (2269, 0.0), (2270, 0.004763762753109987), (2271, 0.0), (2272, 0.0), (2273, 0.0), (2274, 0.0), (2275, 0.0), (2276, 0.0), (2277, 0.0), (2278, 0.0), (2279, 0.0), (2280, 0.005313361093900131), (2281, 0.007067711674842305), (2282, 0.0), (2283, 0.0), (2284, 0.005497803336048672), (2285, 0.0), (2286, 0.0), (2287, 0.0), (2288, 0.0), (2289, 0.0), (2290, 0.005416863475562876), (2291, 0.0), (2292, 0.005640097476898066), (2293, 0.0), (2294, 0.0), (2295, 0.0), (2296, 0.016639468513707113), (2297, 0.0054450246070844), (2298, 0.0), (2299, 0.0), (2300, 0.0), (2301, 0.0), (2302, 0.006141560254595348), (2303, 0.005693598800802947), (2304, 0.012025501433636027), (2305, 0.0), (2306, 0.0), (2307, 0.0), (2308, 0.006403877313625967), (2309, 0.005716586467712921), (2310, 0.0), (2311, 0.010838753272497057), (2312, 0.0), (2313, 0.0), (2314, 0.0), (2315, 0.0), (2316, 0.0), (2317, 0.011368960068144564), (2318, 0.0), (2319, 0.0), (2320, 0.006304828234601684), (2321, 0.0), (2322, 0.0), (2323, 0.0), (2324, 0.0), (2325, 0.0), (2326, 0.009789396351151369), (2327, 0.01605333337433648), (2328, 0.0), (2329, 0.016633321603176453), (2330, 0.03443232360714019), (2331, 0.004665578758091519), (2332, 0.0), (2333, 0.006524565044510703), (2334, 0.0), (2335, 0.005365638371731352), (2336, 0.005482176965293837), (2337, 0.0), (2338, 0.0), (2339, 0.0), (2340, 0.005462096455652071), (2341, 0.0), (2342, 0.0), (2343, 0.0), (2344, 0.0), (2345, 0.0), (2346, 0.0), (2347, 0.010870343165547814), (2348, 0.005890038134785082), (2349, 0.0), (2350, 0.0), (2351, 0.006375588578376572), (2352, 0.0), (2353, 0.017556867641991165), (2354, 0.0), (2355, 0.0), (2356, 0.02779799786027461), (2357, 0.0062381724475109885), (2358, 0.0), (2359, 0.0), (2360, 0.0), (2361, 0.0), (2362, 0.0), (2363, 0.006873053546268768), (2364, 0.004587023981634062), (2365, 0.0), (2366, 0.0), (2367, 0.058845723932494445), (2368, 0.006372690556940893), (2369, 0.0), (2370, 0.0), (2371, 0.0), (2372, 0.0), (2373, 0.0), (2374, 0.0), (2375, 0.005824361405427994), (2376, 0.0), (2377, 0.0), (2378, 0.014114062794156022), (2379, 0.007504376742821428), (2380, 0.0), (2381, 0.006005666338130305), (2382, 0.0), (2383, 0.0), (2384, 0.0), (2385, 0.005459792608362206), (2386, 0.0), (2387, 0.005611572556173231), (2388, 0.036562640053629816), (2389, 0.004918994362369958), (2390, 0.0), (2391, 0.005845195795246176), (2392, 0.0), (2393, 0.0), (2394, 0.005931918922114808), (2395, 0.007637200593084244), (2396, 0.005479241934837327), (2397, 0.005296999620028407), (2398, 0.0), (2399, 0.0385228171154202), (2400, 0.0), (2401, 0.0), (2402, 0.00522162284711113), (2403, 0.0062047946115953686), (2404, 0.007334102573823479), (2405, 0.0), (2406, 0.0), (2407, 0.0), (2408, 0.0), (2409, 0.016377245481143665), (2410, 0.028635851723992446), (2411, 0.03734339157183849), (2412, 0.0), (2413, 0.0), (2414, 0.0), (2415, 0.0), (2416, 0.0), (2417, 0.0), (2418, 0.0), (2419, 0.036251720157369736), (2420, 0.005932115087122028), (2421, 0.01171708682485476), (2422, 0.005405429418451667), (2423, 0.007003362088859198), (2424, 0.005078599034912805), (2425, 0.0), (2426, 0.004941587964241708), (2427, 0.0), (2428, 0.0), (2429, 0.0), (2430, 0.011288455103745324), (2431, 0.0056090054315077395), (2432, 0.0), (2433, 0.004926199044969916), (2434, 0.006443274569716158), (2435, 0.005396350975888124), (2436, 0.0), (2437, 0.038846261682678795), (2438, 0.0), (2439, 0.004829336645195987), (2440, 0.0053093373538461355), (2441, 0.00448414257936545), (2442, 0.0), (2443, 0.025105423420793953), (2444, 0.03942232081950675), (2445, 0.0), (2446, 0.0051890818434475305), (2447, 0.0), (2448, 0.0), (2449, 0.005548944493251784), (2450, 0.005334000826485317), (2451, 0.0), (2452, 0.0), (2453, 0.0), (2454, 0.0), (2455, 0.0), (2456, 0.031195445315924768), (2457, 0.0), (2458, 0.03820700804512677), (2459, 0.0), (2460, 0.0), (2461, 0.005183210571082327), (2462, 0.0), (2463, 0.0), (2464, 0.006426315092243221), (2465, 0.0), (2466, 0.0), (2467, 0.005179150824770716), (2468, 0.006412739377626125), (2469, 0.0), (2470, 0.0), (2471, 0.0), (2472, 0.005681976942629289), (2473, 0.02955348511464568), (2474, 0.0), (2475, 0.0), (2476, 0.0), (2477, 0.0), (2478, 0.006171961134404654), (2479, 0.006439351991767429), (2480, 0.0), (2481, 0.0), (2482, 0.0), (2483, 0.04278415273627666), (2484, 0.0), (2485, 0.0), (2486, 0.006257230587139278), (2487, 0.0056755184171814), (2488, 0.006477708332387394), (2489, 0.0), (2490, 0.0), (2491, 0.0), (2492, 0.0055042150683482435), (2493, 0.006089181832787816), (2494, 0.07645337674555339), (2495, 0.005675487603249088), (2496, 0.0), (2497, 0.005014821557149755), (2498, 0.0), (2499, 0.005548981213295426), (2500, 0.0074602027820886265), (2501, 0.0), (2502, 0.0), (2503, 0.0), (2504, 0.005625109796690032), (2505, 0.0), (2506, 0.035546196058647096), (2507, 0.018371025952367146), (2508, 0.0), (2509, 0.0047313844560124075), (2510, 0.0), (2511, 0.005562337098586781), (2512, 0.005221214716079479), (2513, 0.0), (2514, 0.010619569174502796), (2515, 0.0), (2516, 0.0), (2517, 0.010953792578688658), (2518, 0.0), (2519, 0.0058316448188475275), (2520, 0.027422590293997837), (2521, 0.04114998099951353), (2522, 0.03539954392582569), (2523, 0.0), (2524, 0.028317844318762077), (2525, 0.039761041404243844), (2526, 0.0), (2527, 0.0), (2528, 0.0), (2529, 0.007803256341200874), (2530, 0.0), (2531, 0.00566892419252903), (2532, 0.0), (2533, 0.0), (2534, 0.0), (2535, 0.006364594008871477), (2536, 0.0), (2537, 0.007242955628301732), (2538, 0.007236984924624048), (2539, 0.0048166416827544545), (2540, 0.011201583621710458), (2541, 0.010039280985939904), (2542, 0.0), (2543, 0.006943081503820127), (2544, 0.0), (2545, 0.0), (2546, 0.00582443588059434), (2547, 0.0), (2548, 0.046444108205400125), (2549, 0.0), (2550, 0.0), (2551, 0.0), (2552, 0.010881903992224062), (2553, 0.016409356286533602), (2554, 0.005619654405125829), (2555, 0.0), (2556, 0.0), (2557, 0.0), (2558, 0.0), (2559, 0.0), (2560, 0.0), (2561, 0.005956462862723261), (2562, 0.0), (2563, 0.009757826431315422), (2564, 0.0), (2565, 0.03877761372708741), (2566, 0.005703022315171772), (2567, 0.0), (2568, 0.0), (2569, 0.005564110656587335), (2570, 0.0063685631614878516), (2571, 0.0), (2572, 0.0), (2573, 0.0), (2574, 0.0), (2575, 0.006117301192743058), (2576, 0.0), (2577, 0.0), (2578, 0.0), (2579, 0.0), (2580, 0.010311367512277961), (2581, 0.0065501298797752796), (2582, 0.005547120431871355), (2583, 0.0), (2584, 0.009967976268189932), (2585, 0.0), (2586, 0.005574469733915257), (2587, 0.009603252289056285), (2588, 0.005720277829050195), (2589, 0.0), (2590, 0.0052699207015521835), (2591, 0.004872808493233284), (2592, 0.0059947050243545665), (2593, 0.0), (2594, 0.005197912091273978), (2595, 0.0), (2596, 0.0), (2597, 0.00877127034664806), (2598, 0.0), (2599, 0.0), (2600, 0.07704393345276787), (2601, 0.018147074099769997), (2602, 0.0), (2603, 0.0046334724104045485), (2604, 0.005989013385929123), (2605, 0.005694866547494034), (2606, 0.0), (2607, 0.0), (2608, 0.004973386675435698), (2609, 0.0), (2610, 0.011281282545665624), (2611, 0.0), (2612, 0.0), (2613, 0.03823397840359299), (2614, 0.0), (2615, 0.004926321731225707), (2616, 0.005259058199206397), (2617, 0.0), (2618, 0.0), (2619, 0.006435668793742239), (2620, 0.0), (2621, 0.0), (2622, 0.03129559229662999), (2623, 0.0), (2624, 0.0), (2625, 0.0), (2626, 0.005808384339889347), (2627, 0.0), (2628, 0.0), (2629, 0.0), (2630, 0.0), (2631, 0.0), (2632, 0.011736197002063313), (2633, 0.005727064374321863), (2634, 0.0), (2635, 0.006194930837867197), (2636, 0.0), (2637, 0.011803538661097965), (2638, 0.0), (2639, 0.0), (2640, 0.0), (2641, 0.0), (2642, 0.005254583208900758), (2643, 0.0), (2644, 0.005173758314529359), (2645, 0.0), (2646, 0.01372783675002352), (2647, 0.0), (2648, 0.0), (2649, 0.0), (2650, 0.0), (2651, 0.0), (2652, 0.0), (2653, 0.0), (2654, 0.0), (2655, 0.0), (2656, 0.006593917340217856), (2657, 0.0), (2658, 0.0), (2659, 0.0), (2660, 0.007719795284586207), (2661, 0.005620097505574557), (2662, 0.005782298867417811), (2663, 0.02204294936269641), (2664, 0.0), (2665, 0.004524486060616605), (2666, 0.02891766945386883), (2667, 0.0), (2668, 0.06841579287934153), (2669, 0.0), (2670, 0.0), (2671, 0.047689963040312484), (2672, 0.0), (2673, 0.0), (2674, 0.0), (2675, 0.0), (2676, 0.028856974021522586), (2677, 0.03013269736060286), (2678, 0.00867150780603897), (2679, 0.0), (2680, 0.0), (2681, 0.005201235341796988), (2682, 0.0), (2683, 0.0), (2684, 0.0), (2685, 0.0054946257340663844), (2686, 0.01049037691199969), (2687, 0.016897059725877954), (2688, 0.03536217224272767), (2689, 0.0), (2690, 0.055666397017355755), (2691, 0.0), (2692, 0.0), (2693, 0.005310891220425058), (2694, 0.0), (2695, 0.03101612487710364), (2696, 0.00636536429279305), (2697, 0.01668036308468786), (2698, 0.0), (2699, 0.0052175233159087375), (2700, 0.0), (2701, 0.007993173499301356), (2702, 0.006217094430912199), (2703, 0.0), (2704, 0.0), (2705, 0.0), (2706, 0.005440013928423661), (2707, 0.0), (2708, 0.0), (2709, 0.005821698502765495), (2710, 0.0), (2711, 0.0), (2712, 0.012227150804012623), (2713, 0.0), (2714, 0.0), (2715, 0.007170003292132767), (2716, 0.019669046118160526), (2717, 0.0), (2718, 0.0), (2719, 0.0), (2720, 0.006144516322227798), (2721, 0.004845977735415907), (2722, 0.0075564121011078445), (2723, 0.0), (2724, 0.0), (2725, 0.03405233994297322), (2726, 0.005527047512072205), (2727, 0.0066226434359460944), (2728, 0.005155853974874969), (2729, 0.011141891099195389), (2730, 0.020456692371863372), (2731, 0.0), (2732, 0.011058545093125103), (2733, 0.0), (2734, 0.032373917640079825), (2735, 0.0), (2736, 0.0), (2737, 0.008470528671458859), (2738, 0.0065615794691124794), (2739, 0.0), (2740, 0.0), (2741, 0.005007236740109024), (2742, 0.050577768174095525), (2743, 0.0), (2744, 0.0055448832052047755), (2745, 0.0), (2746, 0.031027337640141588), (2747, 0.00979440736980175), (2748, 0.0), (2749, 0.0), (2750, 0.06661501311276902), (2751, 0.01093396428647164), (2752, 0.0), (2753, 0.0), (2754, 0.006074183954660704), (2755, 0.005946083963406376), (2756, 0.1100350896124247), (2757, 0.0), (2758, 0.004535224832058784), (2759, 0.012440782596091816), (2760, 0.0), (2761, 0.0), (2762, 0.0), (2763, 0.005307526814395901), (2764, 0.007562686247864477), (2765, 0.050172397415533754), (2766, 0.0), (2767, 0.0), (2768, 0.0), (2769, 0.006247030550650873), (2770, 0.004930397725121647), (2771, 0.0), (2772, 0.0), (2773, 0.0), (2774, 0.0), (2775, 0.0), (2776, 0.018065777291130326), (2777, 0.0), (2778, 0.0), (2779, 0.0), (2780, 0.0), (2781, 0.006505078461629263), (2782, 0.005924342681540585), (2783, 0.03618811992114771), (2784, 0.0), (2785, 0.0), (2786, 0.006475898841033271), (2787, 0.00531432570676958), (2788, 0.0), (2789, 0.0), (2790, 0.0), (2791, 0.0), (2792, 0.025542163074765204), (2793, 0.0), (2794, 0.005533690526470417), (2795, 0.0), (2796, 0.006344571712905918), (2797, 0.006779580012248321), (2798, 0.0), (2799, 0.006013496061060468), (2800, 0.0), (2801, 0.010181760179390025), (2802, 0.0), (2803, 0.0), (2804, 0.005322950188985452), (2805, 0.004717836062087665), (2806, 0.0), (2807, 0.03878031926859266), (2808, 0.0), (2809, 0.01210505828668213), (2810, 0.006229934429038254), (2811, 0.005797854145998289), (2812, 0.005429458442497862), (2813, 0.017152896896713784), (2814, 0.018305389090050143), (2815, 0.0), (2816, 0.0056522517987300505), (2817, 0.018031474011333187), (2818, 0.0), (2819, 0.0), (2820, 0.004747428166521694), (2821, 0.0), (2822, 0.0), (2823, 0.005268748722723609), (2824, 0.0), (2825, 0.005300604345836907), (2826, 0.011384923621208562), (2827, 0.0), (2828, 0.0), (2829, 0.016185195816964683), (2830, 0.0), (2831, 0.0), (2832, 0.007479002793829355), (2833, 0.004784809973315372), (2834, 0.006560219707968054), (2835, 0.0), (2836, 0.005360915564467116), (2837, 0.0), (2838, 0.006739712096734189), (2839, 0.0), (2840, 0.0), (2841, 0.031534826266953524), (2842, 0.0), (2843, 0.006006502587692774), (2844, 0.009497103941506668), (2845, 0.010490533680380014), (2846, 0.006359929613815498), (2847, 0.0), (2848, 0.0), (2849, 0.0), (2850, 0.0), (2851, 0.0), (2852, 0.019075568004513717), (2853, 0.0), (2854, 0.0), (2855, 0.00492832683587871), (2856, 0.03939444806105686), (2857, 0.006377124782308145), (2858, 0.007552384543203733), (2859, 0.0), (2860, 0.0), (2861, 0.0), (2862, 0.0), (2863, 0.0), (2864, 0.0), (2865, 0.0), (2866, 0.005315024169174363), (2867, 0.0), (2868, 0.018759456655360756), (2869, 0.0), (2870, 0.0), (2871, 0.0), (2872, 0.0063533220224913185), (2873, 0.005943156344041663), (2874, 0.032927979149387665), (2875, 0.0), (2876, 0.0046489286982605285), (2877, 0.0), (2878, 0.0), (2879, 0.0), (2880, 0.005858462421624621), (2881, 0.0), (2882, 0.03868665478315579), (2883, 0.0), (2884, 0.006204058758841296), (2885, 0.0), (2886, 0.0), (2887, 0.0), (2888, 0.0), (2889, 0.0), (2890, 0.0), (2891, 0.007485520090938754), (2892, 0.0), (2893, 0.01217897338463039), (2894, 0.0), (2895, 0.0), (2896, 0.0), (2897, 0.005259912041476206), (2898, 0.0), (2899, 0.0), (2900, 0.0), (2901, 0.0), (2902, 0.0), (2903, 0.0), (2904, 0.0), (2905, 0.0), (2906, 0.0), (2907, 0.0), (2908, 0.05755053138696615), (2909, 0.0), (2910, 0.0), (2911, 0.0352330443230766), (2912, 0.036669993279301004), (2913, 0.004707234843883824), (2914, 0.0), (2915, 0.0), (2916, 0.0), (2917, 0.0), (2918, 0.0), (2919, 0.0), (2920, 0.0), (2921, 0.0), (2922, 0.0), (2923, 0.0), (2924, 0.006108804012603268), (2925, 0.004402933030684291), (2926, 0.005736048800133945), (2927, 0.0), (2928, 0.006915316023938922), (2929, 0.0), (2930, 0.0), (2931, 0.0), (2932, 0.0), (2933, 0.00476589703434806), (2934, 0.0), (2935, 0.010967000115243632), (2936, 0.0), (2937, 0.0), (2938, 0.0), (2939, 0.0), (2940, 0.00559984891301816), (2941, 0.0), (2942, 0.010224421483906374), (2943, 0.0), (2944, 0.037783449263903895), (2945, 0.005347162482801545), (2946, 0.0), (2947, 0.0), (2948, 0.04741057976852553), (2949, 0.0), (2950, 0.0), (2951, 0.005802285695111066), (2952, 0.0), (2953, 0.0), (2954, 0.005065127838914638), (2955, 0.0), (2956, 0.0), (2957, 0.0), (2958, 0.0), (2959, 0.0), (2960, 0.0), (2961, 0.0), (2962, 0.015963514775405568), (2963, 0.03387836529731455), (2964, 0.0), (2965, 0.0), (2966, 0.0), (2967, 0.0), (2968, 0.0), (2969, 0.0), (2970, 0.005836020712552742), (2971, 0.00509609541462137), (2972, 0.005437706452958066), (2973, 0.005532946899758387), (2974, 0.0), (2975, 0.0), (2976, 0.0), (2977, 0.0), (2978, 0.005755123011149411), (2979, 0.005942383563577495), (2980, 0.0), (2981, 0.0), (2982, 0.0060921043003809685), (2983, 0.006961587443765289), (2984, 0.0), (2985, 0.0), (2986, 0.006350216367481767), (2987, 0.0), (2988, 0.0), (2989, 0.0), (2990, 0.0), (2991, 0.0), (2992, 0.005105102259644349), (2993, 0.0), (2994, 0.006018891993347179), (2995, 0.0), (2996, 0.04449584366835585), (2997, 0.0), (2998, 0.0), (2999, 0.00574470618152533), (3000, 0.011778755386076223), (3001, 0.0), (3002, 0.0), (3003, 0.006094077810070512), (3004, 0.0), (3005, 0.0), (3006, 0.0), (3007, 0.0), (3008, 0.0), (3009, 0.007143016324146229), (3010, 0.011201460758928505), (3011, 0.0), (3012, 0.0), (3013, 0.0), (3014, 0.011122848714667215), (3015, 0.0), (3016, 0.005500570130116749), (3017, 0.006566982071943776), (3018, 0.0054866422638434964), (3019, 0.0), (3020, 0.006624507990403726), (3021, 0.0), (3022, 0.0), (3023, 0.0), (3024, 0.0), (3025, 0.0), (3026, 0.005977906077615883), (3027, 0.0), (3028, 0.0), (3029, 0.0), (3030, 0.0), (3031, 0.0), (3032, 0.0), (3033, 0.0054160313745970955), (3034, 0.005543715010681714), (3035, 0.0), (3036, 0.0), (3037, 0.0), (3038, 0.0), (3039, 0.006091885518248518), (3040, 0.007591342380608254), (3041, 0.0), (3042, 0.0071866933841733495), (3043, 0.0), (3044, 0.006120925246340433), (3045, 0.009614357995164923), (3046, 0.0), (3047, 0.0), (3048, 0.0), (3049, 0.0), (3050, 0.005215377582624835), (3051, 0.0), (3052, 0.0), (3053, 0.0), (3054, 0.0), (3055, 0.0), (3056, 0.017151364991143475), (3057, 0.0), (3058, 0.0), (3059, 0.0), (3060, 0.0), (3061, 0.005623700129000446), (3062, 0.0063082063199488515), (3063, 0.004828684971599864), (3064, 0.0), (3065, 0.0), (3066, 0.005341843089258403), (3067, 0.0), (3068, 0.0), (3069, 0.0), (3070, 0.0049772146510492785), (3071, 0.005021512767820775), (3072, 0.0), (3073, 0.0), (3074, 0.0), (3075, 0.0), (3076, 0.0), (3077, 0.010225610836888287), (3078, 0.00681787522772565), (3079, 0.0), (3080, 0.006270463597884196), (3081, 0.0), (3082, 0.017890207943272615), (3083, 0.005167421919001443), (3084, 0.005655108170160925), (3085, 0.0), (3086, 0.0), (3087, 0.0), (3088, 0.0), (3089, 0.03052968955564706), (3090, 0.0), (3091, 0.009680047131318549), (3092, 0.0), (3093, 0.0), (3094, 0.0), (3095, 0.0), (3096, 0.010072934318301516), (3097, 0.0057630167477422285), (3098, 0.030589519332655885), (3099, 0.0), (3100, 0.0), (3101, 0.0), (3102, 0.005513122024926353), (3103, 0.0), (3104, 0.0), (3105, 0.031264930617766085), (3106, 0.0), (3107, 0.0), (3108, 0.022614146026522057), (3109, 0.006021916069124842), (3110, 0.0), (3111, 0.010167592962416807), (3112, 0.0), (3113, 0.017881237270505022), (3114, 0.0), (3115, 0.0), (3116, 0.0), (3117, 0.012941533309472501), (3118, 0.0), (3119, 0.0), (3120, 0.029127622999232078), (3121, 0.011239168176516138), (3122, 0.0), (3123, 0.0), (3124, 0.06532967249229517), (3125, 0.0), (3126, 0.0), (3127, 0.005055614446425869), (3128, 0.0), (3129, 0.0), (3130, 0.0), (3131, 0.0), (3132, 0.0), (3133, 0.0), (3134, 0.0), (3135, 0.0), (3136, 0.0), (3137, 0.02779461482626014), (3138, 0.0), (3139, 0.050126576872075564), (3140, 0.0), (3141, 0.0), (3142, 0.007412659380140439), (3143, 0.0), (3144, 0.0), (3145, 0.0), (3146, 0.005955098994916646), (3147, 0.010058412456962913), (3148, 0.0), (3149, 0.005172451684504286), (3150, 0.005482716682180539), (3151, 0.0), (3152, 0.00947527633167578), (3153, 0.0), (3154, 0.0), (3155, 0.0055304816629650035), (3156, 0.0), (3157, 0.0), (3158, 0.0), (3159, 0.0), (3160, 0.0), (3161, 0.0), (3162, 0.0), (3163, 0.0), (3164, 0.042115942883536976), (3165, 0.0), (3166, 0.007302874885270349), (3167, 0.0), (3168, 0.00654011126088142), (3169, 0.0), (3170, 0.0), (3171, 0.0), (3172, 0.0), (3173, 0.0), (3174, 0.0), (3175, 0.01789875934172193), (3176, 0.0), (3177, 0.005149562031436887), (3178, 0.008339381335241803), (3179, 0.0), (3180, 0.0), (3181, 0.005759046991007778), (3182, 0.011079290531344333), (3183, 0.005891799328372886), (3184, 0.0), (3185, 0.04616818953614343), (3186, 0.0), (3187, 0.005934638953386807), (3188, 0.0054412827207396455), (3189, 0.027004116762726325), (3190, 0.0), (3191, 0.0), (3192, 0.01182893237556874), (3193, 0.0), (3194, 0.005186155073637361), (3195, 0.011407121070357495), (3196, 0.0), (3197, 0.0), (3198, 0.005875961013248482), (3199, 0.01594756274339753), (3200, 0.0), (3201, 0.021332399771604428), (3202, 0.0), (3203, 0.0), (3204, 0.0), (3205, 0.026340014692235455), (3206, 0.0), (3207, 0.0), (3208, 0.0), (3209, 0.03826056064503939), (3210, 0.0), (3211, 0.0), (3212, 0.00458473812576603), (3213, 0.0), (3214, 0.005596082944312139), (3215, 0.01005276528804507), (3216, 0.0), (3217, 0.00712828711087076), (3218, 0.02759075359994357), (3219, 0.0), (3220, 0.05836416236625604), (3221, 0.006055987003705588), (3222, 0.0), (3223, 0.0), (3224, 0.017762779447752973), (3225, 0.0), (3226, 0.0), (3227, 0.08945635605961177), (3228, 0.04107180651609504), (3229, 0.017950549499146193), (3230, 0.0), (3231, 0.015343156615323381), (3232, 0.005117982800840339), (3233, 0.0), (3234, 0.0), (3235, 0.0), (3236, 0.0056678240527139635), (3237, 0.0), (3238, 0.004941258112346751), (3239, 0.013010894538484854), (3240, 0.0), (3241, 0.0), (3242, 0.0), (3243, 0.0), (3244, 0.015559757085207893), (3245, 0.005667478759757533), (3246, 0.005122227921638372), (3247, 0.0), (3248, 0.0), (3249, 0.006652516683641963), (3250, 0.024095969887298934), (3251, 0.0), (3252, 0.030363562386409512), (3253, 0.0), (3254, 0.0), (3255, 0.0), (3256, 0.020214965001614266), (3257, 0.0), (3258, 0.006182093459964644), (3259, 0.0), (3260, 0.0052879694278275624), (3261, 0.0), (3262, 0.0), (3263, 0.0), (3264, 0.0), (3265, 0.010952176712638297), (3266, 0.0), (3267, 0.005028830558058762), (3268, 0.0), (3269, 0.0), (3270, 0.017017023854850467), (3271, 0.011567574605449249), (3272, 0.05627545340336879), (3273, 0.0), (3274, 0.0), (3275, 0.0), (3276, 0.0), (3277, 0.0), (3278, 0.0), (3279, 0.0), (3280, 0.0), (3281, 0.03438619117414579), (3282, 0.006733403112432308), (3283, 0.00563990294713759), (3284, 0.010632327654209581), (3285, 0.0), (3286, 0.005335069888820418), (3287, 0.005661615612957608), (3288, 0.00539740987279309), (3289, 0.005515273178429345), (3290, 0.005703681944162384), (3291, 0.0), (3292, 0.0), (3293, 0.0), (3294, 0.0), (3295, 0.005235290760625894), (3296, 0.0), (3297, 0.005472196639773004), (3298, 0.0), (3299, 0.0), (3300, 0.03145055567997709), (3301, 0.0), (3302, 0.051827450180097066), (3303, 0.005539894251583301), (3304, 0.0049207237067353795), (3305, 0.08700045390647063), (3306, 0.0), (3307, 0.0), (3308, 0.006321485330653813), (3309, 0.005212134823789662), (3310, 0.0), (3311, 0.01579858308936906), (3312, 0.0), (3313, 0.027970136459301607), (3314, 0.03444450284272456), (3315, 0.00531133465780206), (3316, 0.0), (3317, 0.0), (3318, 0.0), (3319, 0.028269239398218574), (3320, 0.02731442416657613), (3321, 0.0), (3322, 0.041734899250727465), (3323, 0.028865666355674415), (3324, 0.0), (3325, 0.0), (3326, 0.0), (3327, 0.0), (3328, 0.0), (3329, 0.015461776968372169), (3330, 0.0), (3331, 0.0), (3332, 0.005539610308982934), (3333, 0.0), (3334, 0.0), (3335, 0.0), (3336, 0.0), (3337, 0.006251980520182146), (3338, 0.011023781572364765), (3339, 0.0), (3340, 0.0), (3341, 0.0), (3342, 0.0), (3343, 0.0), (3344, 0.0), (3345, 0.0), (3346, 0.0), (3347, 0.0), (3348, 0.005472770230913517), (3349, 0.005759527296782832), (3350, 0.0), (3351, 0.005528391636030554), (3352, 0.010302121826687362), (3353, 0.0), (3354, 0.0), (3355, 0.0), (3356, 0.0), (3357, 0.006464510921571581), (3358, 0.0), (3359, 0.0), (3360, 0.0), (3361, 0.03439637813624668), (3362, 0.0), (3363, 0.0), (3364, 0.006309292507563384), (3365, 0.0), (3366, 0.016637896607933585), (3367, 0.03005932591966113), (3368, 0.0), (3369, 0.0), (3370, 0.010888237584207046), (3371, 0.006395285966928994), (3372, 0.0), (3373, 0.005978140838558451), (3374, 0.0), (3375, 0.00542446630782918), (3376, 0.0), (3377, 0.0), (3378, 0.0), (3379, 0.031612742903581285), (3380, 0.0), (3381, 0.0), (3382, 0.005582702767930767), (3383, 0.0), (3384, 0.0), (3385, 0.0), (3386, 0.005627817865225132), (3387, 0.0), (3388, 0.005630691049796254), (3389, 0.004968994854933686), (3390, 0.019525624587976444), (3391, 0.0), (3392, 0.0), (3393, 0.004770601167788283), (3394, 0.0), (3395, 0.005023380108498694), (3396, 0.0), (3397, 0.005290749057480577), (3398, 0.034180568739609854), (3399, 0.0), (3400, 0.005686049762955777), (3401, 0.02705136497183554), (3402, 0.005350851298082677), (3403, 0.0), (3404, 0.03569227514125394), (3405, 0.0), (3406, 0.0), (3407, 0.0), (3408, 0.005950322879022889), (3409, 0.0), (3410, 0.020697487338070707), (3411, 0.015453604147015123), (3412, 0.011017443917258922), (3413, 0.006339403456236478), (3414, 0.0), (3415, 0.0), (3416, 0.0), (3417, 0.0), (3418, 0.027691942253505922), (3419, 0.0), (3420, 0.010780107306997836), (3421, 0.003912071468577562), (3422, 0.0), (3423, 0.0), (3424, 0.006106739646999399), (3425, 0.0), (3426, 0.0), (3427, 0.0), (3428, 0.0), (3429, 0.0), (3430, 0.00454623846295088), (3431, 0.0), (3432, 0.0), (3433, 0.0), (3434, 0.0), (3435, 0.0), (3436, 0.0), (3437, 0.0), (3438, 0.0), (3439, 0.00731400770278887), (3440, 0.0), (3441, 0.025057853234274563), (3442, 0.0), (3443, 0.005523133822369166), (3444, 0.04162345752210581), (3445, 0.0), (3446, 0.0), (3447, 0.021126871339285445), (3448, 0.0), (3449, 0.005700718533156777), (3450, 0.03732558783660079), (3451, 0.0), (3452, 0.011485373585500025), (3453, 0.0), (3454, 0.0), (3455, 0.0), (3456, 0.03326314598593701), (3457, 0.0), (3458, 0.0), (3459, 0.0), (3460, 0.0), (3461, 0.0057672272004393125), (3462, 0.0), (3463, 0.0), (3464, 0.005569587861135656), (3465, 0.0), (3466, 0.0), (3467, 0.02337569004709699), (3468, 0.0), (3469, 0.0), (3470, 0.0), (3471, 0.0), (3472, 0.0), (3473, 0.0), (3474, 0.0), (3475, 0.0), (3476, 0.0), (3477, 0.005338522188089073), (3478, 0.0), (3479, 0.007059650913172728), (3480, 0.0), (3481, 0.0), (3482, 0.0), (3483, 0.0), (3484, 0.0), (3485, 0.004885079083877812), (3486, 0.0), (3487, 0.011326381479751286), (3488, 0.0), (3489, 0.0), (3490, 0.03267561398836559), (3491, 0.0), (3492, 0.0), (3493, 0.005715019379416716), (3494, 0.0), (3495, 0.0), (3496, 0.005698686280752892), (3497, 0.0), (3498, 0.0), (3499, 0.0), (3500, 0.005376251785914161), (3501, 0.0), (3502, 0.0), (3503, 0.01091651270460531), (3504, 0.0), (3505, 0.0), (3506, 0.0), (3507, 0.0), (3508, 0.005391986556798534), (3509, 0.032071825043646064), (3510, 0.0), (3511, 0.0), (3512, 0.008816879703758204), (3513, 0.005549874648426352), (3514, 0.005616019092214436), (3515, 0.034269623954591724), (3516, 0.0), (3517, 0.005437704341831728), (3518, 0.020223613052855974), (3519, 0.027335059310310786), (3520, 0.04449422043170572), (3521, 0.0), (3522, 0.0), (3523, 0.0), (3524, 0.0), (3525, 0.0), (3526, 0.0), (3527, 0.0), (3528, 0.0), (3529, 1.0000000000000002), (3530, 0.0), (3531, 0.005339816508467297), (3532, 0.0), (3533, 0.0), (3534, 0.0), (3535, 0.0), (3536, 0.0), (3537, 0.006724390612684356), (3538, 0.004466532171452322), (3539, 0.005560656712004695), (3540, 0.0), (3541, 0.0), (3542, 0.0), (3543, 0.0), (3544, 0.006677585616557385), (3545, 0.006027520464286018), (3546, 0.0), (3547, 0.0), (3548, 0.017243951724586638), (3549, 0.005618082309677766), (3550, 0.0), (3551, 0.0), (3552, 0.008636473125714132), (3553, 0.0), (3554, 0.006386033984809186), (3555, 0.0), (3556, 0.0), (3557, 0.0), (3558, 0.0), (3559, 0.00462517875526236), (3560, 0.0), (3561, 0.0), (3562, 0.0051864416586826076), (3563, 0.0), (3564, 0.0), (3565, 0.011059347523583575), (3566, 0.0), (3567, 0.0), (3568, 0.0), (3569, 0.0), (3570, 0.03092569938038406), (3571, 0.016427852755351215), (3572, 0.0), (3573, 0.0), (3574, 0.004213856251495953), (3575, 0.004678725589964964), (3576, 0.0), (3577, 0.04303519640684355), (3578, 0.0), (3579, 0.03368855555575558), (3580, 0.0), (3581, 0.00595823244279322), (3582, 0.005255201674559822), (3583, 0.0), (3584, 0.005974943544757535), (3585, 0.022774693707662056), (3586, 0.0), (3587, 0.0), (3588, 0.0), (3589, 0.015955061833838602), (3590, 0.0), (3591, 0.0), (3592, 0.006583432306537378), (3593, 0.0), (3594, 0.0), (3595, 0.005230687227086683), (3596, 0.0), (3597, 0.0), (3598, 0.004900404339418909), (3599, 0.005613284186759543), (3600, 0.0), (3601, 0.005937065896243428), (3602, 0.0), (3603, 0.00561543452793358), (3604, 0.021150917147545127), (3605, 0.0), (3606, 0.005338803647564001), (3607, 0.014104688066104753), (3608, 0.0), (3609, 0.0), (3610, 0.0), (3611, 0.0), (3612, 0.0), (3613, 0.0), (3614, 0.0), (3615, 0.0), (3616, 0.006356394740818021), (3617, 0.02884072194635043), (3618, 0.0), (3619, 0.0), (3620, 0.0), (3621, 0.006278087629590427), (3622, 0.005264801739462092), (3623, 0.0), (3624, 0.03185819533510699), (3625, 0.0), (3626, 0.004220162828019927), (3627, 0.0), (3628, 0.005965971567917594), (3629, 0.0), (3630, 0.021153765932575563), (3631, 0.0), (3632, 0.0054717277258316994), (3633, 0.005048189596469625), (3634, 0.0), (3635, 0.0), (3636, 0.0), (3637, 0.010406290650288303), (3638, 0.0), (3639, 0.0), (3640, 0.0), (3641, 0.038113271418268695), (3642, 0.0), (3643, 0.0), (3644, 0.005432465846316486), (3645, 0.0), (3646, 0.00519031387141583), (3647, 0.0), (3648, 0.005586418181609428), (3649, 0.0063281629315817475), (3650, 0.005455125427717452), (3651, 0.013140019909029802), (3652, 0.006094697251519151), (3653, 0.0), (3654, 0.0), (3655, 0.0), (3656, 0.0), (3657, 0.0), (3658, 0.047149170967456765), (3659, 0.03729658981598973), (3660, 0.0), (3661, 0.0), (3662, 0.0), (3663, 0.0), (3664, 0.0), (3665, 0.016610328466687245), (3666, 0.0), (3667, 0.0), (3668, 0.009950342474842834), (3669, 0.0), (3670, 0.0), (3671, 0.006634599105088683), (3672, 0.0), (3673, 0.005469597733833133), (3674, 0.014645894398501606), (3675, 0.0), (3676, 0.005850760192936262), (3677, 0.0), (3678, 0.017817630440607933), (3679, 0.0), (3680, 0.0), (3681, 0.04672344206076133), (3682, 0.0), (3683, 0.0), (3684, 0.004638343105800871), (3685, 0.005332660459404996), (3686, 0.006665510261431331), (3687, 0.0), (3688, 0.033527260028731784), (3689, 0.0), (3690, 0.03357095165930014), (3691, 0.0), (3692, 0.0), (3693, 0.0), (3694, 0.0), (3695, 0.0), (3696, 0.0), (3697, 0.0), (3698, 0.0), (3699, 0.0), (3700, 0.0), (3701, 0.0), (3702, 0.0), (3703, 0.0), (3704, 0.0), (3705, 0.01068151335240932), (3706, 0.0), (3707, 0.0), (3708, 0.0), (3709, 0.011427291822744177), (3710, 0.0), (3711, 0.0), (3712, 0.0), (3713, 0.0), (3714, 0.0), (3715, 0.007257045578685209), (3716, 0.010525445841771062), (3717, 0.0), (3718, 0.030441339319096067), (3719, 0.0), (3720, 0.0), (3721, 0.0), (3722, 0.0), (3723, 0.0), (3724, 0.0), (3725, 0.0), (3726, 0.0), (3727, 0.0), (3728, 0.005592121574585279), (3729, 0.030266050724496212), (3730, 0.0), (3731, 0.07536131788981133), (3732, 0.005152317500188808), (3733, 0.011044911377149582), (3734, 0.0), (3735, 0.0), (3736, 0.005044531783049868), (3737, 0.0), (3738, 0.0), (3739, 0.0), (3740, 0.0), (3741, 0.0), (3742, 0.0), (3743, 0.0), (3744, 0.0), (3745, 0.0), (3746, 0.011429523949740672), (3747, 0.0), (3748, 0.004805956535033003), (3749, 0.0), (3750, 0.01477719847084073), (3751, 0.016588319016110152), (3752, 0.010452375139333763), (3753, 0.005229100106479851), (3754, 0.013250396191560463), (3755, 0.0), (3756, 0.0), (3757, 0.0), (3758, 0.006459622781898824), (3759, 0.0), (3760, 0.0), (3761, 0.0), (3762, 0.0), (3763, 0.006702952107225716), (3764, 0.006402883584364533), (3765, 0.0), (3766, 0.0), (3767, 0.004866191802762699), (3768, 0.0), (3769, 0.0), (3770, 0.0), (3771, 0.0), (3772, 0.0), (3773, 0.0), (3774, 0.0), (3775, 0.0), (3776, 0.0), (3777, 0.0), (3778, 0.0), (3779, 0.0), (3780, 0.0), (3781, 0.0), (3782, 0.012830826844997097), (3783, 0.0), (3784, 0.0), (3785, 0.0), (3786, 0.0), (3787, 0.0), (3788, 0.0), (3789, 0.0), (3790, 0.005648335875132066), (3791, 0.0), (3792, 0.0054758670447994946), (3793, 0.0), (3794, 0.04912820738897165), (3795, 0.0), (3796, 0.007286906726371045), (3797, 0.0), (3798, 0.0), (3799, 0.0), (3800, 0.006915264201333227), (3801, 0.0), (3802, 0.012817209808374502), (3803, 0.0), (3804, 0.0), (3805, 0.005506291128571103), (3806, 0.0), (3807, 0.0), (3808, 0.006176411884113118), (3809, 0.0), (3810, 0.0), (3811, 0.0), (3812, 0.00580894392142425), (3813, 0.0), (3814, 0.0), (3815, 0.0), (3816, 0.0), (3817, 0.012855860060320723), (3818, 0.0), (3819, 0.0), (3820, 0.0), (3821, 0.0), (3822, 0.005792849735598221), (3823, 0.0), (3824, 0.0), (3825, 0.0), (3826, 0.0), (3827, 0.0), (3828, 0.0), (3829, 0.01068449804666787), (3830, 0.0), (3831, 0.022265970702976964), (3832, 0.0), (3833, 0.0), (3834, 0.0), (3835, 0.0), (3836, 0.0), (3837, 0.0), (3838, 0.0), (3839, 0.004928267926061628), (3840, 0.0), (3841, 0.0), (3842, 0.0050302635241297015), (3843, 0.0), (3844, 0.006521817479376928), (3845, 0.005808894793461464), (3846, 0.0), (3847, 0.0), (3848, 0.0), (3849, 0.0), (3850, 0.03436149862588825), (3851, 0.0), (3852, 0.0), (3853, 0.0), (3854, 0.010801055785131125), (3855, 0.0), (3856, 0.004751022760446749), (3857, 0.0), (3858, 0.005997784520493562), (3859, 0.004966831498821426), (3860, 0.018331889188585835), (3861, 0.0), (3862, 0.0), (3863, 0.0), (3864, 0.0), (3865, 0.03497617293786227), (3866, 0.006323104127287993), (3867, 0.0), (3868, 0.0052862254065267605), (3869, 0.0), (3870, 0.0), (3871, 0.020467007777348212), (3872, 0.0), (3873, 0.0), (3874, 0.0), (3875, 0.004433761745554126), (3876, 0.0), (3877, 0.0), (3878, 0.0), (3879, 0.005377921746129739), (3880, 0.0), (3881, 0.0), (3882, 0.017320757892126937), (3883, 0.0), (3884, 0.0), (3885, 0.0), (3886, 0.005228614880489567), (3887, 0.0), (3888, 0.005452165802304024), (3889, 0.005769751405624368), (3890, 0.005352316758974466), (3891, 0.0), (3892, 0.006934007419114168), (3893, 0.0), (3894, 0.010937142037469011), (3895, 0.0), (3896, 0.0), (3897, 0.0), (3898, 0.0), (3899, 0.0), (3900, 0.0), (3901, 0.0), (3902, 0.0), (3903, 0.0), (3904, 0.0), (3905, 0.005634018594876353), (3906, 0.0), (3907, 0.0), (3908, 0.0207974804822), (3909, 0.018976117820738086), (3910, 0.0), (3911, 0.0), (3912, 0.0), (3913, 0.03640105161883828), (3914, 0.004786537204373596), (3915, 0.0), (3916, 0.03784282504323711), (3917, 0.0), (3918, 0.0), (3919, 0.0057827453151679436), (3920, 0.0361143222538041), (3921, 0.0), (3922, 0.0), (3923, 0.0049580347616543525), (3924, 0.012613274868157965), (3925, 0.0), (3926, 0.0), (3927, 0.0), (3928, 0.0), (3929, 0.0), (3930, 0.0), (3931, 0.0), (3932, 0.0), (3933, 0.004812238466072155), (3934, 0.00569186968179215), (3935, 0.0), (3936, 0.007477107551842969), (3937, 0.0), (3938, 0.0), (3939, 0.0), (3940, 0.009544921913384092), (3941, 0.004979272239237942), (3942, 0.0), (3943, 0.01785395975594499), (3944, 0.0), (3945, 0.0), (3946, 0.0), (3947, 0.0), (3948, 0.0), (3949, 0.0074750947678412834), (3950, 0.00582158544670832), (3951, 0.0), (3952, 0.0064526479958318655), (3953, 0.0), (3954, 0.0), (3955, 0.0), (3956, 0.0), (3957, 0.0), (3958, 0.0), (3959, 0.0), (3960, 0.012893301589281524), (3961, 0.0), (3962, 0.0), (3963, 0.0), (3964, 0.0059688167690087335), (3965, 0.0), (3966, 0.011452466920855713), (3967, 0.006126088247718018), (3968, 0.0), (3969, 0.0), (3970, 0.0), (3971, 0.0), (3972, 0.0), (3973, 0.005637875954907855), (3974, 0.0), (3975, 0.0), (3976, 0.0), (3977, 0.0), (3978, 0.0), (3979, 0.03241432460700489), (3980, 0.0), (3981, 0.0), (3982, 0.0), (3983, 0.008963823886619123), (3984, 0.005961370086460734), (3985, 0.0), (3986, 0.0), (3987, 0.0), (3988, 0.0), (3989, 0.0), (3990, 0.0), (3991, 0.0), (3992, 0.0), (3993, 0.0), (3994, 0.0), (3995, 0.0), (3996, 0.0), (3997, 0.0), (3998, 0.0052932364159553), (3999, 0.0), (4000, 0.0), (4001, 0.0), (4002, 0.0), (4003, 0.0), (4004, 0.0), (4005, 0.0), (4006, 0.0), (4007, 0.03373249664867552), (4008, 0.0), (4009, 0.0), (4010, 0.0), (4011, 0.0), (4012, 0.010638241639223998), (4013, 0.0), (4014, 0.0), (4015, 0.009892906559332908), (4016, 0.0), (4017, 0.0), (4018, 0.004936733390548949), (4019, 0.0), (4020, 0.0), (4021, 0.0), (4022, 0.0), (4023, 0.006282952388135725), (4024, 0.0), (4025, 0.0), (4026, 0.011830957910912413), (4027, 0.005537793937648055), (4028, 0.0), (4029, 0.00544384318083195), (4030, 0.0), (4031, 0.0), (4032, 0.0), (4033, 0.0), (4034, 0.0), (4035, 0.0), (4036, 0.005358628460069924), (4037, 0.005331298427291799), (4038, 0.0), (4039, 0.0), (4040, 0.0), (4041, 0.0), (4042, 0.0), (4043, 0.0), (4044, 0.0), (4045, 0.0), (4046, 0.0), (4047, 0.0), (4048, 0.0), (4049, 0.005403187477524016), (4050, 0.0), (4051, 0.006195744278758868), (4052, 0.005771330813160359), (4053, 0.0), (4054, 0.01744673583091161), (4055, 0.0), (4056, 0.03188883714297017), (4057, 0.0), (4058, 0.0), (4059, 0.0), (4060, 0.0), (4061, 0.005777126359229261), (4062, 0.0), (4063, 0.0), (4064, 0.006659730788789688), (4065, 0.0), (4066, 0.0049231549503765), (4067, 0.0), (4068, 0.0), (4069, 0.0), (4070, 0.0), (4071, 0.0051755660851250315), (4072, 0.0), (4073, 0.005386639132708824), (4074, 0.010329066040767667), (4075, 0.0), (4076, 0.04605585115459265), (4077, 0.0), (4078, 0.0), (4079, 0.012524783405352666), (4080, 0.0), (4081, 0.0), (4082, 0.02870897461225537), (4083, 0.0), (4084, 0.006995888390675145), (4085, 0.0), (4086, 0.006179024648855659), (4087, 0.0), (4088, 0.0), (4089, 0.0), (4090, 0.0), (4091, 0.0), (4092, 0.0), (4093, 0.005725012334028064), (4094, 0.0057466124664334785), (4095, 0.0), (4096, 0.0), (4097, 0.0), (4098, 0.0), (4099, 0.005342823199020547), (4100, 0.0), (4101, 0.0), (4102, 0.007077176954594536), (4103, 0.0), (4104, 0.004929841892245142), (4105, 0.00626412994231948), (4106, 0.0), (4107, 0.0), (4108, 0.005776410220798692), (4109, 0.037916214389176486), (4110, 0.0), (4111, 0.0), (4112, 0.005356756025897076), (4113, 0.00596454713470782), (4114, 0.0), (4115, 0.0), (4116, 0.0), (4117, 0.02018823482961215), (4118, 0.006088298398848095), (4119, 0.0), (4120, 0.0), (4121, 0.006105940519223296), (4122, 0.014682179990602078), (4123, 0.0), (4124, 0.0), (4125, 0.0), (4126, 0.0), (4127, 0.0), (4128, 0.0), (4129, 0.0), (4130, 0.0), (4131, 0.0), (4132, 0.005841278581972678), (4133, 0.0), (4134, 0.0), (4135, 0.005420375735414903), (4136, 0.0), (4137, 0.0), (4138, 0.0), (4139, 0.0), (4140, 0.0060280932828620055), (4141, 0.029121329710686896), (4142, 0.0), (4143, 0.010554117445740132), (4144, 0.0), (4145, 0.0), (4146, 0.0), (4147, 0.020415864538368328), (4148, 0.0), (4149, 0.0), (4150, 0.0), (4151, 0.0), (4152, 0.0), (4153, 0.0), (4154, 0.0), (4155, 0.010872591391069567), (4156, 0.02629867993600093), (4157, 0.0), (4158, 0.0), (4159, 0.0), (4160, 0.0), (4161, 0.0), (4162, 0.0), (4163, 0.0), (4164, 0.0), (4165, 0.0), (4166, 0.007115421704405305), (4167, 0.0), (4168, 0.0), (4169, 0.07625610524046376), (4170, 0.0), (4171, 0.01661841612333951), (4172, 0.0), (4173, 0.005752269992945804), (4174, 0.0050546740865698115), (4175, 0.0), (4176, 0.0), (4177, 0.0), (4178, 0.0), (4179, 0.0), (4180, 0.0), (4181, 0.0), (4182, 0.0), (4183, 0.0), (4184, 0.0), (4185, 0.0), (4186, 0.021431877748378163), (4187, 0.0), (4188, 0.0), (4189, 0.0), (4190, 0.006363201914568836), (4191, 0.0048261342153187795), (4192, 0.0051541212182491325), (4193, 0.0), (4194, 0.0), (4195, 0.005420358934990226), (4196, 0.0), (4197, 0.005262363384535193), (4198, 0.007295806008887563), (4199, 0.0), (4200, 0.004741129227011413), (4201, 0.0), (4202, 0.0), (4203, 0.006139767805172739), (4204, 0.0), (4205, 0.0), (4206, 0.005337579014463665), (4207, 0.0060267654454303704), (4208, 0.0), (4209, 0.0), (4210, 0.0), (4211, 0.0), (4212, 0.0), (4213, 0.0052971306392046785), (4214, 0.0), (4215, 0.0), (4216, 0.0), (4217, 0.010426687702148012), (4218, 0.005425722808942836), (4219, 0.0), (4220, 0.0), (4221, 0.0), (4222, 0.007324335279195147), (4223, 0.007875916704881546), (4224, 0.03309972407037261), (4225, 0.0), (4226, 0.005918991281610101), (4227, 0.0), (4228, 0.0), (4229, 0.0), (4230, 0.0), (4231, 0.0), (4232, 0.0), (4233, 0.037735742259890126), (4234, 0.0056367062075617395), (4235, 0.0), (4236, 0.0), (4237, 0.004971317896182074), (4238, 0.0), (4239, 0.0), (4240, 0.0), (4241, 0.011709591360260492), (4242, 0.014275004751441474), (4243, 0.0), (4244, 0.0), (4245, 0.02738859097557993), (4246, 0.005168147811930937), (4247, 0.0), (4248, 0.0), (4249, 0.0), (4250, 0.0), (4251, 0.0), (4252, 0.005248787352124315), (4253, 0.0), (4254, 0.0053948040348826545), (4255, 0.0), (4256, 0.0), (4257, 0.0), (4258, 0.0), (4259, 0.005829669130318971), (4260, 0.0), (4261, 0.0), (4262, 0.0), (4263, 0.005720453854060332), (4264, 0.0), (4265, 0.0), (4266, 0.0), (4267, 0.0), (4268, 0.011577807070552504), (4269, 0.0), (4270, 0.0), (4271, 0.0), (4272, 0.005121388528289527), (4273, 0.0), (4274, 0.0), (4275, 0.0), (4276, 0.0), (4277, 0.0), (4278, 0.0), (4279, 0.0), (4280, 0.0), (4281, 0.0), (4282, 0.0), (4283, 0.0), (4284, 0.0), (4285, 0.006289345641309637), (4286, 0.0), (4287, 0.005540062246367446), (4288, 0.0), (4289, 0.0), (4290, 0.0), (4291, 0.0), (4292, 0.011077657263464926), (4293, 0.006297347503159262), (4294, 0.0), (4295, 0.006247406273589032), (4296, 0.0), (4297, 0.0), (4298, 0.0), (4299, 0.0), (4300, 0.005820014626285526), (4301, 0.0), (4302, 0.0), (4303, 0.0), (4304, 0.005338741056613358), (4305, 0.0), (4306, 0.0), (4307, 0.0), (4308, 0.006053247063216421), (4309, 0.0), (4310, 0.0), (4311, 0.0), (4312, 0.0), (4313, 0.0), (4314, 0.0), (4315, 0.005935251063338176), (4316, 0.0), (4317, 0.0), (4318, 0.0), (4319, 0.005613819743979143), (4320, 0.0), (4321, 0.005088975825095772), (4322, 0.0), (4323, 0.005932060002814455), (4324, 0.005817599607581567), (4325, 0.005066894462535848), (4326, 0.0), (4327, 0.005142442220637401), (4328, 0.0), (4329, 0.0), (4330, 0.0), (4331, 0.0), (4332, 0.0), (4333, 0.0), (4334, 0.0), (4335, 0.0), (4336, 0.0), (4337, 0.0), (4338, 0.0), (4339, 0.0), (4340, 0.0), (4341, 0.006407370874908598), (4342, 0.018429591389802002), (4343, 0.010412801906402199), (4344, 0.017241932394877285), (4345, 0.0), (4346, 0.006051418435863244), (4347, 0.02635881157644461), (4348, 0.0), (4349, 0.0), (4350, 0.0), (4351, 0.005940610513308205), (4352, 0.025220984490481334), (4353, 0.0), (4354, 0.0), (4355, 0.0), (4356, 0.030841877741800028), (4357, 0.005756642977548878), (4358, 0.0), (4359, 0.023154369221664608), (4360, 0.0), (4361, 0.021423251885966624), (4362, 0.0), (4363, 0.0), (4364, 0.0), (4365, 0.0), (4366, 0.0), (4367, 0.0), (4368, 0.0), (4369, 0.10720356511072936), (4370, 0.0), (4371, 0.0), (4372, 0.0), (4373, 0.0), (4374, 0.010911301965131629), (4375, 0.0), (4376, 0.0), (4377, 0.0), (4378, 0.012043284152157418), (4379, 0.0), (4380, 0.0), (4381, 0.0), (4382, 0.0), (4383, 0.0), (4384, 0.0), (4385, 0.0), (4386, 0.0), (4387, 0.0), (4388, 0.0), (4389, 0.035595022807312415), (4390, 0.0), (4391, 0.0), (4392, 0.0), (4393, 0.0), (4394, 0.0), (4395, 0.005646055600674483), (4396, 0.0), (4397, 0.0), (4398, 0.0), (4399, 0.0), (4400, 0.0), (4401, 0.0), (4402, 0.0), (4403, 0.0), (4404, 0.005554596964960042), (4405, 0.010853853316899661), (4406, 0.0), (4407, 0.0), (4408, 0.0065278070029360195), (4409, 0.0), (4410, 0.01306264016521119), (4411, 0.0), (4412, 0.0), (4413, 0.0), (4414, 0.0), (4415, 0.0), (4416, 0.0), (4417, 0.0), (4418, 0.0), (4419, 0.0), (4420, 0.01766126735421663), (4421, 0.0), (4422, 0.005701810691644991), (4423, 0.0), (4424, 0.0), (4425, 0.0), (4426, 0.015377223983369596), (4427, 0.0), (4428, 0.0), (4429, 0.0), (4430, 0.0), (4431, 0.0), (4432, 0.0), (4433, 0.005841871663737864), (4434, 0.005700108494768009), (4435, 0.0), (4436, 0.0), (4437, 0.01001081541193898), (4438, 0.0), (4439, 0.0), (4440, 0.006559624496438043), (4441, 0.010788079631471485), (4442, 0.005229284685021283), (4443, 0.0), (4444, 0.0), (4445, 0.03967504308696094), (4446, 0.026636137528402843), (4447, 0.0052206192741067175), (4448, 0.006019930845578656), (4449, 0.0), (4450, 0.0), (4451, 0.01371231543088128), (4452, 0.0), (4453, 0.006126544688320494), (4454, 0.0), (4455, 0.0), (4456, 0.0), (4457, 0.005593912551775311), (4458, 0.0), (4459, 0.0), (4460, 0.006077931388377451), (4461, 0.0), (4462, 0.0), (4463, 0.006217624508090042), (4464, 0.0), (4465, 0.0), (4466, 0.0), (4467, 0.0), (4468, 0.0), (4469, 0.0), (4470, 0.0), (4471, 0.0), (4472, 0.0), (4473, 0.005036811991547749), (4474, 0.0), (4475, 0.0), (4476, 0.0), (4477, 0.0), (4478, 0.03516660987318195), (4479, 0.05362121770303757), (4480, 0.0), (4481, 0.0), (4482, 0.0), (4483, 0.0064651751770879095), (4484, 0.0), (4485, 0.0), (4486, 0.005545187648883046), (4487, 0.0), (4488, 0.0), (4489, 0.005776687971071351), (4490, 0.0), (4491, 0.0), (4492, 0.0), (4493, 0.0), (4494, 0.0), (4495, 0.038207800817795394), (4496, 0.0), (4497, 0.0), (4498, 0.04229359133702667), (4499, 0.0), (4500, 0.0), (4501, 0.0), (4502, 0.0), (4503, 0.0), (4504, 0.0), (4505, 0.0), (4506, 0.0), (4507, 0.0), (4508, 0.0), (4509, 0.0), (4510, 0.034620824665288076), (4511, 0.0), (4512, 0.0), (4513, 0.0), (4514, 0.006580063140607002), (4515, 0.0), (4516, 0.0), (4517, 0.0), (4518, 0.0), (4519, 0.0048467290312392865), (4520, 0.0), (4521, 0.0), (4522, 0.006188470462459652), (4523, 0.0), (4524, 0.038708040732454346), (4525, 0.0), (4526, 0.0), (4527, 0.0), (4528, 0.0), (4529, 0.0), (4530, 0.0), (4531, 0.0), (4532, 0.0), (4533, 0.0), (4534, 0.011066316990517364), (4535, 0.0), (4536, 0.02394652182943193), (4537, 0.0), (4538, 0.0), (4539, 0.0), (4540, 0.0), (4541, 0.0), (4542, 0.024486022973031492), (4543, 0.0), (4544, 0.0), (4545, 0.0), (4546, 0.0), (4547, 0.0), (4548, 0.011190479998390719), (4549, 0.0), (4550, 0.0), (4551, 0.01226314168154805), (4552, 0.005500443320865154), (4553, 0.0), (4554, 0.0), (4555, 0.00829653788434461), (4556, 0.01146722553736104), (4557, 0.005664416192549642), (4558, 0.01847467297917779), (4559, 0.0), (4560, 0.02816981646822049), (4561, 0.0), (4562, 0.007026237468965083), (4563, 0.0), (4564, 0.0), (4565, 0.0), (4566, 0.0), (4567, 0.011606658249251075), (4568, 0.0), (4569, 0.0), (4570, 0.006707610423519569), (4571, 0.0), (4572, 0.0), (4573, 0.0), (4574, 0.0), (4575, 0.0), (4576, 0.0), (4577, 0.0), (4578, 0.0), (4579, 0.0), (4580, 0.006095489758874985), (4581, 0.0), (4582, 0.0), (4583, 0.0), (4584, 0.0), (4585, 0.04798649521278885), (4586, 0.0), (4587, 0.0), (4588, 0.0), (4589, 0.0), (4590, 0.0), (4591, 0.0), (4592, 0.08664412317803676), (4593, 0.0), (4594, 0.0), (4595, 0.0), (4596, 0.0), (4597, 0.0), (4598, 0.0), (4599, 0.006172769253811993), (4600, 0.024186464073316663), (4601, 0.0), (4602, 0.0), (4603, 0.005567364801645891), (4604, 0.0), (4605, 0.0), (4606, 0.01512575560023297), (4607, 0.04564892024515341), (4608, 0.0), (4609, 0.0), (4610, 0.0), (4611, 0.0), (4612, 0.0), (4613, 0.0), (4614, 0.049459659360864265), (4615, 0.0), (4616, 0.0), (4617, 0.0), (4618, 0.0), (4619, 0.0), (4620, 0.0), (4621, 0.0), (4622, 0.0), (4623, 0.011420460671742417), (4624, 0.0), (4625, 0.0), (4626, 0.0), (4627, 0.0049058590684142875), (4628, 0.005629486908508034), (4629, 0.0), (4630, 0.0), (4631, 0.0), (4632, 0.0), (4633, 0.006299913134376697), (4634, 0.0), (4635, 0.0), (4636, 0.004735115809011407), (4637, 0.0), (4638, 0.0), (4639, 0.0), (4640, 0.0), (4641, 0.0), (4642, 0.0), (4643, 0.0), (4644, 0.0), (4645, 0.0), (4646, 0.0), (4647, 0.030806339987820574), (4648, 0.0), (4649, 0.0), (4650, 0.035752678987729956), (4651, 0.0), (4652, 0.031180552197092783), (4653, 0.023907324266464268), (4654, 0.0), (4655, 0.0), (4656, 0.0), (4657, 0.0), (4658, 0.011038931896697893), (4659, 0.0), (4660, 0.0), (4661, 0.0), (4662, 0.0), (4663, 0.0), (4664, 0.0), (4665, 0.0), (4666, 0.0), (4667, 0.0), (4668, 0.0), (4669, 0.0), (4670, 0.0), (4671, 0.0), (4672, 0.0), (4673, 0.0), (4674, 0.018779424888737555), (4675, 0.0056408742835882646), (4676, 0.0), (4677, 0.011823733873402818), (4678, 0.0), (4679, 0.0), (4680, 0.0), (4681, 0.0), (4682, 0.0), (4683, 0.0), (4684, 0.0), (4685, 0.0), (4686, 0.0), (4687, 0.0), (4688, 0.011544183531755589), (4689, 0.0), (4690, 0.0), (4691, 0.0), (4692, 0.0), (4693, 0.0), (4694, 0.0), (4695, 0.0), (4696, 0.0), (4697, 0.0), (4698, 0.0), (4699, 0.0), (4700, 0.007202462714972075), (4701, 0.0), (4702, 0.0), (4703, 0.0), (4704, 0.04137097958944125), (4705, 0.0), (4706, 0.0), (4707, 0.0), (4708, 0.0), (4709, 0.0), (4710, 0.0), (4711, 0.0), (4712, 0.0), (4713, 0.0), (4714, 0.0), (4715, 0.0), (4716, 0.0), (4717, 0.006550339271410653), (4718, 0.0), (4719, 0.009575585598314958), (4720, 0.006850910661367847), (4721, 0.006654128364435846), (4722, 0.0), (4723, 0.0), (4724, 0.0), (4725, 0.007352197561662782), (4726, 0.0), (4727, 0.0), (4728, 0.0), (4729, 0.0), (4730, 0.0), (4731, 0.0), (4732, 0.0), (4733, 0.0), (4734, 0.0), (4735, 0.0), (4736, 0.011525964369458174), (4737, 0.0), (4738, 0.005321315787990402), (4739, 0.0), (4740, 0.0), (4741, 0.0), (4742, 0.0), (4743, 0.011286397489134932), (4744, 0.004598014244658204), (4745, 0.0), (4746, 0.006566319033469645), (4747, 0.013123687266879114), (4748, 0.0), (4749, 0.0), (4750, 0.0), (4751, 0.0), (4752, 0.0), (4753, 0.0), (4754, 0.0), (4755, 0.0), (4756, 0.01745304885339504), (4757, 0.0), (4758, 0.0), (4759, 0.0)]\n"
          ]
        }
      ]
    },
    {
      "cell_type": "code",
      "source": [
        "len(Recommendation_Score)"
      ],
      "metadata": {
        "colab": {
          "base_uri": "https://localhost:8080/"
        },
        "id": "ywH336JCPENz",
        "outputId": "58d2577a-83e4-4558-ae0d-e11b7e9cd69f"
      },
      "execution_count": 31,
      "outputs": [
        {
          "output_type": "execute_result",
          "data": {
            "text/plain": [
              "4760"
            ]
          },
          "metadata": {},
          "execution_count": 31
        }
      ]
    },
    {
      "cell_type": "markdown",
      "source": [
        "**Get All Movies Sort Based on Recommendation Score wrt Favourite Movie**"
      ],
      "metadata": {
        "id": "A7e6HK7jQ8C3"
      }
    },
    {
      "cell_type": "code",
      "source": [
        "# sorting the movies based on their similarity score\n",
        "Sorted_Similar_Movies=sorted(Recommendation_Score,key = lambda x:x[1],reverse = True)\n",
        "print(Sorted_Similar_Movies)"
      ],
      "metadata": {
        "colab": {
          "base_uri": "https://localhost:8080/"
        },
        "id": "v5gMrPG3RKZM",
        "outputId": "e3c543e4-0bde-427e-ba57-16ea7107c88e"
      },
      "execution_count": 32,
      "outputs": [
        {
          "output_type": "stream",
          "name": "stdout",
          "text": [
            "[(3529, 1.0000000000000002), (2056, 0.13176974286525972), (2756, 0.1100350896124247), (4369, 0.10720356511072936), (1366, 0.09795904249914583), (630, 0.09200198720257347), (3227, 0.08945635605961177), (3305, 0.08700045390647063), (4592, 0.08664412317803676), (268, 0.07722437726543718), (2600, 0.07704393345276787), (2494, 0.07645337674555339), (1925, 0.07639249677416673), (4169, 0.07625610524046376), (3731, 0.07536131788981133), (1830, 0.07251215554543805), (794, 0.07019269126035255), (1075, 0.06907201067806024), (2668, 0.06841579287934153), (124, 0.06787728177283156), (1678, 0.06689851055667372), (2750, 0.06661501311276902), (3124, 0.06532967249229517), (1019, 0.06521737990457406), (1729, 0.0645948342675624), (1787, 0.06161661817903146), (2367, 0.058845723932494445), (1372, 0.058573235212145774), (3220, 0.05836416236625604), (2908, 0.05755053138696615), (3272, 0.05627545340336879), (1131, 0.05623762067194367), (1302, 0.05572946597142857), (2690, 0.055666397017355755), (390, 0.054259410820189424), (4479, 0.05362121770303757), (767, 0.05189766999691291), (3302, 0.051827450180097066), (1718, 0.05098693210904614), (521, 0.05063980232865628), (2742, 0.050577768174095525), (2765, 0.050172397415533754), (3139, 0.050126576872075564), (801, 0.049870842199529794), (1263, 0.04947103785578912), (4614, 0.049459659360864265), (3794, 0.04912820738897165), (657, 0.04905746661484289), (61, 0.048383902095159824), (4585, 0.04798649521278885), (2671, 0.047689963040312484), (732, 0.04757063320627351), (2157, 0.04753496697611646), (2948, 0.04741057976852553), (571, 0.047384982774229936), (2104, 0.047202385559357574), (3658, 0.047149170967456765), (1344, 0.04714746127676253), (1039, 0.0469673988439841), (2167, 0.046925899100276114), (2098, 0.046761759963052194), (3681, 0.04672344206076133), (0, 0.04649379176443639), (2548, 0.046444108205400125), (3185, 0.04616818953614343), (4076, 0.04605585115459265), (4607, 0.04564892024515341), (1563, 0.04535582683630525), (1584, 0.044542580818168497), (2996, 0.04449584366835585), (3520, 0.04449422043170572), (168, 0.04428148986475952), (338, 0.04420433733699299), (1124, 0.04419744666194334), (1374, 0.04390990230460125), (2007, 0.043813079309181505), (3577, 0.04303519640684355), (1529, 0.042985164583205886), (1549, 0.04298151313580688), (2483, 0.04278415273627666), (1214, 0.04240077910576677), (4498, 0.04229359133702667), (3164, 0.042115942883536976), (1944, 0.04184033687344905), (22, 0.04179417494050215), (92, 0.04175305305434572), (3322, 0.041734899250727465), (1543, 0.04164381569864736), (3444, 0.04162345752210581), (339, 0.041554865187110324), (784, 0.04143916654520698), (4704, 0.04137097958944125), (2111, 0.04136662431362992), (2521, 0.04114998099951353), (3228, 0.04107180651609504), (1258, 0.04027317854039342), (1112, 0.0398561141379023), (2525, 0.039761041404243844), (4445, 0.03967504308696094), (2444, 0.03942232081950675), (2856, 0.03939444806105686), (936, 0.03939223655625064), (1198, 0.039107429805354914), (1767, 0.038960250361250455), (773, 0.03885018682463112), (2437, 0.038846261682678795), (2807, 0.03878031926859266), (2565, 0.03877761372708741), (4524, 0.038708040732454346), (2882, 0.03868665478315579), (2399, 0.0385228171154202), (2046, 0.03849510802289405), (3209, 0.03826056064503939), (2613, 0.03823397840359299), (4495, 0.038207800817795394), (2458, 0.03820700804512677), (813, 0.03813051657078496), (3641, 0.038113271418268695), (1485, 0.038029004938720405), (337, 0.037963991177786094), (31, 0.037933101716734946), (4109, 0.037916214389176486), (3916, 0.03784282504323711), (2944, 0.037783449263903895), (2060, 0.037750569018905056), (4233, 0.037735742259890126), (398, 0.03770105395060572), (226, 0.0376482240981749), (1146, 0.037564691307962625), (1359, 0.03740883386728557), (2411, 0.03734339157183849), (3450, 0.03732558783660079), (774, 0.03730920824168037), (3659, 0.03729658981598973), (1677, 0.036995455963889826), (1610, 0.03695727759589927), (2089, 0.03687679668915084), (1126, 0.036786167434598005), (2022, 0.03673659188181945), (183, 0.03670402118070142), (2912, 0.036669993279301004), (260, 0.03658127937805255), (2388, 0.036562640053629816), (3913, 0.03640105161883828), (1184, 0.036295000060649195), (409, 0.03627887986140228), (2419, 0.036251720157369736), (2783, 0.03618811992114771), (3920, 0.0361143222538041), (1942, 0.03608651266047519), (1437, 0.03575834658897393), (4650, 0.035752678987729956), (2130, 0.03573830849481965), (341, 0.03572667144775964), (1420, 0.03570860793476064), (1311, 0.03569487221876225), (3404, 0.03569227514125394), (1794, 0.0356693939948571), (681, 0.035624628212178766), (4389, 0.035595022807312415), (2506, 0.035546196058647096), (2084, 0.03542493509034626), (2522, 0.03539954392582569), (440, 0.03539887338437249), (2688, 0.03536217224272767), (788, 0.03529407292100008), (471, 0.0352848464529318), (2911, 0.0352330443230766), (4478, 0.03516660987318195), (1148, 0.03515261870485949), (673, 0.03506638310224326), (919, 0.03503899680714188), (3865, 0.03497617293786227), (345, 0.03492306382836789), (1375, 0.03473275036825485), (2008, 0.03472294024195039), (4510, 0.034620824665288076), (273, 0.03457843818532637), (3314, 0.03444450284272456), (2330, 0.03443232360714019), (3361, 0.03439637813624668), (3281, 0.03438619117414579), (3850, 0.03436149862588825), (102, 0.034348441107273545), (748, 0.034298856412476306), (2049, 0.03428021928391062), (3515, 0.034269623954591724), (176, 0.034189424624505), (3398, 0.034180568739609854), (631, 0.03411730687816799), (2725, 0.03405233994297322), (1996, 0.03402146144663181), (1119, 0.0340151046854196), (2963, 0.03387836529731455), (15, 0.03375595321394931), (4007, 0.03373249664867552), (3579, 0.03368855555575558), (2170, 0.03365167047880999), (2262, 0.03364689124175242), (3690, 0.03357095165930014), (844, 0.033545902802442025), (3688, 0.033527260028731784), (457, 0.03350963567316674), (620, 0.033401801818988636), (1930, 0.033365088712380926), (2123, 0.033274788926709424), (469, 0.033272928251726654), (3456, 0.03326314598593701), (4224, 0.03309972407037261), (2112, 0.03308139935374439), (749, 0.03304322524390593), (2874, 0.032927979149387665), (636, 0.032781219623887164), (1386, 0.0327810461294957), (1706, 0.03272903965073177), (1970, 0.03272369487969966), (3490, 0.03267561398836559), (808, 0.032621449835790566), (1009, 0.03259166616700456), (2015, 0.03256314572536918), (30, 0.032533735696525734), (376, 0.03250794975558598), (3979, 0.03241432460700489), (2734, 0.032373917640079825), (1666, 0.03231167805852482), (1945, 0.03229302363482983), (1933, 0.03216196021052033), (3509, 0.032071825043646064), (852, 0.032067316242221165), (1475, 0.03189293443787692), (4056, 0.03188883714297017), (3624, 0.03185819533510699), (1597, 0.03175685219039156), (439, 0.03167962946213733), (676, 0.03162649793378921), (3379, 0.031612742903581285), (746, 0.03154343955270084), (2841, 0.031534826266953524), (1223, 0.03148263761628688), (3300, 0.03145055567997709), (2152, 0.03140189581255823), (2622, 0.03129559229662999), (3105, 0.031264930617766085), (2456, 0.031195445315924768), (4652, 0.031180552197092783), (270, 0.0311573583863107), (699, 0.031097548578209372), (671, 0.031073364850434812), (2746, 0.031027337640141588), (2695, 0.03101612487710364), (1041, 0.031010268247131895), (3570, 0.03092569938038406), (4356, 0.030841877741800028), (4647, 0.030806339987820574), (1533, 0.030717912851833454), (2253, 0.030674456194422446), (615, 0.030637465313505027), (3098, 0.030589519332655885), (3089, 0.03052968955564706), (628, 0.030458495788720764), (3718, 0.030441339319096067), (834, 0.030365264301211628), (3252, 0.030363562386409512), (1966, 0.030360815490005463), (3729, 0.030266050724496212), (1480, 0.03021637646848182), (2677, 0.03013269736060286), (3367, 0.03005932591966113), (2140, 0.030047447170662867), (723, 0.029791598695612067), (507, 0.02970937835925487), (1870, 0.0295689017319106), (2473, 0.02955348511464568), (1840, 0.029495761157836205), (833, 0.02946142188622391), (1934, 0.029455940228182743), (601, 0.029290420952519828), (835, 0.02922653339222681), (3120, 0.029127622999232078), (4141, 0.029121329710686896), (2175, 0.02904376017250211), (2666, 0.02891766945386883), (3323, 0.028865666355674415), (2676, 0.028856974021522586), (3617, 0.02884072194635043), (1496, 0.028824789740376215), (4082, 0.02870897461225537), (2020, 0.028707613518161954), (2410, 0.028635851723992446), (2082, 0.028606254390815617), (1487, 0.028473832771369487), (512, 0.0284704829832716), (548, 0.028342014666045814), (2524, 0.028317844318762077), (3319, 0.028269239398218574), (1482, 0.02824789537131229), (323, 0.02823948807895651), (4560, 0.02816981646822049), (2197, 0.028032695880994763), (3313, 0.027970136459301607), (2356, 0.02779799786027461), (3137, 0.02779461482626014), (3418, 0.027691942253505922), (2058, 0.027602196199817994), (885, 0.027594201063460413), (3218, 0.02759075359994357), (2520, 0.027422590293997837), (4245, 0.02738859097557993), (3519, 0.027335059310310786), (3320, 0.02731442416657613), (1980, 0.02729013389263084), (2115, 0.02720713733571661), (340, 0.027187680106709407), (2028, 0.027099873227400754), (1089, 0.027085074107711476), (3401, 0.02705136497183554), (3189, 0.027004116762726325), (1866, 0.02697757408612871), (4446, 0.026636137528402843), (1737, 0.026465911627963176), (1394, 0.026465734428562683), (4347, 0.02635881157644461), (3205, 0.026340014692235455), (4156, 0.02629867993600093), (1165, 0.026149814206534144), (1989, 0.026016233819658972), (1418, 0.02599287117855622), (525, 0.025844668695806317), (2193, 0.02569006042553061), (2792, 0.025542163074765204), (1573, 0.02549989643368253), (1233, 0.02541253500023794), (1522, 0.025284989318891376), (4352, 0.025220984490481334), (2443, 0.025105423420793953), (641, 0.025083010126408466), (993, 0.02507792202230596), (3441, 0.025057853234274563), (1879, 0.02502497382516526), (2220, 0.024685503702684086), (4542, 0.024486022973031492), (4600, 0.024186464073316663), (3250, 0.024095969887298934), (984, 0.023986518620830285), (4536, 0.02394652182943193), (4653, 0.023907324266464268), (300, 0.023890739336496613), (3467, 0.02337569004709699), (1139, 0.02318353200534535), (4359, 0.023154369221664608), (1462, 0.02307023474215683), (1672, 0.02279888612977214), (3585, 0.022774693707662056), (2055, 0.022691047412669824), (1306, 0.022671635728823747), (970, 0.022620863674304964), (3108, 0.022614146026522057), (530, 0.022590702794585596), (207, 0.022575837584532705), (846, 0.022469790417329112), (880, 0.02232679871068521), (1352, 0.02231786447829449), (3831, 0.022265970702976964), (1403, 0.022149952868028275), (2118, 0.022110587687179863), (203, 0.022062320250618366), (2663, 0.02204294936269641), (1088, 0.022033575347437988), (2006, 0.021963749911577), (1115, 0.021884541076693558), (96, 0.02187734438666709), (612, 0.021780157524955407), (355, 0.0217560113190782), (1062, 0.021606347925315943), (1259, 0.021502801026955436), (4186, 0.021431877748378163), (4361, 0.021423251885966624), (3201, 0.021332399771604428), (2035, 0.021298832566910834), (1808, 0.021230575347398736), (3630, 0.021153765932575563), (3604, 0.021150917147545127), (3447, 0.021126871339285445), (1305, 0.020813662645732322), (3908, 0.0207974804822), (3410, 0.020697487338070707), (892, 0.020625514685339654), (320, 0.020604617112227133), (1244, 0.020597713175696995), (1883, 0.02057882211525458), (1335, 0.02049184779926058), (3871, 0.020467007777348212), (2730, 0.020456692371863372), (4147, 0.020415864538368328), (1392, 0.020405272935688216), (2237, 0.020274550195679097), (1127, 0.020247407588354145), (825, 0.020231976919649043), (3518, 0.020223613052855974), (3256, 0.020214965001614266), (1539, 0.02020893649825667), (4117, 0.02018823482961215), (1816, 0.020182869660861885), (1958, 0.020111361673056903), (1111, 0.020080743428859245), (1178, 0.019969633527076865), (225, 0.019769186881118943), (467, 0.019757902318594228), (1087, 0.019754478032866434), (2716, 0.019669046118160526), (1743, 0.01960998173692563), (1044, 0.019550442814626593), (3390, 0.019525624587976444), (1507, 0.019505843724796215), (2852, 0.019075568004513717), (2158, 0.019059661053545552), (1478, 0.01905570504657575), (3909, 0.018976117820738086), (4674, 0.018779424888737555), (2868, 0.018759456655360756), (508, 0.018718628617604333), (1036, 0.018634977529433536), (113, 0.018494690417380773), (4558, 0.01847467297917779), (324, 0.01843732549046521), (4342, 0.018429591389802002), (1409, 0.018424033952362428), (2203, 0.018408394346772376), (428, 0.018405689880604828), (2507, 0.018371025952367146), (3860, 0.018331889188585835), (1456, 0.01831730149609392), (2814, 0.018305389090050143), (744, 0.01828030620265037), (362, 0.0182551958242706), (37, 0.0182310849134686), (1219, 0.01820881295100973), (1467, 0.018148351744090952), (2601, 0.018147074099769997), (2776, 0.018065777291130326), (2817, 0.018031474011333187), (1772, 0.017964156425368867), (3229, 0.017950549499146193), (3175, 0.01789875934172193), (3082, 0.017890207943272615), (3113, 0.017881237270505022), (3943, 0.01785395975594499), (3678, 0.017817630440607933), (3224, 0.017762779447752973), (222, 0.017750225981897023), (1336, 0.017674847867719855), (4420, 0.01766126735421663), (740, 0.01761165234988322), (97, 0.017566298952671325), (2353, 0.017556867641991165), (1506, 0.01746096099935092), (60, 0.017456209707292208), (4756, 0.01745304885339504), (4054, 0.01744673583091161), (1155, 0.017420638994341337), (931, 0.017399932149655746), (1881, 0.01735411797523278), (3882, 0.017320757892126937), (946, 0.017281228188443777), (1411, 0.017272280608429683), (1494, 0.017253402565411115), (3548, 0.017243951724586638), (4344, 0.017241932394877285), (796, 0.01721020356250678), (2813, 0.017152896896713784), (3056, 0.017151364991143475), (377, 0.017138154344735663), (498, 0.017122474488296707), (2070, 0.01707245440106213), (692, 0.017036100996484387), (3270, 0.017017023854850467), (1100, 0.017012413057784975), (1221, 0.016952394837851884), (2687, 0.016897059725877954), (404, 0.016883594281029434), (2122, 0.01687794943070891), (494, 0.016875628199761974), (1845, 0.016819708969354957), (1804, 0.01676415290353309), (945, 0.016704350010937587), (616, 0.016686143089154726), (2697, 0.01668036308468786), (2296, 0.016639468513707113), (3366, 0.016637896607933585), (2329, 0.016633321603176453), (4171, 0.01661841612333951), (3665, 0.016610328466687245), (3751, 0.016588319016110152), (532, 0.016560865820234708), (1948, 0.01650742071807849), (2036, 0.016428543374786844), (3571, 0.016427852755351215), (1752, 0.016418879434165198), (2553, 0.016409356286533602), (738, 0.016407268304395286), (2409, 0.016377245481143665), (1137, 0.01629252665593708), (1878, 0.016235829641677513), (2829, 0.016185195816964683), (1368, 0.016110322961275975), (407, 0.016109130793464713), (2327, 0.01605333337433648), (2962, 0.015963514775405568), (3589, 0.015955061833838602), (3199, 0.01594756274339753), (605, 0.015877309113288194), (311, 0.015865622972132416), (3311, 0.01579858308936906), (212, 0.01575448940480515), (279, 0.01573334505825147), (745, 0.015562520403987408), (3244, 0.015559757085207893), (1903, 0.01550368105957822), (3329, 0.015461776968372169), (3411, 0.015453604147015123), (1008, 0.015423316945731572), (4426, 0.015377223983369596), (3231, 0.015343156615323381), (1216, 0.015342169693257454), (664, 0.015306441070368437), (1652, 0.015244553118353748), (1249, 0.015198743992249485), (77, 0.01516881116068965), (1213, 0.015148147600902558), (4606, 0.01512575560023297), (912, 0.0151066205522535), (1569, 0.015044033188339153), (629, 0.015024679588189822), (1616, 0.014967444603029817), (538, 0.014875567983384703), (545, 0.014850198563062328), (3750, 0.01477719847084073), (4122, 0.014682179990602078), (86, 0.014647915026185914), (3674, 0.014645894398501606), (283, 0.014331395456126593), (4242, 0.014275004751441474), (2378, 0.014114062794156022), (3607, 0.014104688066104753), (691, 0.014017916349605157), (319, 0.013997903127555325), (24, 0.013898099623717115), (156, 0.01387359046612055), (2646, 0.01372783675002352), (4451, 0.01371231543088128), (448, 0.013676570584596797), (351, 0.013540440846725815), (1277, 0.01348595617936224), (3754, 0.013250396191560463), (3651, 0.013140019909029802), (4747, 0.013123687266879114), (4410, 0.01306264016521119), (3239, 0.013010894538484854), (3117, 0.012941533309472501), (143, 0.012940352561181114), (3960, 0.012893301589281524), (3817, 0.012855860060320723), (3782, 0.012830826844997097), (3802, 0.012817209808374502), (1580, 0.012803779822840656), (2159, 0.012713597109237567), (839, 0.012706413252256493), (787, 0.012622688919784755), (3924, 0.012613274868157965), (4079, 0.012524783405352666), (2263, 0.012493554755544017), (2759, 0.012440782596091816), (1679, 0.01240518815852813), (342, 0.012399200251802292), (2196, 0.012340154356424646), (1393, 0.012338718910152664), (2235, 0.012305985405672081), (2053, 0.012295202636697132), (4551, 0.01226314168154805), (792, 0.012260756366854815), (1564, 0.012257154965392904), (2712, 0.012227150804012623), (1876, 0.012199047240870058), (70, 0.012188215333677447), (2893, 0.01217897338463039), (298, 0.0121742411465093), (2037, 0.012159527074533978), (717, 0.01213998763736038), (2809, 0.01210505828668213), (239, 0.012095736319529697), (1109, 0.012062601069853558), (1401, 0.012055070266017345), (4378, 0.012043284152157418), (2304, 0.012025501433636027), (430, 0.012023267984132358), (824, 0.011983574755574891), (1859, 0.011974478743409643), (1195, 0.011965062262155367), (231, 0.01193810760051821), (1599, 0.011934926941521366), (928, 0.011914697024636737), (1777, 0.011892905858354445), (4026, 0.011830957910912413), (3192, 0.01182893237556874), (4677, 0.011823733873402818), (2637, 0.011803538661097965), (87, 0.011797547517091465), (3000, 0.011778755386076223), (1803, 0.011763506175249086), (737, 0.011762545053431803), (1967, 0.011759246043791631), (2632, 0.011736197002063313), (1419, 0.011727859158090471), (2421, 0.01171708682485476), (4241, 0.011709591360260492), (1574, 0.011649003706675796), (4567, 0.011606658249251075), (1334, 0.011587437619302287), (4268, 0.011577807070552504), (1893, 0.011575139903074266), (698, 0.01156796932583193), (3271, 0.011567574605449249), (2151, 0.011566922932309057), (4688, 0.011544183531755589), (821, 0.011536693266648558), (4736, 0.011525964369458174), (1757, 0.01150436664598844), (150, 0.011496709308549822), (3452, 0.011485373585500025), (456, 0.011479794403768848), (4556, 0.01146722553736104), (1951, 0.011463395945605697), (3966, 0.011452466920855713), (1852, 0.01142962214834044), (3746, 0.011429523949740672), (1937, 0.011428839272063883), (822, 0.011427679653826425), (3709, 0.011427291822744177), (1561, 0.01142480097456674), (4623, 0.011420460671742417), (3195, 0.011407121070357495), (2826, 0.011384923621208562), (2174, 0.011380088931242118), (1133, 0.011378676933720699), (2317, 0.011368960068144564), (152, 0.011364233836226726), (344, 0.011334087185278254), (1431, 0.01132736482146385), (3487, 0.011326381479751286), (1026, 0.011325163116951784), (2103, 0.01130935040391166), (1585, 0.011299799073122896), (223, 0.011293724980860224), (1118, 0.011290818920036319), (2430, 0.011288455103745324), (4743, 0.011286397489134932), (1245, 0.011281288998936174), (2610, 0.011281282545665624), (778, 0.011271865233862312), (3121, 0.011239168176516138), (1253, 0.011237982390254718), (373, 0.011233804414994246), (202, 0.011211395781843537), (2106, 0.011210991568768496), (752, 0.011203924868700414), (2540, 0.011201583621710458), (3010, 0.011201460758928505), (2148, 0.011199231458372583), (4548, 0.011190479998390719), (413, 0.011190222715055905), (790, 0.011146075427617374), (2729, 0.011141891099195389), (1130, 0.01114092678274381), (3014, 0.011122848714667215), (246, 0.01110928469114225), (3182, 0.011079290531344333), (4292, 0.011077657263464926), (4534, 0.011066316990517364), (3565, 0.011059347523583575), (2732, 0.011058545093125103), (3733, 0.011044911377149582), (1404, 0.011039741296874843), (4658, 0.011038931896697893), (3338, 0.011023781572364765), (3412, 0.011017443917258922), (132, 0.011015203685757442), (1632, 0.011013874866106612), (356, 0.011012992358146075), (2100, 0.011003709002482607), (2935, 0.010967000115243632), (2517, 0.010953792578688658), (3265, 0.010952176712638297), (1451, 0.010949691304420554), (167, 0.010940925390199219), (3894, 0.010937142037469011), (2751, 0.01093396428647164), (3503, 0.01091651270460531), (4374, 0.010911301965131629), (1412, 0.010894916132760389), (240, 0.01089235807915041), (3370, 0.010888237584207046), (1723, 0.010887062997745686), (2552, 0.010881903992224062), (4155, 0.010872591391069567), (2347, 0.010870343165547814), (1267, 0.010866180142755234), (1682, 0.01085662015644911), (4405, 0.010853853316899661), (211, 0.010853462438811336), (121, 0.010852065075955078), (1029, 0.010847002563796478), (1759, 0.010843128166493849), (2311, 0.010838753272497057), (763, 0.010836799248101252), (1649, 0.01083399876580843), (284, 0.010826434949423494), (2234, 0.010813595217530874), (3854, 0.010801055785131125), (4441, 0.010788079631471485), (829, 0.010780520301369834), (3420, 0.010780107306997836), (895, 0.010728964270305922), (768, 0.010714495387310643), (218, 0.010713305630335582), (1488, 0.010699292164475994), (465, 0.010697706432661902), (524, 0.010685238538655816), (3829, 0.01068449804666787), (3705, 0.01068151335240932), (1114, 0.01066145778519581), (1538, 0.010658833878134157), (665, 0.010656311675393928), (2191, 0.010651851437271962), (1634, 0.010649755230665284), (1503, 0.010649430289798463), (4012, 0.010638241639223998), (1000, 0.01063533985200175), (1888, 0.010632507454912546), (3284, 0.010632327654209581), (2514, 0.010619569174502796), (352, 0.010619300943075186), (1242, 0.010589642282345029), (122, 0.010585712680959852), (1329, 0.010577168844574403), (327, 0.01056261463528485), (804, 0.010556346198675832), (4143, 0.010554117445740132), (1865, 0.010532920161093607), (3716, 0.010525445841771062), (647, 0.010514718601910533), (957, 0.010509426359591147), (285, 0.010508568128987), (2845, 0.010490533680380014), (2686, 0.01049037691199969), (1809, 0.010485402870108976), (981, 0.010476422924225104), (191, 0.010460214411785896), (1, 0.010458157418684689), (1920, 0.010455187530224393), (3752, 0.010452375139333763), (1762, 0.010432084782513082), (4217, 0.010426687702148012), (4343, 0.010412801906402199), (3637, 0.010406290650288303), (741, 0.010379005327094907), (1002, 0.010371668626603197), (1977, 0.010354830213887098), (2074, 0.0103391846919083), (43, 0.010334594636948113), (4074, 0.010329066040767667), (1237, 0.010325906314156799), (317, 0.01031237131036577), (2580, 0.010311367512277961), (3352, 0.010302121826687362), (705, 0.010296735521308994), (1458, 0.010292526252385255), (2227, 0.010281200347652902), (75, 0.010274774314391838), (251, 0.010261724616934708), (3077, 0.010225610836888287), (2942, 0.010224421483906374), (1978, 0.010206030713738925), (194, 0.010199522403680272), (2801, 0.010181760179390025), (3111, 0.010167592962416807), (496, 0.010145839036351483), (762, 0.01008783304109379), (403, 0.010074529218455057), (3096, 0.010072934318301516), (776, 0.010068176740255593), (3147, 0.010058412456962913), (3215, 0.01005276528804507), (1910, 0.010052674881703475), (1935, 0.010042595914840911), (2541, 0.010039280985939904), (566, 0.010019512044252022), (1559, 0.01001509201370984), (4437, 0.01001081541193898), (2, 0.00999800986386911), (2584, 0.009967976268189932), (1365, 0.009964906189115068), (269, 0.009958485502037255), (2204, 0.009953860728590854), (3668, 0.009950342474842834), (76, 0.009921509949653105), (1042, 0.009909291879482389), (2145, 0.00990910598413352), (1802, 0.009896229987188284), (4015, 0.009892906559332908), (2114, 0.00989038149450304), (2747, 0.00979440736980175), (2326, 0.009789396351151369), (1690, 0.009777945960508742), (2563, 0.009757826431315422), (3091, 0.009680047131318549), (1369, 0.009670702679515222), (555, 0.00966488359076978), (88, 0.00964479408631654), (3045, 0.009614357995164923), (2587, 0.009603252289056285), (4719, 0.009575585598314958), (3940, 0.009544921913384092), (1586, 0.009513093265852701), (2844, 0.009497103941506668), (3152, 0.00947527633167578), (1646, 0.009462885379477332), (309, 0.009444897188982372), (237, 0.009396188628718388), (609, 0.009388414614190706), (1309, 0.009318472321904156), (271, 0.009200210844053229), (775, 0.009117046342881772), (1701, 0.009109589201262534), (881, 0.009082530512459826), (562, 0.00903529570499056), (3983, 0.008963823886619123), (266, 0.008945034306294833), (3512, 0.008816879703758204), (2597, 0.00877127034664806), (561, 0.008704371177667576), (155, 0.008703635876855364), (807, 0.008680418103840234), (2678, 0.00867150780603897), (3552, 0.008636473125714132), (1351, 0.008503512089332263), (542, 0.008475515645815718), (2737, 0.008470528671458859), (3178, 0.008339381335241803), (4555, 0.00829653788434461), (1861, 0.008275141616920376), (455, 0.00817750095188178), (2701, 0.007993173499301356), (4223, 0.007875916704881546), (735, 0.007866343783302976), (2529, 0.007803256341200874), (2660, 0.007719795284586207), (2395, 0.007637200593084244), (3040, 0.007591342380608254), (764, 0.007569676382857587), (2764, 0.007562686247864477), (2722, 0.0075564121011078445), (2858, 0.007552384543203733), (2379, 0.007504376742821428), (2891, 0.007485520090938754), (2832, 0.007479002793829355), (996, 0.007477533401518586), (3936, 0.007477107551842969), (3949, 0.0074750947678412834), (2500, 0.0074602027820886265), (3142, 0.007412659380140439), (4725, 0.007352197561662782), (2404, 0.007334102573823479), (4222, 0.007324335279195147), (2137, 0.007323845509155746), (3439, 0.00731400770278887), (3166, 0.007302874885270349), (4198, 0.007295806008887563), (3796, 0.007286906726371045), (3715, 0.007257045578685209), (2537, 0.007242955628301732), (2538, 0.007236984924624048), (4700, 0.007202462714972075), (3042, 0.0071866933841733495), (2715, 0.007170003292132767), (3009, 0.007143016324146229), (3217, 0.00712828711087076), (4166, 0.007115421704405305), (4102, 0.007077176954594536), (2281, 0.007067711674842305), (3479, 0.007059650913172728), (4562, 0.007026237468965083), (1939, 0.007026014742319996), (2423, 0.007003362088859198), (4084, 0.006995888390675145), (2983, 0.006961587443765289), (2543, 0.006943081503820127), (3892, 0.006934007419114168), (2928, 0.006915316023938922), (3800, 0.006915264201333227), (2363, 0.006873053546268768), (4720, 0.006850910661367847), (2199, 0.006840959248603584), (3078, 0.00681787522772565), (2228, 0.006783080751766935), (2797, 0.006779580012248321), (2838, 0.006739712096734189), (3282, 0.006733403112432308), (3537, 0.006724390612684356), (4570, 0.006707610423519569), (3763, 0.006702952107225716), (3544, 0.006677585616557385), (948, 0.0066756033127805935), (3686, 0.006665510261431331), (4064, 0.006659730788789688), (4721, 0.006654128364435846), (3249, 0.006652516683641963), (3671, 0.006634599105088683), (3020, 0.006624507990403726), (2727, 0.0066226434359460944), (1208, 0.006613954502618686), (904, 0.0066096070661776215), (2656, 0.006593917340217856), (3592, 0.006583432306537378), (4514, 0.006580063140607002), (3017, 0.006566982071943776), (4746, 0.006566319033469645), (2738, 0.0065615794691124794), (2834, 0.006560219707968054), (4440, 0.006559624496438043), (4717, 0.006550339271410653), (2581, 0.0065501298797752796), (3168, 0.00654011126088142), (4408, 0.0065278070029360195), (2333, 0.006524565044510703), (3844, 0.006521817479376928), (2781, 0.006505078461629263), (391, 0.0064828491236097715), (1424, 0.006481601226281905), (2077, 0.006480187046042911), (2488, 0.006477708332387394), (2786, 0.006475898841033271), (4483, 0.0064651751770879095), (3357, 0.006464510921571581), (3758, 0.006459622781898824), (3952, 0.0064526479958318655), (2009, 0.006450848267136608), (2434, 0.006443274569716158), (2479, 0.006439351991767429), (2619, 0.006435668793742239), (2464, 0.006426315092243221), (842, 0.006418685391422431), (153, 0.006415022298869197), (2468, 0.006412739377626125), (4341, 0.006407370874908598), (1169, 0.00640479846208884), (2308, 0.006403877313625967), (582, 0.006403476153204344), (3764, 0.006402883584364533), (3371, 0.006395285966928994), (3554, 0.006386033984809186), (2857, 0.006377124782308145), (925, 0.0063757580230954), (2351, 0.006375588578376572), (1637, 0.006373994680613315), (2368, 0.006372690556940893), (2570, 0.0063685631614878516), (1049, 0.006368526018017107), (2696, 0.00636536429279305), (2535, 0.006364594008871477), (4190, 0.006363201914568836), (760, 0.006361924996604345), (2846, 0.006359929613815498), (3616, 0.006356394740818021), (2186, 0.006354727737515897), (2872, 0.0063533220224913185), (2986, 0.006350216367481767), (2796, 0.006344571712905918), (3413, 0.006339403456236478), (3649, 0.0063281629315817475), (1187, 0.006328126120861918), (751, 0.006326563288351647), (3866, 0.006323104127287993), (3308, 0.006321485330653813), (1792, 0.006318783920240846), (3364, 0.006309292507563384), (3062, 0.0063082063199488515), (2320, 0.006304828234601684), (1658, 0.006300588196196626), (4633, 0.006299913134376697), (4293, 0.006297347503159262), (4285, 0.006289345641309637), (4023, 0.006282952388135725), (3621, 0.006278087629590427), (3080, 0.006270463597884196), (795, 0.0062703747637975205), (4105, 0.00626412994231948), (2486, 0.006257230587139278), (3337, 0.006251980520182146), (4295, 0.006247406273589032), (2769, 0.006247030550650873), (1941, 0.006242413779038886), (2357, 0.0062381724475109885), (1615, 0.006234636404433131), (2810, 0.006229934429038254), (1806, 0.006227510356548673), (368, 0.006224634554148002), (985, 0.006224395731902964), (4463, 0.006217624508090042), (2702, 0.006217094430912199), (2261, 0.0062167730871390955), (2403, 0.0062047946115953686), (2884, 0.006204058758841296), (4051, 0.006195744278758868), (2635, 0.006194930837867197), (4522, 0.006188470462459652), (3258, 0.006182093459964644), (4086, 0.006179024648855659), (905, 0.006177522889300202), (461, 0.0061774027320753155), (1489, 0.006177203697508235), (3808, 0.006176411884113118), (531, 0.006173697881088201), (4599, 0.006172769253811993), (2478, 0.006171961134404654), (2187, 0.006161089237988219), (998, 0.006152842387979394), (1766, 0.006148127051451792), (2032, 0.006145326701968598), (2720, 0.006144516322227798), (2302, 0.006141560254595348), (4203, 0.006139767805172739), (1560, 0.0061390406401381666), (4453, 0.006126544688320494), (3967, 0.006126088247718018), (3044, 0.006120925246340433), (999, 0.006118324356432107), (2575, 0.006117301192743058), (2924, 0.006108804012603268), (3424, 0.006106739646999399), (4121, 0.006105940519223296), (1640, 0.006096446663748309), (4580, 0.006095489758874985), (3652, 0.006094697251519151), (3003, 0.006094077810070512), (2982, 0.0060921043003809685), (3039, 0.006091885518248518), (2493, 0.006089181832787816), (4118, 0.006088298398848095), (40, 0.006085994695243254), (2260, 0.006085435387773215), (1601, 0.0060786742640942665), (4460, 0.006077931388377451), (2108, 0.0060742101294247435), (2754, 0.006074183954660704), (1836, 0.0060725541666880175), (1491, 0.006063289614313267), (2209, 0.006060253365718632), (3221, 0.006055987003705588), (4308, 0.006053247063216421), (4346, 0.006051418435863244), (365, 0.006037283610295145), (933, 0.006030098753003877), (2012, 0.006029701660516586), (4140, 0.0060280932828620055), (3545, 0.006027520464286018), (4207, 0.0060267654454303704), (3109, 0.006021916069124842), (38, 0.006021869997328312), (4448, 0.006019930845578656), (1999, 0.006019854172044807), (2994, 0.006018891993347179), (2799, 0.006013496061060468), (1142, 0.006010137367369717), (2843, 0.006006502587692774), (2381, 0.006005666338130305), (1656, 0.006002927585839577), (3858, 0.005997784520493562), (2592, 0.0059947050243545665), (2604, 0.005989013385929123), (754, 0.005987139711091404), (687, 0.00598141160947895), (139, 0.005980862338374331), (3373, 0.005978140838558451), (3026, 0.005977906077615883), (3584, 0.005974943544757535), (385, 0.0059737952109792545), (3964, 0.0059688167690087335), (3628, 0.005965971567917594), (678, 0.005965340842317601), (4113, 0.00596454713470782), (3984, 0.005961370086460734), (1243, 0.0059603412342310366), (2116, 0.005959953853579055), (3581, 0.00595823244279322), (2561, 0.005956462862723261), (2101, 0.005956224508712699), (1733, 0.005956078309684763), (3146, 0.005955098994916646), (1260, 0.00595345767495116), (3408, 0.005950322879022889), (2755, 0.005946083963406376), (2223, 0.005943568889395231), (2873, 0.005943156344041663), (2979, 0.005942383563577495), (4351, 0.005940610513308205), (1596, 0.005938795548169765), (253, 0.005938483303581582), (3601, 0.005937065896243428), (1848, 0.005936547235218686), (1201, 0.005935337471722808), (4315, 0.005935251063338176), (3187, 0.005934638953386807), (1486, 0.0059338033864782345), (2420, 0.005932115087122028), (4323, 0.005932060002814455), (2394, 0.005931918922114808), (350, 0.005929781730505018), (2782, 0.005924342681540585), (1923, 0.005920027384877681), (4226, 0.005918991281610101), (2021, 0.005915864175952854), (1614, 0.005913040208200043), (1246, 0.005912908030592031), (1822, 0.005910834227231643), (3183, 0.005891799328372886), (2348, 0.005890038134785082), (1007, 0.005887367758774483), (1099, 0.005886327915147672), (873, 0.005880740625093754), (3198, 0.005875961013248482), (318, 0.0058622626485599835), (1926, 0.005860197854274684), (2880, 0.005858462421624621), (3676, 0.005850760192936262), (2391, 0.005845195795246176), (4433, 0.005841871663737864), (4132, 0.005841278581972678), (1594, 0.005840482809906265), (2970, 0.005836020712552742), (146, 0.005835970071073761), (2519, 0.0058316448188475275), (667, 0.005831418815323189), (4259, 0.005829669130318971), (1518, 0.005828367663199636), (2218, 0.005827234165597916), (2546, 0.00582443588059434), (2375, 0.005824361405427994), (1479, 0.005823261716635874), (2709, 0.005821698502765495), (3950, 0.00582158544670832), (1282, 0.005820915315624686), (4300, 0.005820014626285526), (4324, 0.005817599607581567), (1520, 0.005817353170456348), (1513, 0.005810234025797119), (3812, 0.00580894392142425), (3845, 0.005808894793461464), (2626, 0.005808384339889347), (961, 0.00580503255949041), (2951, 0.005802285695111066), (982, 0.00580151916715627), (2811, 0.005797854145998289), (1955, 0.005797760513259691), (1537, 0.005795924952750251), (3822, 0.005792849735598221), (3919, 0.0057827453151679436), (2662, 0.005782298867417811), (4061, 0.005777126359229261), (4489, 0.005776687971071351), (4108, 0.005776410220798692), (1432, 0.005773703846113267), (4052, 0.005771330813160359), (3889, 0.005769751405624368), (1224, 0.005767462641856443), (3461, 0.0057672272004393125), (1851, 0.005766767002542727), (3097, 0.0057630167477422285), (3349, 0.005759527296782832), (3181, 0.005759046991007778), (1765, 0.005758284741505658), (4357, 0.005756642977548878), (2978, 0.005755123011149411), (2086, 0.005753307038918028), (1495, 0.005752759514998128), (4173, 0.005752269992945804), (363, 0.005747201776852176), (1731, 0.00574680197436312), (4094, 0.0057466124664334785), (903, 0.005744737081537198), (2999, 0.00574470618152533), (1364, 0.0057394084897768784), (2926, 0.005736048800133945), (1727, 0.00573006150948831), (2241, 0.005727902574267909), (2633, 0.005727064374321863), (990, 0.005726120214769468), (418, 0.005725715570103644), (4093, 0.005725012334028064), (2194, 0.005723904500300128), (872, 0.005723662758734782), (4263, 0.005720453854060332), (2588, 0.005720277829050195), (2309, 0.005716586467712921), (1791, 0.005715333761504499), (3493, 0.005715019379416716), (1821, 0.00571147779006528), (392, 0.005710131784196159), (3290, 0.005703681944162384), (2566, 0.005703022315171772), (4422, 0.005701810691644991), (3449, 0.005700718533156777), (4434, 0.005700108494768009), (3496, 0.005698686280752892), (2605, 0.005694866547494034), (2303, 0.005693598800802947), (890, 0.00569263804091559), (3934, 0.00569186968179215), (1382, 0.0056901923469684325), (884, 0.005690159162292847), (3400, 0.005686049762955777), (1683, 0.005684492454298298), (1205, 0.005683854678412126), (245, 0.005682820657150657), (2472, 0.005681976942629289), (879, 0.0056792010086284496), (401, 0.005677125506300625), (1516, 0.0056755789186864105), (2487, 0.0056755184171814), (2495, 0.005675487603249088), (474, 0.005674216836475319), (1572, 0.005673541010774632), (134, 0.005671004401391729), (1587, 0.005670980527895119), (415, 0.005669628174600791), (2531, 0.00566892419252903), (3236, 0.0056678240527139635), (3245, 0.005667478759757533), (1013, 0.005665396288832085), (4557, 0.005664416192549642), (405, 0.005662243911003271), (3287, 0.005661615612957608), (781, 0.0056612298158677365), (2208, 0.005660113740963525), (3084, 0.005655108170160925), (1445, 0.0056544139944771955), (2816, 0.0056522517987300505), (361, 0.005651356562494667), (3790, 0.005648335875132066), (4395, 0.005646055600674483), (2090, 0.005645993755062476), (2222, 0.005644903438334662), (1024, 0.00564350223898063), (4675, 0.0056408742835882646), (2292, 0.005640097476898066), (3283, 0.00563990294713759), (3973, 0.005637875954907855), (4234, 0.0056367062075617395), (1085, 0.005636254375542229), (1286, 0.005634796092373573), (1234, 0.00563410259672489), (3905, 0.005634018594876353), (3388, 0.005630691049796254), (849, 0.005629900545804017), (4628, 0.005629486908508034), (3386, 0.005627817865225132), (1902, 0.005626042287716816), (2504, 0.005625109796690032), (3061, 0.005623700129000446), (2661, 0.005620097505574557), (2554, 0.005619654405125829), (941, 0.005619621360572331), (1660, 0.0056193052267953245), (3549, 0.005618082309677766), (3514, 0.005616019092214436), (3603, 0.00561543452793358), (4319, 0.005613819743979143), (2081, 0.005613398720407466), (3599, 0.005613284186759543), (2242, 0.005612058728970045), (2387, 0.005611572556173231), (2431, 0.0056090054315077395), (219, 0.005606867908651992), (2940, 0.00559984891301816), (1108, 0.00559840794099314), (3214, 0.005596082944312139), (4457, 0.005593912551775311), (3728, 0.005592121574585279), (312, 0.005591537580417608), (2249, 0.00558968792101208), (3648, 0.005586418181609428), (1911, 0.0055862929651715), (908, 0.005585625512496814), (3382, 0.005582702767930767), (1505, 0.0055768821650620005), (1722, 0.005574699824602505), (579, 0.0055745299207585145), (2586, 0.005574469733915257), (1688, 0.0055741931772505535), (1361, 0.005572623854839528), (1613, 0.005570943859026832), (3464, 0.005569587861135656), (4603, 0.005567364801645891), (2569, 0.005564110656587335), (1697, 0.005563925716893215), (1956, 0.005563578556867138), (2511, 0.005562337098586781), (3539, 0.005560656712004695), (174, 0.005559358886803633), (793, 0.005559352673959254), (1889, 0.005556928155634721), (4404, 0.005554596964960042), (1965, 0.005550297783358046), (1094, 0.00555025544381567), (3513, 0.005549874648426352), (2499, 0.005548981213295426), (2449, 0.005548944493251784), (479, 0.005548768271470856), (2041, 0.00554731416554423), (2582, 0.005547120431871355), (1447, 0.0055467561967710586), (4486, 0.005545187648883046), (2744, 0.0055448832052047755), (3034, 0.005543715010681714), (4287, 0.005540062246367446), (3303, 0.005539894251583301), (3332, 0.005539610308982934), (4027, 0.005537793937648055), (2794, 0.005533690526470417), (2973, 0.005532946899758387), (1618, 0.005530893408857302), (3155, 0.0055304816629650035), (1232, 0.0055301625614360824), (169, 0.005529142195319809), (3351, 0.005528391636030554), (2726, 0.005527047512072205), (2217, 0.005525431065502722), (1847, 0.005524954841222834), (3443, 0.005523133822369166), (1345, 0.005523075948898992), (1751, 0.005522286854471043), (115, 0.005517474345076731), (331, 0.0055169249839823265), (3289, 0.005515273178429345), (28, 0.005514273291039626), (3102, 0.005513122024926353), (504, 0.005512483742550177), (1469, 0.005510621841521772), (971, 0.005509366229606868), (2125, 0.005508846366850159), (1769, 0.005508471362379811), (3805, 0.005506291128571103), (1638, 0.00550457243902979), (2492, 0.0055042150683482435), (3016, 0.005500570130116749), (1837, 0.005500531229932096), (4552, 0.005500443320865154), (2284, 0.005497803336048672), (1542, 0.00549624830928908), (2685, 0.0054946257340663844), (110, 0.005493943701044244), (1166, 0.005491367677530669), (1525, 0.005491029980554806), (264, 0.005490785913061585), (238, 0.005486891604417987), (3018, 0.0054866422638434964), (1461, 0.005485938501707358), (923, 0.00548580834909088), (1047, 0.005483982480955179), (1557, 0.005483314676023146), (3150, 0.005482716682180539), (2336, 0.005482176965293837), (1961, 0.00548067990892509), (2396, 0.005479241934837327), (2003, 0.005479059460219194), (3792, 0.0054758670447994946), (3348, 0.005472770230913517), (3297, 0.005472196639773004), (3632, 0.0054717277258316994), (3673, 0.005469597733833133), (1726, 0.005467570992399845), (1410, 0.0054675601871145155), (1508, 0.005462846256175981), (697, 0.00546258005442524), (2340, 0.005462096455652071), (2385, 0.005459792608362206), (528, 0.005458499520271139), (3650, 0.005455125427717452), (3888, 0.005452165802304024), (529, 0.005451962883961686), (586, 0.005451491794916355), (2192, 0.005448204241093507), (2297, 0.0054450246070844), (4029, 0.00544384318083195), (3188, 0.0054412827207396455), (182, 0.005440183616326436), (2706, 0.005440013928423661), (983, 0.005439176298279594), (2972, 0.005437706452958066), (3517, 0.005437704341831728), (3644, 0.005432465846316486), (720, 0.005432277799381484), (1501, 0.005430131546006999), (2812, 0.005429458442497862), (736, 0.005426716694517865), (4218, 0.005425722808942836), (3375, 0.00542446630782918), (1330, 0.00542087832777649), (4135, 0.005420375735414903), (4195, 0.005420358934990226), (1589, 0.005417503652797581), (2290, 0.005416863475562876), (3033, 0.0054160313745970955), (867, 0.005412925415766447), (1256, 0.0054080786921016965), (2422, 0.005405429418451667), (4049, 0.005403187477524016), (42, 0.005398362352455877), (3288, 0.00539740987279309), (1783, 0.005397057801637435), (969, 0.005396484907759812), (2435, 0.005396350975888124), (1700, 0.0053959060690785985), (4254, 0.0053948040348826545), (3508, 0.005391986556798534), (1986, 0.005388936705982663), (4073, 0.005386639132708824), (1476, 0.005383069595571475), (427, 0.005381098642632458), (3879, 0.005377921746129739), (3500, 0.005376251785914161), (503, 0.005368772993566847), (2087, 0.00536777968691642), (785, 0.005367767102472885), (2335, 0.005365638371731352), (1373, 0.005365058999617498), (1880, 0.0053648730262990515), (1298, 0.005364315288478648), (938, 0.005363203933070615), (2836, 0.005360915564467116), (1022, 0.0053591458401313725), (4036, 0.005358628460069924), (1238, 0.005358371095071901), (4112, 0.005356756025897076), (3890, 0.005352316758974466), (3402, 0.005350851298082677), (346, 0.005347884883326262), (2945, 0.005347162482801545), (2019, 0.005346997739512919), (1422, 0.00534363808977715), (4099, 0.005342823199020547), (1663, 0.005342133279503359), (3066, 0.005341843089258403), (1170, 0.005340145043346491), (3531, 0.005339816508467297), (3606, 0.005338803647564001), (4304, 0.005338741056613358), (1304, 0.005338641902783162), (3477, 0.005338522188089073), (4206, 0.005337579014463665), (1204, 0.005335238383532955), (3286, 0.005335069888820418), (758, 0.005334925584551051), (2450, 0.005334000826485317), (3685, 0.005332660459404996), (4037, 0.005331298427291799), (2153, 0.005329265999054892), (1867, 0.005327923467987168), (770, 0.005327481822917925), (114, 0.0053230369603917025), (2804, 0.005322950188985452), (4738, 0.005321315787990402), (1297, 0.0053198639661280476), (973, 0.005319630872412551), (1693, 0.0053160316459895125), (2866, 0.005315024169174363), (2787, 0.00531432570676958), (859, 0.005314284973473909), (2280, 0.005313361093900131), (1912, 0.005313293947156801), (1337, 0.005312659791184631), (3315, 0.00531133465780206), (2693, 0.005310891220425058), (473, 0.005310286515293565), (1738, 0.005309465390874102), (2440, 0.0053093373538461355), (188, 0.005308813463563791), (2763, 0.005307526814395901), (1984, 0.005306952874734446), (2026, 0.00530644847318751), (1074, 0.0053061394494389215), (2825, 0.005300604345836907), (4213, 0.0052971306392046785), (2397, 0.005296999620028407), (50, 0.005294555309187891), (3998, 0.0052932364159553), (1721, 0.005292620243602378), (2179, 0.005291361560847258), (3397, 0.005290749057480577), (1842, 0.0052898483241418095), (3260, 0.0052879694278275624), (3868, 0.0052862254065267605), (1771, 0.005285047427320504), (1598, 0.005278463179204187), (1190, 0.005277956999983098), (1408, 0.005275553505366064), (1750, 0.005272057625332986), (2590, 0.0052699207015521835), (1211, 0.005269870517405531), (2131, 0.005269766524358605), (2823, 0.005268748722723609), (3622, 0.005264801739462092), (4197, 0.005262363384535193), (2202, 0.005260646412568921), (2897, 0.005259912041476206), (1284, 0.005259459678044165), (2616, 0.005259058199206397), (3582, 0.005255201674559822), (2642, 0.005254583208900758), (883, 0.0052535472668263465), (1552, 0.005252162827902594), (2068, 0.0052500938539872385), (1231, 0.005250066591683777), (4252, 0.005248787352124315), (662, 0.005248757605061655), (1913, 0.005244258822674356), (3295, 0.005235290760625894), (505, 0.005233720117603866), (1113, 0.005233554153060951), (1363, 0.005232536318221921), (1117, 0.0052323279323354), (157, 0.0052312416271390804), (780, 0.005231187695440827), (3595, 0.005230687227086683), (4442, 0.005229284685021283), (3753, 0.005229100106479851), (3886, 0.005228614880489567), (197, 0.005226413876533636), (759, 0.005225492231011745), (2207, 0.005223928578596773), (2402, 0.00522162284711113), (2512, 0.005221214716079479), (4447, 0.0052206192741067175), (690, 0.0052176823796047465), (2699, 0.0052175233159087375), (3050, 0.005215377582624835), (3309, 0.005212134823789662), (702, 0.005209406177266831), (1261, 0.00520900533898137), (2050, 0.005202840590621885), (2681, 0.005201235341796988), (2594, 0.005197912091273978), (1900, 0.005195829074951801), (1196, 0.005191408585169921), (3646, 0.00519031387141583), (2107, 0.005189785964780742), (2446, 0.0051890818434475305), (217, 0.005187838371303622), (2166, 0.005186617959914757), (3562, 0.0051864416586826076), (3194, 0.005186155073637361), (2461, 0.005183210571082327), (263, 0.005182519590804576), (649, 0.005180210683775429), (2467, 0.005179150824770716), (1084, 0.005177015317350641), (4071, 0.0051755660851250315), (2644, 0.005173758314529359), (215, 0.005172957194713002), (3149, 0.005172451684504286), (4246, 0.005168147811930937), (3083, 0.005167421919001443), (325, 0.0051633147662281074), (2150, 0.005156946658457997), (2728, 0.005155853974874969), (1457, 0.005155423897664136), (4192, 0.0051541212182491325), (3732, 0.005152317500188808), (1778, 0.005149741740332725), (3177, 0.005149562031436887), (4327, 0.005142442220637401), (939, 0.005140404026870994), (1744, 0.005139802146789754), (1898, 0.0051396784480660295), (1973, 0.0051268143319899455), (1073, 0.005126160973391043), (1642, 0.005125359064072056), (1929, 0.005124284990640337), (907, 0.005123015891760993), (3246, 0.005122227921638372), (4272, 0.005121388528289527), (3232, 0.005117982800840339), (1877, 0.005114823186976849), (1327, 0.005113118817246584), (1582, 0.0051103717907074455), (546, 0.0051085875356924665), (2992, 0.005105102259644349), (1992, 0.005101452701340863), (2971, 0.00509609541462137), (589, 0.005095562782155897), (45, 0.005095199494393432), (2093, 0.0050934137668150435), (1292, 0.0050896708599715654), (4321, 0.005088975825095772), (1203, 0.005085267748978154), (1824, 0.0050841256524089265), (1797, 0.005082122119337814), (2424, 0.005078599034912805), (1839, 0.005076063947936445), (53, 0.005073855503267594), (185, 0.005072810055990342), (1291, 0.005072640775926191), (1788, 0.005070503334899864), (1061, 0.00506700360114978), (4325, 0.005066894462535848), (1746, 0.005066033480680223), (2954, 0.005065127838914638), (73, 0.005058852688572049), (1217, 0.005056261906158109), (3127, 0.005055614446425869), (4174, 0.0050546740865698115), (1833, 0.005051297383346489), (3633, 0.005048189596469625), (3736, 0.005044531783049868), (367, 0.0050440392385840745), (1340, 0.0050425689476605706), (2201, 0.005039440792129404), (1308, 0.005039292144220124), (4473, 0.005036811991547749), (214, 0.005036557003235861), (2099, 0.0050364493878127066), (1899, 0.005034710646623625), (3842, 0.0050302635241297015), (3267, 0.005028830558058762), (1310, 0.0050249198398946504), (3395, 0.005023380108498694), (3071, 0.005021512767820775), (1468, 0.0050189742256681975), (1200, 0.005018788634535811), (632, 0.0050160548235656435), (1974, 0.00501504637786194), (1323, 0.005015024711686494), (2497, 0.005014821557149755), (383, 0.005010733138362221), (2741, 0.005007236740109024), (1173, 0.0050043483263349535), (1714, 0.005002734238584207), (2225, 0.005000728630817212), (916, 0.0049969404776368555), (14, 0.004993731317857023), (2265, 0.004983754169084148), (1521, 0.0049812409691925765), (3941, 0.004979272239237942), (1982, 0.004979098499747945), (3070, 0.0049772146510492785), (515, 0.004975946060673016), (2608, 0.004973386675435698), (4237, 0.004971317896182074), (417, 0.004969308503291024), (3389, 0.004968994854933686), (1528, 0.004968936312045239), (3859, 0.004966831498821426), (1427, 0.00496591270967854), (1025, 0.0049638717449767035), (2236, 0.004961649008946352), (1157, 0.004960848196865807), (1038, 0.004959704828257171), (1827, 0.004958416504049776), (3923, 0.0049580347616543525), (2043, 0.004950107710815818), (1477, 0.004941844384793518), (2426, 0.004941587964241708), (3238, 0.004941258112346751), (4018, 0.004936733390548949), (103, 0.0049313457113632575), (2770, 0.004930397725121647), (4104, 0.004929841892245142), (2855, 0.00492832683587871), (3839, 0.004928267926061628), (820, 0.004927479246628403), (416, 0.004926405220075066), (2615, 0.004926321731225707), (2433, 0.004926199044969916), (4066, 0.0049231549503765), (3304, 0.0049207237067353795), (703, 0.004920116054931295), (1715, 0.004919445905852789), (2389, 0.004918994362369958), (1397, 0.004917339372526218), (951, 0.004911107163408145), (2264, 0.004910682209002157), (583, 0.004909793841190481), (1987, 0.004907844799209468), (1567, 0.004907381618563996), (4627, 0.0049058590684142875), (1784, 0.004902228161351911), (3598, 0.004900404339418909), (851, 0.0048892274341112195), (1684, 0.004885829233480576), (1719, 0.004885753650987059), (3485, 0.004885079083877812), (161, 0.00487673359772558), (2591, 0.004872808493233284), (2146, 0.004871235383940127), (978, 0.004867585336459239), (3767, 0.004866191802762699), (278, 0.004865485093100066), (1348, 0.0048552181652402274), (898, 0.004851749477345619), (4519, 0.0048467290312392865), (2240, 0.004846700316826464), (2721, 0.004845977735415907), (1199, 0.004845706663048342), (2161, 0.0048355196231976835), (357, 0.004834675934241943), (1312, 0.004831059945567648), (2168, 0.004830461857614295), (2439, 0.004829336645195987), (3063, 0.004828684971599864), (4191, 0.0048261342153187795), (2033, 0.004818832363010789), (1251, 0.004817498068023653), (2539, 0.0048166416827544545), (3933, 0.004812238466072155), (3748, 0.004805956535033003), (1571, 0.004800259024027179), (1405, 0.004792912627739184), (3914, 0.004786537204373596), (2833, 0.004784809973315372), (497, 0.004775311199154408), (836, 0.00477078509550976), (3393, 0.004770601167788283), (2933, 0.00476589703434806), (2270, 0.004763762753109987), (1694, 0.004757894550070826), (1850, 0.004752195594436709), (3856, 0.004751022760446749), (2820, 0.004747428166521694), (1465, 0.004744370882534959), (4200, 0.004741129227011413), (4636, 0.004735115809011407), (91, 0.004732944652514732), (2509, 0.0047313844560124075), (1954, 0.004730119004354163), (1040, 0.00472972223012885), (2001, 0.004725088985811041), (1194, 0.0047249293419237975), (2805, 0.004717836062087665), (2913, 0.004707234843883824), (712, 0.004692430911242575), (1370, 0.004690045753634339), (3575, 0.004678725589964964), (2331, 0.004665578758091519), (520, 0.004654754637736829), (1943, 0.0046534342969469355), (2876, 0.0046489286982605285), (195, 0.0046466750474103025), (175, 0.004646246129397535), (1212, 0.004644962365173161), (3, 0.004644261369219222), (3684, 0.004638343105800871), (1078, 0.004637437692316015), (964, 0.004635465868198479), (2603, 0.0046334724104045485), (1639, 0.004632513588050097), (2211, 0.004626904807856477), (3559, 0.00462517875526236), (707, 0.004620886262867874), (2076, 0.004611230963218504), (4744, 0.004598014244658204), (862, 0.004590251832478506), (2364, 0.004587023981634062), (3212, 0.00458473812576603), (1453, 0.004576783388123265), (1523, 0.004576253695678179), (726, 0.004571841444139437), (1963, 0.004559584149200951), (1317, 0.004558253357293949), (2018, 0.004556831092994272), (1981, 0.004547776812274461), (1268, 0.0045475503930063905), (3430, 0.00454623846295088), (25, 0.0045458606064423595), (1781, 0.004544959105910326), (1300, 0.004538410638827166), (2758, 0.004535224832058784), (2665, 0.004524486060616605), (1367, 0.004523359692628786), (1222, 0.004514676105447765), (1341, 0.004496282038987865), (2441, 0.00448414257936545), (786, 0.0044831208279294986), (1320, 0.0044695265104110985), (3538, 0.004466532171452322), (3875, 0.004433761745554126), (1676, 0.0044150083697681855), (2925, 0.004402933030684291), (757, 0.004351614007832953), (421, 0.004348459550253029), (1871, 0.004324805026559556), (510, 0.004315453456196709), (1695, 0.004296449930145152), (82, 0.00428361749454456), (926, 0.004280735757219563), (972, 0.004251904568911172), (3626, 0.004220162828019927), (3574, 0.004213856251495953), (369, 0.004210084296512916), (1362, 0.004043784444157785), (336, 0.004038059093481883), (1153, 0.004024768077720365), (3421, 0.003912071468577562), (129, 0.0038249131939389223), (940, 0.003809018119956284), (1919, 0.00374918608600461), (4, 0.0), (5, 0.0), (6, 0.0), (7, 0.0), (8, 0.0), (9, 0.0), (10, 0.0), (11, 0.0), (12, 0.0), (13, 0.0), (16, 0.0), (17, 0.0), (18, 0.0), (19, 0.0), (20, 0.0), (21, 0.0), (23, 0.0), (26, 0.0), (27, 0.0), (29, 0.0), (32, 0.0), (33, 0.0), (34, 0.0), (35, 0.0), (36, 0.0), (39, 0.0), (41, 0.0), (44, 0.0), (46, 0.0), (47, 0.0), (48, 0.0), (49, 0.0), (51, 0.0), (52, 0.0), (54, 0.0), (55, 0.0), (56, 0.0), (57, 0.0), (58, 0.0), (59, 0.0), (62, 0.0), (63, 0.0), (64, 0.0), (65, 0.0), (66, 0.0), (67, 0.0), (68, 0.0), (69, 0.0), (71, 0.0), (72, 0.0), (74, 0.0), (78, 0.0), (79, 0.0), (80, 0.0), (81, 0.0), (83, 0.0), (84, 0.0), (85, 0.0), (89, 0.0), (90, 0.0), (93, 0.0), (94, 0.0), (95, 0.0), (98, 0.0), (99, 0.0), (100, 0.0), (101, 0.0), (104, 0.0), (105, 0.0), (106, 0.0), (107, 0.0), (108, 0.0), (109, 0.0), (111, 0.0), (112, 0.0), (116, 0.0), (117, 0.0), (118, 0.0), (119, 0.0), (120, 0.0), (123, 0.0), (125, 0.0), (126, 0.0), (127, 0.0), (128, 0.0), (130, 0.0), (131, 0.0), (133, 0.0), (135, 0.0), (136, 0.0), (137, 0.0), (138, 0.0), (140, 0.0), (141, 0.0), (142, 0.0), (144, 0.0), (145, 0.0), (147, 0.0), (148, 0.0), (149, 0.0), (151, 0.0), (154, 0.0), (158, 0.0), (159, 0.0), (160, 0.0), (162, 0.0), (163, 0.0), (164, 0.0), (165, 0.0), (166, 0.0), (170, 0.0), (171, 0.0), (172, 0.0), (173, 0.0), (177, 0.0), (178, 0.0), (179, 0.0), (180, 0.0), (181, 0.0), (184, 0.0), (186, 0.0), (187, 0.0), (189, 0.0), (190, 0.0), (192, 0.0), (193, 0.0), (196, 0.0), (198, 0.0), (199, 0.0), (200, 0.0), (201, 0.0), (204, 0.0), (205, 0.0), (206, 0.0), (208, 0.0), (209, 0.0), (210, 0.0), (213, 0.0), (216, 0.0), (220, 0.0), (221, 0.0), (224, 0.0), (227, 0.0), (228, 0.0), (229, 0.0), (230, 0.0), (232, 0.0), (233, 0.0), (234, 0.0), (235, 0.0), (236, 0.0), (241, 0.0), (242, 0.0), (243, 0.0), (244, 0.0), (247, 0.0), (248, 0.0), (249, 0.0), (250, 0.0), (252, 0.0), (254, 0.0), (255, 0.0), (256, 0.0), (257, 0.0), (258, 0.0), (259, 0.0), (261, 0.0), (262, 0.0), (265, 0.0), (267, 0.0), (272, 0.0), (274, 0.0), (275, 0.0), (276, 0.0), (277, 0.0), (280, 0.0), (281, 0.0), (282, 0.0), (286, 0.0), (287, 0.0), (288, 0.0), (289, 0.0), (290, 0.0), (291, 0.0), (292, 0.0), (293, 0.0), (294, 0.0), (295, 0.0), (296, 0.0), (297, 0.0), (299, 0.0), (301, 0.0), (302, 0.0), (303, 0.0), (304, 0.0), (305, 0.0), (306, 0.0), (307, 0.0), (308, 0.0), (310, 0.0), (313, 0.0), (314, 0.0), (315, 0.0), (316, 0.0), (321, 0.0), (322, 0.0), (326, 0.0), (328, 0.0), (329, 0.0), (330, 0.0), (332, 0.0), (333, 0.0), (334, 0.0), (335, 0.0), (343, 0.0), (347, 0.0), (348, 0.0), (349, 0.0), (353, 0.0), (354, 0.0), (358, 0.0), (359, 0.0), (360, 0.0), (364, 0.0), (366, 0.0), (370, 0.0), (371, 0.0), (372, 0.0), (374, 0.0), (375, 0.0), (378, 0.0), (379, 0.0), (380, 0.0), (381, 0.0), (382, 0.0), (384, 0.0), (386, 0.0), (387, 0.0), (388, 0.0), (389, 0.0), (393, 0.0), (394, 0.0), (395, 0.0), (396, 0.0), (397, 0.0), (399, 0.0), (400, 0.0), (402, 0.0), (406, 0.0), (408, 0.0), (410, 0.0), (411, 0.0), (412, 0.0), (414, 0.0), (419, 0.0), (420, 0.0), (422, 0.0), (423, 0.0), (424, 0.0), (425, 0.0), (426, 0.0), (429, 0.0), (431, 0.0), (432, 0.0), (433, 0.0), (434, 0.0), (435, 0.0), (436, 0.0), (437, 0.0), (438, 0.0), (441, 0.0), (442, 0.0), (443, 0.0), (444, 0.0), (445, 0.0), (446, 0.0), (447, 0.0), (449, 0.0), (450, 0.0), (451, 0.0), (452, 0.0), (453, 0.0), (454, 0.0), (458, 0.0), (459, 0.0), (460, 0.0), (462, 0.0), (463, 0.0), (464, 0.0), (466, 0.0), (468, 0.0), (470, 0.0), (472, 0.0), (475, 0.0), (476, 0.0), (477, 0.0), (478, 0.0), (480, 0.0), (481, 0.0), (482, 0.0), (483, 0.0), (484, 0.0), (485, 0.0), (486, 0.0), (487, 0.0), (488, 0.0), (489, 0.0), (490, 0.0), (491, 0.0), (492, 0.0), (493, 0.0), (495, 0.0), (499, 0.0), (500, 0.0), (501, 0.0), (502, 0.0), (506, 0.0), (509, 0.0), (511, 0.0), (513, 0.0), (514, 0.0), (516, 0.0), (517, 0.0), (518, 0.0), (519, 0.0), (522, 0.0), (523, 0.0), (526, 0.0), (527, 0.0), (533, 0.0), (534, 0.0), (535, 0.0), (536, 0.0), (537, 0.0), (539, 0.0), (540, 0.0), (541, 0.0), (543, 0.0), (544, 0.0), (547, 0.0), (549, 0.0), (550, 0.0), (551, 0.0), (552, 0.0), (553, 0.0), (554, 0.0), (556, 0.0), (557, 0.0), (558, 0.0), (559, 0.0), (560, 0.0), (563, 0.0), (564, 0.0), (565, 0.0), (567, 0.0), (568, 0.0), (569, 0.0), (570, 0.0), (572, 0.0), (573, 0.0), (574, 0.0), (575, 0.0), (576, 0.0), (577, 0.0), (578, 0.0), (580, 0.0), (581, 0.0), (584, 0.0), (585, 0.0), (587, 0.0), (588, 0.0), (590, 0.0), (591, 0.0), (592, 0.0), (593, 0.0), (594, 0.0), (595, 0.0), (596, 0.0), (597, 0.0), (598, 0.0), (599, 0.0), (600, 0.0), (602, 0.0), (603, 0.0), (604, 0.0), (606, 0.0), (607, 0.0), (608, 0.0), (610, 0.0), (611, 0.0), (613, 0.0), (614, 0.0), (617, 0.0), (618, 0.0), (619, 0.0), (621, 0.0), (622, 0.0), (623, 0.0), (624, 0.0), (625, 0.0), (626, 0.0), (627, 0.0), (633, 0.0), (634, 0.0), (635, 0.0), (637, 0.0), (638, 0.0), (639, 0.0), (640, 0.0), (642, 0.0), (643, 0.0), (644, 0.0), (645, 0.0), (646, 0.0), (648, 0.0), (650, 0.0), (651, 0.0), (652, 0.0), (653, 0.0), (654, 0.0), (655, 0.0), (656, 0.0), (658, 0.0), (659, 0.0), (660, 0.0), (661, 0.0), (663, 0.0), (666, 0.0), (668, 0.0), (669, 0.0), (670, 0.0), (672, 0.0), (674, 0.0), (675, 0.0), (677, 0.0), (679, 0.0), (680, 0.0), (682, 0.0), (683, 0.0), (684, 0.0), (685, 0.0), (686, 0.0), (688, 0.0), (689, 0.0), (693, 0.0), (694, 0.0), (695, 0.0), (696, 0.0), (700, 0.0), (701, 0.0), (704, 0.0), (706, 0.0), (708, 0.0), (709, 0.0), (710, 0.0), (711, 0.0), (713, 0.0), (714, 0.0), (715, 0.0), (716, 0.0), (718, 0.0), (719, 0.0), (721, 0.0), (722, 0.0), (724, 0.0), (725, 0.0), (727, 0.0), (728, 0.0), (729, 0.0), (730, 0.0), (731, 0.0), (733, 0.0), (734, 0.0), (739, 0.0), (742, 0.0), (743, 0.0), (747, 0.0), (750, 0.0), (753, 0.0), (755, 0.0), (756, 0.0), (761, 0.0), (765, 0.0), (766, 0.0), (769, 0.0), (771, 0.0), (772, 0.0), (777, 0.0), (779, 0.0), (782, 0.0), (783, 0.0), (789, 0.0), (791, 0.0), (797, 0.0), (798, 0.0), (799, 0.0), (800, 0.0), (802, 0.0), (803, 0.0), (805, 0.0), (806, 0.0), (809, 0.0), (810, 0.0), (811, 0.0), (812, 0.0), (814, 0.0), (815, 0.0), (816, 0.0), (817, 0.0), (818, 0.0), (819, 0.0), (823, 0.0), (826, 0.0), (827, 0.0), (828, 0.0), (830, 0.0), (831, 0.0), (832, 0.0), (837, 0.0), (838, 0.0), (840, 0.0), (841, 0.0), (843, 0.0), (845, 0.0), (847, 0.0), (848, 0.0), (850, 0.0), (853, 0.0), (854, 0.0), (855, 0.0), (856, 0.0), (857, 0.0), (858, 0.0), (860, 0.0), (861, 0.0), (863, 0.0), (864, 0.0), (865, 0.0), (866, 0.0), (868, 0.0), (869, 0.0), (870, 0.0), (871, 0.0), (874, 0.0), (875, 0.0), (876, 0.0), (877, 0.0), (878, 0.0), (882, 0.0), (886, 0.0), (887, 0.0), (888, 0.0), (889, 0.0), (891, 0.0), (893, 0.0), (894, 0.0), (896, 0.0), (897, 0.0), (899, 0.0), (900, 0.0), (901, 0.0), (902, 0.0), (906, 0.0), (909, 0.0), (910, 0.0), (911, 0.0), (913, 0.0), (914, 0.0), (915, 0.0), (917, 0.0), (918, 0.0), (920, 0.0), (921, 0.0), (922, 0.0), (924, 0.0), (927, 0.0), (929, 0.0), (930, 0.0), (932, 0.0), (934, 0.0), (935, 0.0), (937, 0.0), (942, 0.0), (943, 0.0), (944, 0.0), (947, 0.0), (949, 0.0), (950, 0.0), (952, 0.0), (953, 0.0), (954, 0.0), (955, 0.0), (956, 0.0), (958, 0.0), (959, 0.0), (960, 0.0), (962, 0.0), (963, 0.0), (965, 0.0), (966, 0.0), (967, 0.0), (968, 0.0), (974, 0.0), (975, 0.0), (976, 0.0), (977, 0.0), (979, 0.0), (980, 0.0), (986, 0.0), (987, 0.0), (988, 0.0), (989, 0.0), (991, 0.0), (992, 0.0), (994, 0.0), (995, 0.0), (997, 0.0), (1001, 0.0), (1003, 0.0), (1004, 0.0), (1005, 0.0), (1006, 0.0), (1010, 0.0), (1011, 0.0), (1012, 0.0), (1014, 0.0), (1015, 0.0), (1016, 0.0), (1017, 0.0), (1018, 0.0), (1020, 0.0), (1021, 0.0), (1023, 0.0), (1027, 0.0), (1028, 0.0), (1030, 0.0), (1031, 0.0), (1032, 0.0), (1033, 0.0), (1034, 0.0), (1035, 0.0), (1037, 0.0), (1043, 0.0), (1045, 0.0), (1046, 0.0), (1048, 0.0), (1050, 0.0), (1051, 0.0), (1052, 0.0), (1053, 0.0), (1054, 0.0), (1055, 0.0), (1056, 0.0), (1057, 0.0), (1058, 0.0), (1059, 0.0), (1060, 0.0), (1063, 0.0), (1064, 0.0), (1065, 0.0), (1066, 0.0), (1067, 0.0), (1068, 0.0), (1069, 0.0), (1070, 0.0), (1071, 0.0), (1072, 0.0), (1076, 0.0), (1077, 0.0), (1079, 0.0), (1080, 0.0), (1081, 0.0), (1082, 0.0), (1083, 0.0), (1086, 0.0), (1090, 0.0), (1091, 0.0), (1092, 0.0), (1093, 0.0), (1095, 0.0), (1096, 0.0), (1097, 0.0), (1098, 0.0), (1101, 0.0), (1102, 0.0), (1103, 0.0), (1104, 0.0), (1105, 0.0), (1106, 0.0), (1107, 0.0), (1110, 0.0), (1116, 0.0), (1120, 0.0), (1121, 0.0), (1122, 0.0), (1123, 0.0), (1125, 0.0), (1128, 0.0), (1129, 0.0), (1132, 0.0), (1134, 0.0), (1135, 0.0), (1136, 0.0), (1138, 0.0), (1140, 0.0), (1141, 0.0), (1143, 0.0), (1144, 0.0), (1145, 0.0), (1147, 0.0), (1149, 0.0), (1150, 0.0), (1151, 0.0), (1152, 0.0), (1154, 0.0), (1156, 0.0), (1158, 0.0), (1159, 0.0), (1160, 0.0), (1161, 0.0), (1162, 0.0), (1163, 0.0), (1164, 0.0), (1167, 0.0), (1168, 0.0), (1171, 0.0), (1172, 0.0), (1174, 0.0), (1175, 0.0), (1176, 0.0), (1177, 0.0), (1179, 0.0), (1180, 0.0), (1181, 0.0), (1182, 0.0), (1183, 0.0), (1185, 0.0), (1186, 0.0), (1188, 0.0), (1189, 0.0), (1191, 0.0), (1192, 0.0), (1193, 0.0), (1197, 0.0), (1202, 0.0), (1206, 0.0), (1207, 0.0), (1209, 0.0), (1210, 0.0), (1215, 0.0), (1218, 0.0), (1220, 0.0), (1225, 0.0), (1226, 0.0), (1227, 0.0), (1228, 0.0), (1229, 0.0), (1230, 0.0), (1235, 0.0), (1236, 0.0), (1239, 0.0), (1240, 0.0), (1241, 0.0), (1247, 0.0), (1248, 0.0), (1250, 0.0), (1252, 0.0), (1254, 0.0), (1255, 0.0), (1257, 0.0), (1262, 0.0), (1264, 0.0), (1265, 0.0), (1266, 0.0), (1269, 0.0), (1270, 0.0), (1271, 0.0), (1272, 0.0), (1273, 0.0), (1274, 0.0), (1275, 0.0), (1276, 0.0), (1278, 0.0), (1279, 0.0), (1280, 0.0), (1281, 0.0), (1283, 0.0), (1285, 0.0), (1287, 0.0), (1288, 0.0), (1289, 0.0), (1290, 0.0), (1293, 0.0), (1294, 0.0), (1295, 0.0), (1296, 0.0), (1299, 0.0), (1301, 0.0), (1303, 0.0), (1307, 0.0), (1313, 0.0), (1314, 0.0), (1315, 0.0), (1316, 0.0), (1318, 0.0), (1319, 0.0), (1321, 0.0), (1322, 0.0), (1324, 0.0), (1325, 0.0), (1326, 0.0), (1328, 0.0), (1331, 0.0), (1332, 0.0), (1333, 0.0), (1338, 0.0), (1339, 0.0), (1342, 0.0), (1343, 0.0), (1346, 0.0), (1347, 0.0), (1349, 0.0), (1350, 0.0), (1353, 0.0), (1354, 0.0), (1355, 0.0), (1356, 0.0), (1357, 0.0), (1358, 0.0), (1360, 0.0), (1371, 0.0), (1376, 0.0), (1377, 0.0), (1378, 0.0), (1379, 0.0), (1380, 0.0), (1381, 0.0), (1383, 0.0), (1384, 0.0), (1385, 0.0), (1387, 0.0), (1388, 0.0), (1389, 0.0), (1390, 0.0), (1391, 0.0), (1395, 0.0), (1396, 0.0), (1398, 0.0), (1399, 0.0), (1400, 0.0), (1402, 0.0), (1406, 0.0), (1407, 0.0), (1413, 0.0), (1414, 0.0), (1415, 0.0), (1416, 0.0), (1417, 0.0), (1421, 0.0), (1423, 0.0), (1425, 0.0), (1426, 0.0), (1428, 0.0), (1429, 0.0), (1430, 0.0), (1433, 0.0), (1434, 0.0), (1435, 0.0), (1436, 0.0), (1438, 0.0), (1439, 0.0), (1440, 0.0), (1441, 0.0), (1442, 0.0), (1443, 0.0), (1444, 0.0), (1446, 0.0), (1448, 0.0), (1449, 0.0), (1450, 0.0), (1452, 0.0), (1454, 0.0), (1455, 0.0), (1459, 0.0), (1460, 0.0), (1463, 0.0), (1464, 0.0), (1466, 0.0), (1470, 0.0), (1471, 0.0), (1472, 0.0), (1473, 0.0), (1474, 0.0), (1481, 0.0), (1483, 0.0), (1484, 0.0), (1490, 0.0), (1492, 0.0), (1493, 0.0), (1497, 0.0), (1498, 0.0), (1499, 0.0), (1500, 0.0), (1502, 0.0), (1504, 0.0), (1509, 0.0), (1510, 0.0), (1511, 0.0), (1512, 0.0), (1514, 0.0), (1515, 0.0), (1517, 0.0), (1519, 0.0), (1524, 0.0), (1526, 0.0), (1527, 0.0), (1530, 0.0), (1531, 0.0), (1532, 0.0), (1534, 0.0), (1535, 0.0), (1536, 0.0), (1540, 0.0), (1541, 0.0), (1544, 0.0), (1545, 0.0), (1546, 0.0), (1547, 0.0), (1548, 0.0), (1550, 0.0), (1551, 0.0), (1553, 0.0), (1554, 0.0), (1555, 0.0), (1556, 0.0), (1558, 0.0), (1562, 0.0), (1565, 0.0), (1566, 0.0), (1568, 0.0), (1570, 0.0), (1575, 0.0), (1576, 0.0), (1577, 0.0), (1578, 0.0), (1579, 0.0), (1581, 0.0), (1583, 0.0), (1588, 0.0), (1590, 0.0), (1591, 0.0), (1592, 0.0), (1593, 0.0), (1595, 0.0), (1600, 0.0), (1602, 0.0), (1603, 0.0), (1604, 0.0), (1605, 0.0), (1606, 0.0), (1607, 0.0), (1608, 0.0), (1609, 0.0), (1611, 0.0), (1612, 0.0), (1617, 0.0), (1619, 0.0), (1620, 0.0), (1621, 0.0), (1622, 0.0), (1623, 0.0), (1624, 0.0), (1625, 0.0), (1626, 0.0), (1627, 0.0), (1628, 0.0), (1629, 0.0), (1630, 0.0), (1631, 0.0), (1633, 0.0), (1635, 0.0), (1636, 0.0), (1641, 0.0), (1643, 0.0), (1644, 0.0), (1645, 0.0), (1647, 0.0), (1648, 0.0), (1650, 0.0), (1651, 0.0), (1653, 0.0), (1654, 0.0), (1655, 0.0), (1657, 0.0), (1659, 0.0), (1661, 0.0), (1662, 0.0), (1664, 0.0), (1665, 0.0), (1667, 0.0), (1668, 0.0), (1669, 0.0), (1670, 0.0), (1671, 0.0), (1673, 0.0), (1674, 0.0), (1675, 0.0), (1680, 0.0), (1681, 0.0), (1685, 0.0), (1686, 0.0), (1687, 0.0), (1689, 0.0), (1691, 0.0), (1692, 0.0), (1696, 0.0), (1698, 0.0), (1699, 0.0), (1702, 0.0), (1703, 0.0), (1704, 0.0), (1705, 0.0), (1707, 0.0), (1708, 0.0), (1709, 0.0), (1710, 0.0), (1711, 0.0), (1712, 0.0), (1713, 0.0), (1716, 0.0), (1717, 0.0), (1720, 0.0), (1724, 0.0), (1725, 0.0), (1728, 0.0), (1730, 0.0), (1732, 0.0), (1734, 0.0), (1735, 0.0), (1736, 0.0), (1739, 0.0), (1740, 0.0), (1741, 0.0), (1742, 0.0), (1745, 0.0), (1747, 0.0), (1748, 0.0), (1749, 0.0), (1753, 0.0), (1754, 0.0), (1755, 0.0), (1756, 0.0), (1758, 0.0), (1760, 0.0), (1761, 0.0), (1763, 0.0), (1764, 0.0), (1768, 0.0), (1770, 0.0), (1773, 0.0), (1774, 0.0), (1775, 0.0), (1776, 0.0), (1779, 0.0), (1780, 0.0), (1782, 0.0), (1785, 0.0), (1786, 0.0), (1789, 0.0), (1790, 0.0), (1793, 0.0), (1795, 0.0), (1796, 0.0), (1798, 0.0), (1799, 0.0), (1800, 0.0), (1801, 0.0), (1805, 0.0), (1807, 0.0), (1810, 0.0), (1811, 0.0), (1812, 0.0), (1813, 0.0), (1814, 0.0), (1815, 0.0), (1817, 0.0), (1818, 0.0), (1819, 0.0), (1820, 0.0), (1823, 0.0), (1825, 0.0), (1826, 0.0), (1828, 0.0), (1829, 0.0), (1831, 0.0), (1832, 0.0), (1834, 0.0), (1835, 0.0), (1838, 0.0), (1841, 0.0), (1843, 0.0), (1844, 0.0), (1846, 0.0), (1849, 0.0), (1853, 0.0), (1854, 0.0), (1855, 0.0), (1856, 0.0), (1857, 0.0), (1858, 0.0), (1860, 0.0), (1862, 0.0), (1863, 0.0), (1864, 0.0), (1868, 0.0), (1869, 0.0), (1872, 0.0), (1873, 0.0), (1874, 0.0), (1875, 0.0), (1882, 0.0), (1884, 0.0), (1885, 0.0), (1886, 0.0), (1887, 0.0), (1890, 0.0), (1891, 0.0), (1892, 0.0), (1894, 0.0), (1895, 0.0), (1896, 0.0), (1897, 0.0), (1901, 0.0), (1904, 0.0), (1905, 0.0), (1906, 0.0), (1907, 0.0), (1908, 0.0), (1909, 0.0), (1914, 0.0), (1915, 0.0), (1916, 0.0), (1917, 0.0), (1918, 0.0), (1921, 0.0), (1922, 0.0), (1924, 0.0), (1927, 0.0), (1928, 0.0), (1931, 0.0), (1932, 0.0), (1936, 0.0), (1938, 0.0), (1940, 0.0), (1946, 0.0), (1947, 0.0), (1949, 0.0), (1950, 0.0), (1952, 0.0), (1953, 0.0), (1957, 0.0), (1959, 0.0), (1960, 0.0), (1962, 0.0), (1964, 0.0), (1968, 0.0), (1969, 0.0), (1971, 0.0), (1972, 0.0), (1975, 0.0), (1976, 0.0), (1979, 0.0), (1983, 0.0), (1985, 0.0), (1988, 0.0), (1990, 0.0), (1991, 0.0), (1993, 0.0), (1994, 0.0), (1995, 0.0), (1997, 0.0), (1998, 0.0), (2000, 0.0), (2002, 0.0), (2004, 0.0), (2005, 0.0), (2010, 0.0), (2011, 0.0), (2013, 0.0), (2014, 0.0), (2016, 0.0), (2017, 0.0), (2023, 0.0), (2024, 0.0), (2025, 0.0), (2027, 0.0), (2029, 0.0), (2030, 0.0), (2031, 0.0), (2034, 0.0), (2038, 0.0), (2039, 0.0), (2040, 0.0), (2042, 0.0), (2044, 0.0), (2045, 0.0), (2047, 0.0), (2048, 0.0), (2051, 0.0), (2052, 0.0), (2054, 0.0), (2057, 0.0), (2059, 0.0), (2061, 0.0), (2062, 0.0), (2063, 0.0), (2064, 0.0), (2065, 0.0), (2066, 0.0), (2067, 0.0), (2069, 0.0), (2071, 0.0), (2072, 0.0), (2073, 0.0), (2075, 0.0), (2078, 0.0), (2079, 0.0), (2080, 0.0), (2083, 0.0), (2085, 0.0), (2088, 0.0), (2091, 0.0), (2092, 0.0), (2094, 0.0), (2095, 0.0), (2096, 0.0), (2097, 0.0), (2102, 0.0), (2105, 0.0), (2109, 0.0), (2110, 0.0), (2113, 0.0), (2117, 0.0), (2119, 0.0), (2120, 0.0), (2121, 0.0), (2124, 0.0), (2126, 0.0), (2127, 0.0), (2128, 0.0), (2129, 0.0), (2132, 0.0), (2133, 0.0), (2134, 0.0), (2135, 0.0), (2136, 0.0), (2138, 0.0), (2139, 0.0), (2141, 0.0), (2142, 0.0), (2143, 0.0), (2144, 0.0), (2147, 0.0), (2149, 0.0), (2154, 0.0), (2155, 0.0), (2156, 0.0), (2160, 0.0), (2162, 0.0), (2163, 0.0), (2164, 0.0), (2165, 0.0), (2169, 0.0), (2171, 0.0), (2172, 0.0), (2173, 0.0), (2176, 0.0), (2177, 0.0), (2178, 0.0), (2180, 0.0), (2181, 0.0), (2182, 0.0), (2183, 0.0), (2184, 0.0), (2185, 0.0), (2188, 0.0), (2189, 0.0), (2190, 0.0), (2195, 0.0), (2198, 0.0), (2200, 0.0), (2205, 0.0), (2206, 0.0), (2210, 0.0), (2212, 0.0), (2213, 0.0), (2214, 0.0), (2215, 0.0), (2216, 0.0), (2219, 0.0), (2221, 0.0), (2224, 0.0), (2226, 0.0), (2229, 0.0), (2230, 0.0), (2231, 0.0), (2232, 0.0), (2233, 0.0), (2238, 0.0), (2239, 0.0), (2243, 0.0), (2244, 0.0), (2245, 0.0), (2246, 0.0), (2247, 0.0), (2248, 0.0), (2250, 0.0), (2251, 0.0), (2252, 0.0), (2254, 0.0), (2255, 0.0), (2256, 0.0), (2257, 0.0), (2258, 0.0), (2259, 0.0), (2266, 0.0), (2267, 0.0), (2268, 0.0), (2269, 0.0), (2271, 0.0), (2272, 0.0), (2273, 0.0), (2274, 0.0), (2275, 0.0), (2276, 0.0), (2277, 0.0), (2278, 0.0), (2279, 0.0), (2282, 0.0), (2283, 0.0), (2285, 0.0), (2286, 0.0), (2287, 0.0), (2288, 0.0), (2289, 0.0), (2291, 0.0), (2293, 0.0), (2294, 0.0), (2295, 0.0), (2298, 0.0), (2299, 0.0), (2300, 0.0), (2301, 0.0), (2305, 0.0), (2306, 0.0), (2307, 0.0), (2310, 0.0), (2312, 0.0), (2313, 0.0), (2314, 0.0), (2315, 0.0), (2316, 0.0), (2318, 0.0), (2319, 0.0), (2321, 0.0), (2322, 0.0), (2323, 0.0), (2324, 0.0), (2325, 0.0), (2328, 0.0), (2332, 0.0), (2334, 0.0), (2337, 0.0), (2338, 0.0), (2339, 0.0), (2341, 0.0), (2342, 0.0), (2343, 0.0), (2344, 0.0), (2345, 0.0), (2346, 0.0), (2349, 0.0), (2350, 0.0), (2352, 0.0), (2354, 0.0), (2355, 0.0), (2358, 0.0), (2359, 0.0), (2360, 0.0), (2361, 0.0), (2362, 0.0), (2365, 0.0), (2366, 0.0), (2369, 0.0), (2370, 0.0), (2371, 0.0), (2372, 0.0), (2373, 0.0), (2374, 0.0), (2376, 0.0), (2377, 0.0), (2380, 0.0), (2382, 0.0), (2383, 0.0), (2384, 0.0), (2386, 0.0), (2390, 0.0), (2392, 0.0), (2393, 0.0), (2398, 0.0), (2400, 0.0), (2401, 0.0), (2405, 0.0), (2406, 0.0), (2407, 0.0), (2408, 0.0), (2412, 0.0), (2413, 0.0), (2414, 0.0), (2415, 0.0), (2416, 0.0), (2417, 0.0), (2418, 0.0), (2425, 0.0), (2427, 0.0), (2428, 0.0), (2429, 0.0), (2432, 0.0), (2436, 0.0), (2438, 0.0), (2442, 0.0), (2445, 0.0), (2447, 0.0), (2448, 0.0), (2451, 0.0), (2452, 0.0), (2453, 0.0), (2454, 0.0), (2455, 0.0), (2457, 0.0), (2459, 0.0), (2460, 0.0), (2462, 0.0), (2463, 0.0), (2465, 0.0), (2466, 0.0), (2469, 0.0), (2470, 0.0), (2471, 0.0), (2474, 0.0), (2475, 0.0), (2476, 0.0), (2477, 0.0), (2480, 0.0), (2481, 0.0), (2482, 0.0), (2484, 0.0), (2485, 0.0), (2489, 0.0), (2490, 0.0), (2491, 0.0), (2496, 0.0), (2498, 0.0), (2501, 0.0), (2502, 0.0), (2503, 0.0), (2505, 0.0), (2508, 0.0), (2510, 0.0), (2513, 0.0), (2515, 0.0), (2516, 0.0), (2518, 0.0), (2523, 0.0), (2526, 0.0), (2527, 0.0), (2528, 0.0), (2530, 0.0), (2532, 0.0), (2533, 0.0), (2534, 0.0), (2536, 0.0), (2542, 0.0), (2544, 0.0), (2545, 0.0), (2547, 0.0), (2549, 0.0), (2550, 0.0), (2551, 0.0), (2555, 0.0), (2556, 0.0), (2557, 0.0), (2558, 0.0), (2559, 0.0), (2560, 0.0), (2562, 0.0), (2564, 0.0), (2567, 0.0), (2568, 0.0), (2571, 0.0), (2572, 0.0), (2573, 0.0), (2574, 0.0), (2576, 0.0), (2577, 0.0), (2578, 0.0), (2579, 0.0), (2583, 0.0), (2585, 0.0), (2589, 0.0), (2593, 0.0), (2595, 0.0), (2596, 0.0), (2598, 0.0), (2599, 0.0), (2602, 0.0), (2606, 0.0), (2607, 0.0), (2609, 0.0), (2611, 0.0), (2612, 0.0), (2614, 0.0), (2617, 0.0), (2618, 0.0), (2620, 0.0), (2621, 0.0), (2623, 0.0), (2624, 0.0), (2625, 0.0), (2627, 0.0), (2628, 0.0), (2629, 0.0), (2630, 0.0), (2631, 0.0), (2634, 0.0), (2636, 0.0), (2638, 0.0), (2639, 0.0), (2640, 0.0), (2641, 0.0), (2643, 0.0), (2645, 0.0), (2647, 0.0), (2648, 0.0), (2649, 0.0), (2650, 0.0), (2651, 0.0), (2652, 0.0), (2653, 0.0), (2654, 0.0), (2655, 0.0), (2657, 0.0), (2658, 0.0), (2659, 0.0), (2664, 0.0), (2667, 0.0), (2669, 0.0), (2670, 0.0), (2672, 0.0), (2673, 0.0), (2674, 0.0), (2675, 0.0), (2679, 0.0), (2680, 0.0), (2682, 0.0), (2683, 0.0), (2684, 0.0), (2689, 0.0), (2691, 0.0), (2692, 0.0), (2694, 0.0), (2698, 0.0), (2700, 0.0), (2703, 0.0), (2704, 0.0), (2705, 0.0), (2707, 0.0), (2708, 0.0), (2710, 0.0), (2711, 0.0), (2713, 0.0), (2714, 0.0), (2717, 0.0), (2718, 0.0), (2719, 0.0), (2723, 0.0), (2724, 0.0), (2731, 0.0), (2733, 0.0), (2735, 0.0), (2736, 0.0), (2739, 0.0), (2740, 0.0), (2743, 0.0), (2745, 0.0), (2748, 0.0), (2749, 0.0), (2752, 0.0), (2753, 0.0), (2757, 0.0), (2760, 0.0), (2761, 0.0), (2762, 0.0), (2766, 0.0), (2767, 0.0), (2768, 0.0), (2771, 0.0), (2772, 0.0), (2773, 0.0), (2774, 0.0), (2775, 0.0), (2777, 0.0), (2778, 0.0), (2779, 0.0), (2780, 0.0), (2784, 0.0), (2785, 0.0), (2788, 0.0), (2789, 0.0), (2790, 0.0), (2791, 0.0), (2793, 0.0), (2795, 0.0), (2798, 0.0), (2800, 0.0), (2802, 0.0), (2803, 0.0), (2806, 0.0), (2808, 0.0), (2815, 0.0), (2818, 0.0), (2819, 0.0), (2821, 0.0), (2822, 0.0), (2824, 0.0), (2827, 0.0), (2828, 0.0), (2830, 0.0), (2831, 0.0), (2835, 0.0), (2837, 0.0), (2839, 0.0), (2840, 0.0), (2842, 0.0), (2847, 0.0), (2848, 0.0), (2849, 0.0), (2850, 0.0), (2851, 0.0), (2853, 0.0), (2854, 0.0), (2859, 0.0), (2860, 0.0), (2861, 0.0), (2862, 0.0), (2863, 0.0), (2864, 0.0), (2865, 0.0), (2867, 0.0), (2869, 0.0), (2870, 0.0), (2871, 0.0), (2875, 0.0), (2877, 0.0), (2878, 0.0), (2879, 0.0), (2881, 0.0), (2883, 0.0), (2885, 0.0), (2886, 0.0), (2887, 0.0), (2888, 0.0), (2889, 0.0), (2890, 0.0), (2892, 0.0), (2894, 0.0), (2895, 0.0), (2896, 0.0), (2898, 0.0), (2899, 0.0), (2900, 0.0), (2901, 0.0), (2902, 0.0), (2903, 0.0), (2904, 0.0), (2905, 0.0), (2906, 0.0), (2907, 0.0), (2909, 0.0), (2910, 0.0), (2914, 0.0), (2915, 0.0), (2916, 0.0), (2917, 0.0), (2918, 0.0), (2919, 0.0), (2920, 0.0), (2921, 0.0), (2922, 0.0), (2923, 0.0), (2927, 0.0), (2929, 0.0), (2930, 0.0), (2931, 0.0), (2932, 0.0), (2934, 0.0), (2936, 0.0), (2937, 0.0), (2938, 0.0), (2939, 0.0), (2941, 0.0), (2943, 0.0), (2946, 0.0), (2947, 0.0), (2949, 0.0), (2950, 0.0), (2952, 0.0), (2953, 0.0), (2955, 0.0), (2956, 0.0), (2957, 0.0), (2958, 0.0), (2959, 0.0), (2960, 0.0), (2961, 0.0), (2964, 0.0), (2965, 0.0), (2966, 0.0), (2967, 0.0), (2968, 0.0), (2969, 0.0), (2974, 0.0), (2975, 0.0), (2976, 0.0), (2977, 0.0), (2980, 0.0), (2981, 0.0), (2984, 0.0), (2985, 0.0), (2987, 0.0), (2988, 0.0), (2989, 0.0), (2990, 0.0), (2991, 0.0), (2993, 0.0), (2995, 0.0), (2997, 0.0), (2998, 0.0), (3001, 0.0), (3002, 0.0), (3004, 0.0), (3005, 0.0), (3006, 0.0), (3007, 0.0), (3008, 0.0), (3011, 0.0), (3012, 0.0), (3013, 0.0), (3015, 0.0), (3019, 0.0), (3021, 0.0), (3022, 0.0), (3023, 0.0), (3024, 0.0), (3025, 0.0), (3027, 0.0), (3028, 0.0), (3029, 0.0), (3030, 0.0), (3031, 0.0), (3032, 0.0), (3035, 0.0), (3036, 0.0), (3037, 0.0), (3038, 0.0), (3041, 0.0), (3043, 0.0), (3046, 0.0), (3047, 0.0), (3048, 0.0), (3049, 0.0), (3051, 0.0), (3052, 0.0), (3053, 0.0), (3054, 0.0), (3055, 0.0), (3057, 0.0), (3058, 0.0), (3059, 0.0), (3060, 0.0), (3064, 0.0), (3065, 0.0), (3067, 0.0), (3068, 0.0), (3069, 0.0), (3072, 0.0), (3073, 0.0), (3074, 0.0), (3075, 0.0), (3076, 0.0), (3079, 0.0), (3081, 0.0), (3085, 0.0), (3086, 0.0), (3087, 0.0), (3088, 0.0), (3090, 0.0), (3092, 0.0), (3093, 0.0), (3094, 0.0), (3095, 0.0), (3099, 0.0), (3100, 0.0), (3101, 0.0), (3103, 0.0), (3104, 0.0), (3106, 0.0), (3107, 0.0), (3110, 0.0), (3112, 0.0), (3114, 0.0), (3115, 0.0), (3116, 0.0), (3118, 0.0), (3119, 0.0), (3122, 0.0), (3123, 0.0), (3125, 0.0), (3126, 0.0), (3128, 0.0), (3129, 0.0), (3130, 0.0), (3131, 0.0), (3132, 0.0), (3133, 0.0), (3134, 0.0), (3135, 0.0), (3136, 0.0), (3138, 0.0), (3140, 0.0), (3141, 0.0), (3143, 0.0), (3144, 0.0), (3145, 0.0), (3148, 0.0), (3151, 0.0), (3153, 0.0), (3154, 0.0), (3156, 0.0), (3157, 0.0), (3158, 0.0), (3159, 0.0), (3160, 0.0), (3161, 0.0), (3162, 0.0), (3163, 0.0), (3165, 0.0), (3167, 0.0), (3169, 0.0), (3170, 0.0), (3171, 0.0), (3172, 0.0), (3173, 0.0), (3174, 0.0), (3176, 0.0), (3179, 0.0), (3180, 0.0), (3184, 0.0), (3186, 0.0), (3190, 0.0), (3191, 0.0), (3193, 0.0), (3196, 0.0), (3197, 0.0), (3200, 0.0), (3202, 0.0), (3203, 0.0), (3204, 0.0), (3206, 0.0), (3207, 0.0), (3208, 0.0), (3210, 0.0), (3211, 0.0), (3213, 0.0), (3216, 0.0), (3219, 0.0), (3222, 0.0), (3223, 0.0), (3225, 0.0), (3226, 0.0), (3230, 0.0), (3233, 0.0), (3234, 0.0), (3235, 0.0), (3237, 0.0), (3240, 0.0), (3241, 0.0), (3242, 0.0), (3243, 0.0), (3247, 0.0), (3248, 0.0), (3251, 0.0), (3253, 0.0), (3254, 0.0), (3255, 0.0), (3257, 0.0), (3259, 0.0), (3261, 0.0), (3262, 0.0), (3263, 0.0), (3264, 0.0), (3266, 0.0), (3268, 0.0), (3269, 0.0), (3273, 0.0), (3274, 0.0), (3275, 0.0), (3276, 0.0), (3277, 0.0), (3278, 0.0), (3279, 0.0), (3280, 0.0), (3285, 0.0), (3291, 0.0), (3292, 0.0), (3293, 0.0), (3294, 0.0), (3296, 0.0), (3298, 0.0), (3299, 0.0), (3301, 0.0), (3306, 0.0), (3307, 0.0), (3310, 0.0), (3312, 0.0), (3316, 0.0), (3317, 0.0), (3318, 0.0), (3321, 0.0), (3324, 0.0), (3325, 0.0), (3326, 0.0), (3327, 0.0), (3328, 0.0), (3330, 0.0), (3331, 0.0), (3333, 0.0), (3334, 0.0), (3335, 0.0), (3336, 0.0), (3339, 0.0), (3340, 0.0), (3341, 0.0), (3342, 0.0), (3343, 0.0), (3344, 0.0), (3345, 0.0), (3346, 0.0), (3347, 0.0), (3350, 0.0), (3353, 0.0), (3354, 0.0), (3355, 0.0), (3356, 0.0), (3358, 0.0), (3359, 0.0), (3360, 0.0), (3362, 0.0), (3363, 0.0), (3365, 0.0), (3368, 0.0), (3369, 0.0), (3372, 0.0), (3374, 0.0), (3376, 0.0), (3377, 0.0), (3378, 0.0), (3380, 0.0), (3381, 0.0), (3383, 0.0), (3384, 0.0), (3385, 0.0), (3387, 0.0), (3391, 0.0), (3392, 0.0), (3394, 0.0), (3396, 0.0), (3399, 0.0), (3403, 0.0), (3405, 0.0), (3406, 0.0), (3407, 0.0), (3409, 0.0), (3414, 0.0), (3415, 0.0), (3416, 0.0), (3417, 0.0), (3419, 0.0), (3422, 0.0), (3423, 0.0), (3425, 0.0), (3426, 0.0), (3427, 0.0), (3428, 0.0), (3429, 0.0), (3431, 0.0), (3432, 0.0), (3433, 0.0), (3434, 0.0), (3435, 0.0), (3436, 0.0), (3437, 0.0), (3438, 0.0), (3440, 0.0), (3442, 0.0), (3445, 0.0), (3446, 0.0), (3448, 0.0), (3451, 0.0), (3453, 0.0), (3454, 0.0), (3455, 0.0), (3457, 0.0), (3458, 0.0), (3459, 0.0), (3460, 0.0), (3462, 0.0), (3463, 0.0), (3465, 0.0), (3466, 0.0), (3468, 0.0), (3469, 0.0), (3470, 0.0), (3471, 0.0), (3472, 0.0), (3473, 0.0), (3474, 0.0), (3475, 0.0), (3476, 0.0), (3478, 0.0), (3480, 0.0), (3481, 0.0), (3482, 0.0), (3483, 0.0), (3484, 0.0), (3486, 0.0), (3488, 0.0), (3489, 0.0), (3491, 0.0), (3492, 0.0), (3494, 0.0), (3495, 0.0), (3497, 0.0), (3498, 0.0), (3499, 0.0), (3501, 0.0), (3502, 0.0), (3504, 0.0), (3505, 0.0), (3506, 0.0), (3507, 0.0), (3510, 0.0), (3511, 0.0), (3516, 0.0), (3521, 0.0), (3522, 0.0), (3523, 0.0), (3524, 0.0), (3525, 0.0), (3526, 0.0), (3527, 0.0), (3528, 0.0), (3530, 0.0), (3532, 0.0), (3533, 0.0), (3534, 0.0), (3535, 0.0), (3536, 0.0), (3540, 0.0), (3541, 0.0), (3542, 0.0), (3543, 0.0), (3546, 0.0), (3547, 0.0), (3550, 0.0), (3551, 0.0), (3553, 0.0), (3555, 0.0), (3556, 0.0), (3557, 0.0), (3558, 0.0), (3560, 0.0), (3561, 0.0), (3563, 0.0), (3564, 0.0), (3566, 0.0), (3567, 0.0), (3568, 0.0), (3569, 0.0), (3572, 0.0), (3573, 0.0), (3576, 0.0), (3578, 0.0), (3580, 0.0), (3583, 0.0), (3586, 0.0), (3587, 0.0), (3588, 0.0), (3590, 0.0), (3591, 0.0), (3593, 0.0), (3594, 0.0), (3596, 0.0), (3597, 0.0), (3600, 0.0), (3602, 0.0), (3605, 0.0), (3608, 0.0), (3609, 0.0), (3610, 0.0), (3611, 0.0), (3612, 0.0), (3613, 0.0), (3614, 0.0), (3615, 0.0), (3618, 0.0), (3619, 0.0), (3620, 0.0), (3623, 0.0), (3625, 0.0), (3627, 0.0), (3629, 0.0), (3631, 0.0), (3634, 0.0), (3635, 0.0), (3636, 0.0), (3638, 0.0), (3639, 0.0), (3640, 0.0), (3642, 0.0), (3643, 0.0), (3645, 0.0), (3647, 0.0), (3653, 0.0), (3654, 0.0), (3655, 0.0), (3656, 0.0), (3657, 0.0), (3660, 0.0), (3661, 0.0), (3662, 0.0), (3663, 0.0), (3664, 0.0), (3666, 0.0), (3667, 0.0), (3669, 0.0), (3670, 0.0), (3672, 0.0), (3675, 0.0), (3677, 0.0), (3679, 0.0), (3680, 0.0), (3682, 0.0), (3683, 0.0), (3687, 0.0), (3689, 0.0), (3691, 0.0), (3692, 0.0), (3693, 0.0), (3694, 0.0), (3695, 0.0), (3696, 0.0), (3697, 0.0), (3698, 0.0), (3699, 0.0), (3700, 0.0), (3701, 0.0), (3702, 0.0), (3703, 0.0), (3704, 0.0), (3706, 0.0), (3707, 0.0), (3708, 0.0), (3710, 0.0), (3711, 0.0), (3712, 0.0), (3713, 0.0), (3714, 0.0), (3717, 0.0), (3719, 0.0), (3720, 0.0), (3721, 0.0), (3722, 0.0), (3723, 0.0), (3724, 0.0), (3725, 0.0), (3726, 0.0), (3727, 0.0), (3730, 0.0), (3734, 0.0), (3735, 0.0), (3737, 0.0), (3738, 0.0), (3739, 0.0), (3740, 0.0), (3741, 0.0), (3742, 0.0), (3743, 0.0), (3744, 0.0), (3745, 0.0), (3747, 0.0), (3749, 0.0), (3755, 0.0), (3756, 0.0), (3757, 0.0), (3759, 0.0), (3760, 0.0), (3761, 0.0), (3762, 0.0), (3765, 0.0), (3766, 0.0), (3768, 0.0), (3769, 0.0), (3770, 0.0), (3771, 0.0), (3772, 0.0), (3773, 0.0), (3774, 0.0), (3775, 0.0), (3776, 0.0), (3777, 0.0), (3778, 0.0), (3779, 0.0), (3780, 0.0), (3781, 0.0), (3783, 0.0), (3784, 0.0), (3785, 0.0), (3786, 0.0), (3787, 0.0), (3788, 0.0), (3789, 0.0), (3791, 0.0), (3793, 0.0), (3795, 0.0), (3797, 0.0), (3798, 0.0), (3799, 0.0), (3801, 0.0), (3803, 0.0), (3804, 0.0), (3806, 0.0), (3807, 0.0), (3809, 0.0), (3810, 0.0), (3811, 0.0), (3813, 0.0), (3814, 0.0), (3815, 0.0), (3816, 0.0), (3818, 0.0), (3819, 0.0), (3820, 0.0), (3821, 0.0), (3823, 0.0), (3824, 0.0), (3825, 0.0), (3826, 0.0), (3827, 0.0), (3828, 0.0), (3830, 0.0), (3832, 0.0), (3833, 0.0), (3834, 0.0), (3835, 0.0), (3836, 0.0), (3837, 0.0), (3838, 0.0), (3840, 0.0), (3841, 0.0), (3843, 0.0), (3846, 0.0), (3847, 0.0), (3848, 0.0), (3849, 0.0), (3851, 0.0), (3852, 0.0), (3853, 0.0), (3855, 0.0), (3857, 0.0), (3861, 0.0), (3862, 0.0), (3863, 0.0), (3864, 0.0), (3867, 0.0), (3869, 0.0), (3870, 0.0), (3872, 0.0), (3873, 0.0), (3874, 0.0), (3876, 0.0), (3877, 0.0), (3878, 0.0), (3880, 0.0), (3881, 0.0), (3883, 0.0), (3884, 0.0), (3885, 0.0), (3887, 0.0), (3891, 0.0), (3893, 0.0), (3895, 0.0), (3896, 0.0), (3897, 0.0), (3898, 0.0), (3899, 0.0), (3900, 0.0), (3901, 0.0), (3902, 0.0), (3903, 0.0), (3904, 0.0), (3906, 0.0), (3907, 0.0), (3910, 0.0), (3911, 0.0), (3912, 0.0), (3915, 0.0), (3917, 0.0), (3918, 0.0), (3921, 0.0), (3922, 0.0), (3925, 0.0), (3926, 0.0), (3927, 0.0), (3928, 0.0), (3929, 0.0), (3930, 0.0), (3931, 0.0), (3932, 0.0), (3935, 0.0), (3937, 0.0), (3938, 0.0), (3939, 0.0), (3942, 0.0), (3944, 0.0), (3945, 0.0), (3946, 0.0), (3947, 0.0), (3948, 0.0), (3951, 0.0), (3953, 0.0), (3954, 0.0), (3955, 0.0), (3956, 0.0), (3957, 0.0), (3958, 0.0), (3959, 0.0), (3961, 0.0), (3962, 0.0), (3963, 0.0), (3965, 0.0), (3968, 0.0), (3969, 0.0), (3970, 0.0), (3971, 0.0), (3972, 0.0), (3974, 0.0), (3975, 0.0), (3976, 0.0), (3977, 0.0), (3978, 0.0), (3980, 0.0), (3981, 0.0), (3982, 0.0), (3985, 0.0), (3986, 0.0), (3987, 0.0), (3988, 0.0), (3989, 0.0), (3990, 0.0), (3991, 0.0), (3992, 0.0), (3993, 0.0), (3994, 0.0), (3995, 0.0), (3996, 0.0), (3997, 0.0), (3999, 0.0), (4000, 0.0), (4001, 0.0), (4002, 0.0), (4003, 0.0), (4004, 0.0), (4005, 0.0), (4006, 0.0), (4008, 0.0), (4009, 0.0), (4010, 0.0), (4011, 0.0), (4013, 0.0), (4014, 0.0), (4016, 0.0), (4017, 0.0), (4019, 0.0), (4020, 0.0), (4021, 0.0), (4022, 0.0), (4024, 0.0), (4025, 0.0), (4028, 0.0), (4030, 0.0), (4031, 0.0), (4032, 0.0), (4033, 0.0), (4034, 0.0), (4035, 0.0), (4038, 0.0), (4039, 0.0), (4040, 0.0), (4041, 0.0), (4042, 0.0), (4043, 0.0), (4044, 0.0), (4045, 0.0), (4046, 0.0), (4047, 0.0), (4048, 0.0), (4050, 0.0), (4053, 0.0), (4055, 0.0), (4057, 0.0), (4058, 0.0), (4059, 0.0), (4060, 0.0), (4062, 0.0), (4063, 0.0), (4065, 0.0), (4067, 0.0), (4068, 0.0), (4069, 0.0), (4070, 0.0), (4072, 0.0), (4075, 0.0), (4077, 0.0), (4078, 0.0), (4080, 0.0), (4081, 0.0), (4083, 0.0), (4085, 0.0), (4087, 0.0), (4088, 0.0), (4089, 0.0), (4090, 0.0), (4091, 0.0), (4092, 0.0), (4095, 0.0), (4096, 0.0), (4097, 0.0), (4098, 0.0), (4100, 0.0), (4101, 0.0), (4103, 0.0), (4106, 0.0), (4107, 0.0), (4110, 0.0), (4111, 0.0), (4114, 0.0), (4115, 0.0), (4116, 0.0), (4119, 0.0), (4120, 0.0), (4123, 0.0), (4124, 0.0), (4125, 0.0), (4126, 0.0), (4127, 0.0), (4128, 0.0), (4129, 0.0), (4130, 0.0), (4131, 0.0), (4133, 0.0), (4134, 0.0), (4136, 0.0), (4137, 0.0), (4138, 0.0), (4139, 0.0), (4142, 0.0), (4144, 0.0), (4145, 0.0), (4146, 0.0), (4148, 0.0), (4149, 0.0), (4150, 0.0), (4151, 0.0), (4152, 0.0), (4153, 0.0), (4154, 0.0), (4157, 0.0), (4158, 0.0), (4159, 0.0), (4160, 0.0), (4161, 0.0), (4162, 0.0), (4163, 0.0), (4164, 0.0), (4165, 0.0), (4167, 0.0), (4168, 0.0), (4170, 0.0), (4172, 0.0), (4175, 0.0), (4176, 0.0), (4177, 0.0), (4178, 0.0), (4179, 0.0), (4180, 0.0), (4181, 0.0), (4182, 0.0), (4183, 0.0), (4184, 0.0), (4185, 0.0), (4187, 0.0), (4188, 0.0), (4189, 0.0), (4193, 0.0), (4194, 0.0), (4196, 0.0), (4199, 0.0), (4201, 0.0), (4202, 0.0), (4204, 0.0), (4205, 0.0), (4208, 0.0), (4209, 0.0), (4210, 0.0), (4211, 0.0), (4212, 0.0), (4214, 0.0), (4215, 0.0), (4216, 0.0), (4219, 0.0), (4220, 0.0), (4221, 0.0), (4225, 0.0), (4227, 0.0), (4228, 0.0), (4229, 0.0), (4230, 0.0), (4231, 0.0), (4232, 0.0), (4235, 0.0), (4236, 0.0), (4238, 0.0), (4239, 0.0), (4240, 0.0), (4243, 0.0), (4244, 0.0), (4247, 0.0), (4248, 0.0), (4249, 0.0), (4250, 0.0), (4251, 0.0), (4253, 0.0), (4255, 0.0), (4256, 0.0), (4257, 0.0), (4258, 0.0), (4260, 0.0), (4261, 0.0), (4262, 0.0), (4264, 0.0), (4265, 0.0), (4266, 0.0), (4267, 0.0), (4269, 0.0), (4270, 0.0), (4271, 0.0), (4273, 0.0), (4274, 0.0), (4275, 0.0), (4276, 0.0), (4277, 0.0), (4278, 0.0), (4279, 0.0), (4280, 0.0), (4281, 0.0), (4282, 0.0), (4283, 0.0), (4284, 0.0), (4286, 0.0), (4288, 0.0), (4289, 0.0), (4290, 0.0), (4291, 0.0), (4294, 0.0), (4296, 0.0), (4297, 0.0), (4298, 0.0), (4299, 0.0), (4301, 0.0), (4302, 0.0), (4303, 0.0), (4305, 0.0), (4306, 0.0), (4307, 0.0), (4309, 0.0), (4310, 0.0), (4311, 0.0), (4312, 0.0), (4313, 0.0), (4314, 0.0), (4316, 0.0), (4317, 0.0), (4318, 0.0), (4320, 0.0), (4322, 0.0), (4326, 0.0), (4328, 0.0), (4329, 0.0), (4330, 0.0), (4331, 0.0), (4332, 0.0), (4333, 0.0), (4334, 0.0), (4335, 0.0), (4336, 0.0), (4337, 0.0), (4338, 0.0), (4339, 0.0), (4340, 0.0), (4345, 0.0), (4348, 0.0), (4349, 0.0), (4350, 0.0), (4353, 0.0), (4354, 0.0), (4355, 0.0), (4358, 0.0), (4360, 0.0), (4362, 0.0), (4363, 0.0), (4364, 0.0), (4365, 0.0), (4366, 0.0), (4367, 0.0), (4368, 0.0), (4370, 0.0), (4371, 0.0), (4372, 0.0), (4373, 0.0), (4375, 0.0), (4376, 0.0), (4377, 0.0), (4379, 0.0), (4380, 0.0), (4381, 0.0), (4382, 0.0), (4383, 0.0), (4384, 0.0), (4385, 0.0), (4386, 0.0), (4387, 0.0), (4388, 0.0), (4390, 0.0), (4391, 0.0), (4392, 0.0), (4393, 0.0), (4394, 0.0), (4396, 0.0), (4397, 0.0), (4398, 0.0), (4399, 0.0), (4400, 0.0), (4401, 0.0), (4402, 0.0), (4403, 0.0), (4406, 0.0), (4407, 0.0), (4409, 0.0), (4411, 0.0), (4412, 0.0), (4413, 0.0), (4414, 0.0), (4415, 0.0), (4416, 0.0), (4417, 0.0), (4418, 0.0), (4419, 0.0), (4421, 0.0), (4423, 0.0), (4424, 0.0), (4425, 0.0), (4427, 0.0), (4428, 0.0), (4429, 0.0), (4430, 0.0), (4431, 0.0), (4432, 0.0), (4435, 0.0), (4436, 0.0), (4438, 0.0), (4439, 0.0), (4443, 0.0), (4444, 0.0), (4449, 0.0), (4450, 0.0), (4452, 0.0), (4454, 0.0), (4455, 0.0), (4456, 0.0), (4458, 0.0), (4459, 0.0), (4461, 0.0), (4462, 0.0), (4464, 0.0), (4465, 0.0), (4466, 0.0), (4467, 0.0), (4468, 0.0), (4469, 0.0), (4470, 0.0), (4471, 0.0), (4472, 0.0), (4474, 0.0), (4475, 0.0), (4476, 0.0), (4477, 0.0), (4480, 0.0), (4481, 0.0), (4482, 0.0), (4484, 0.0), (4485, 0.0), (4487, 0.0), (4488, 0.0), (4490, 0.0), (4491, 0.0), (4492, 0.0), (4493, 0.0), (4494, 0.0), (4496, 0.0), (4497, 0.0), (4499, 0.0), (4500, 0.0), (4501, 0.0), (4502, 0.0), (4503, 0.0), (4504, 0.0), (4505, 0.0), (4506, 0.0), (4507, 0.0), (4508, 0.0), (4509, 0.0), (4511, 0.0), (4512, 0.0), (4513, 0.0), (4515, 0.0), (4516, 0.0), (4517, 0.0), (4518, 0.0), (4520, 0.0), (4521, 0.0), (4523, 0.0), (4525, 0.0), (4526, 0.0), (4527, 0.0), (4528, 0.0), (4529, 0.0), (4530, 0.0), (4531, 0.0), (4532, 0.0), (4533, 0.0), (4535, 0.0), (4537, 0.0), (4538, 0.0), (4539, 0.0), (4540, 0.0), (4541, 0.0), (4543, 0.0), (4544, 0.0), (4545, 0.0), (4546, 0.0), (4547, 0.0), (4549, 0.0), (4550, 0.0), (4553, 0.0), (4554, 0.0), (4559, 0.0), (4561, 0.0), (4563, 0.0), (4564, 0.0), (4565, 0.0), (4566, 0.0), (4568, 0.0), (4569, 0.0), (4571, 0.0), (4572, 0.0), (4573, 0.0), (4574, 0.0), (4575, 0.0), (4576, 0.0), (4577, 0.0), (4578, 0.0), (4579, 0.0), (4581, 0.0), (4582, 0.0), (4583, 0.0), (4584, 0.0), (4586, 0.0), (4587, 0.0), (4588, 0.0), (4589, 0.0), (4590, 0.0), (4591, 0.0), (4593, 0.0), (4594, 0.0), (4595, 0.0), (4596, 0.0), (4597, 0.0), (4598, 0.0), (4601, 0.0), (4602, 0.0), (4604, 0.0), (4605, 0.0), (4608, 0.0), (4609, 0.0), (4610, 0.0), (4611, 0.0), (4612, 0.0), (4613, 0.0), (4615, 0.0), (4616, 0.0), (4617, 0.0), (4618, 0.0), (4619, 0.0), (4620, 0.0), (4621, 0.0), (4622, 0.0), (4624, 0.0), (4625, 0.0), (4626, 0.0), (4629, 0.0), (4630, 0.0), (4631, 0.0), (4632, 0.0), (4634, 0.0), (4635, 0.0), (4637, 0.0), (4638, 0.0), (4639, 0.0), (4640, 0.0), (4641, 0.0), (4642, 0.0), (4643, 0.0), (4644, 0.0), (4645, 0.0), (4646, 0.0), (4648, 0.0), (4649, 0.0), (4651, 0.0), (4654, 0.0), (4655, 0.0), (4656, 0.0), (4657, 0.0), (4659, 0.0), (4660, 0.0), (4661, 0.0), (4662, 0.0), (4663, 0.0), (4664, 0.0), (4665, 0.0), (4666, 0.0), (4667, 0.0), (4668, 0.0), (4669, 0.0), (4670, 0.0), (4671, 0.0), (4672, 0.0), (4673, 0.0), (4676, 0.0), (4678, 0.0), (4679, 0.0), (4680, 0.0), (4681, 0.0), (4682, 0.0), (4683, 0.0), (4684, 0.0), (4685, 0.0), (4686, 0.0), (4687, 0.0), (4689, 0.0), (4690, 0.0), (4691, 0.0), (4692, 0.0), (4693, 0.0), (4694, 0.0), (4695, 0.0), (4696, 0.0), (4697, 0.0), (4698, 0.0), (4699, 0.0), (4701, 0.0), (4702, 0.0), (4703, 0.0), (4705, 0.0), (4706, 0.0), (4707, 0.0), (4708, 0.0), (4709, 0.0), (4710, 0.0), (4711, 0.0), (4712, 0.0), (4713, 0.0), (4714, 0.0), (4715, 0.0), (4716, 0.0), (4718, 0.0), (4722, 0.0), (4723, 0.0), (4724, 0.0), (4726, 0.0), (4727, 0.0), (4728, 0.0), (4729, 0.0), (4730, 0.0), (4731, 0.0), (4732, 0.0), (4733, 0.0), (4734, 0.0), (4735, 0.0), (4737, 0.0), (4739, 0.0), (4740, 0.0), (4741, 0.0), (4742, 0.0), (4745, 0.0), (4748, 0.0), (4749, 0.0), (4750, 0.0), (4751, 0.0), (4752, 0.0), (4753, 0.0), (4754, 0.0), (4755, 0.0), (4757, 0.0), (4758, 0.0), (4759, 0.0)]\n"
          ]
        }
      ]
    },
    {
      "cell_type": "code",
      "source": [
        "#print the name of similar movie based on the index\n",
        "print('Top 30 Movies Suggested for You : \\n')\n",
        "\n",
        "i = 1\n",
        "\n",
        "for movie in Sorted_Similar_Movies:\n",
        "  index = movie[0]\n",
        "  title_from_index=df[df.index==index]['Movie_Title'].values[0]\n",
        "  if (i<31):\n",
        "    print(i,'.',title_from_index)\n",
        "    i+=1"
      ],
      "metadata": {
        "id": "YsXjkwpjRKi1",
        "colab": {
          "base_uri": "https://localhost:8080/"
        },
        "outputId": "20741266-5bf1-4f91-fd96-cc5507d6c2f9"
      },
      "execution_count": 33,
      "outputs": [
        {
          "output_type": "stream",
          "name": "stdout",
          "text": [
            "Top 30 Movies Suggested for You : \n",
            "\n",
            "1 . Trippin'\n",
            "2 . Hatchet\n",
            "3 . Good Boy!\n",
            "4 . The Best of Me\n",
            "5 . Quigley Down Under\n",
            "6 . My Name Is Bruce\n",
            "7 . Sugar Hill\n",
            "8 . Skyline\n",
            "9 . Let's Kill Ward's Wife\n",
            "10 . The Passion of the Christ\n",
            "11 . Next Day Air\n",
            "12 . Whatever It Takes\n",
            "13 . The Dead Zone\n",
            "14 . This Is Martin Bonner\n",
            "15 . The Night Visitor\n",
            "16 . High School Musical\n",
            "17 . Bambi\n",
            "18 . Poetic Justice\n",
            "19 . The Yards\n",
            "20 . The Silence of the Lambs\n",
            "21 . The Death and Life of Bobby Z\n",
            "22 . Tupac: Resurrection\n",
            "23 . Casino Royale\n",
            "24 . Earth\n",
            "25 . The Girl Next Door\n",
            "26 . Made of Honor\n",
            "27 . Drive Me Crazy\n",
            "28 . Clueless\n",
            "29 . Tadpole\n",
            "30 . Point Blank\n"
          ]
        }
      ]
    },
    {
      "cell_type": "markdown",
      "source": [
        "**Top 10 Movies Recommendation System**"
      ],
      "metadata": {
        "id": "4eC1x7zhqHX7"
      }
    },
    {
      "cell_type": "code",
      "source": [
        "Movie_Name=input('Enter your favourite movie name:')\n",
        "list_of_all_titles=df['Movie_Title'].tolist()\n",
        "Find_Close_Match=difflib.get_close_matches(Movie_Name,list_of_all_titles)\n",
        "Close_Match=Find_Close_Match[0]\n",
        "Index_of_Movie=df[df.Movie_Title==Close_Match]['Movie_ID'].values[0]\n",
        "Recommendation_Score = list(enumerate(similarity_Score[Index_of_Movie]))\n",
        "sorted_similar_movies=sorted(Recommendation_Score,key=lambda x:x[1],reverse=True)\n",
        "print('Top 10 Movies suggested for you:\\n')\n",
        "i=1\n",
        "for movie in sorted_similar_movies:\n",
        "  index = movie[0]\n",
        "  title_from_index=df[df.Movie_ID==index]['Movie_Title'].values\n",
        "  if (i<11):\n",
        "    print(i,'.',title_from_index)\n",
        "    i+=1"
      ],
      "metadata": {
        "colab": {
          "base_uri": "https://localhost:8080/"
        },
        "id": "loH-VQsxqOiY",
        "outputId": "5c9dde9a-976f-439c-e4de-31a01b6d53b9"
      },
      "execution_count": 34,
      "outputs": [
        {
          "output_type": "stream",
          "name": "stdout",
          "text": [
            "Enter your favourite movie name:three\n",
            "Top 10 Movies suggested for you:\n",
            "\n",
            "1 . ['Three']\n",
            "2 . ['Young Sherlock Holmes']\n",
            "3 . ['The Brothers Bloom']\n",
            "4 . ['Signed, Sealed, Delivered']\n",
            "5 . ['Little Women']\n",
            "6 . ['8 Women']\n",
            "7 . ['Real Steel']\n",
            "8 . ['Darling Lili']\n",
            "9 . ['Bridge of Spies']\n",
            "10 . ['Downfall']\n"
          ]
        }
      ]
    }
  ]
}